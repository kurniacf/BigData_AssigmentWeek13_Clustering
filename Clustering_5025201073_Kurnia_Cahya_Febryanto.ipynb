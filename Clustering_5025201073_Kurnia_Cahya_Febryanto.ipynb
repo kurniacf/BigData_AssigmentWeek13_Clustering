{
  "nbformat": 4,
  "nbformat_minor": 0,
  "metadata": {
    "colab": {
      "provenance": [],
      "authorship_tag": "ABX9TyN4oqyecMZ/UOc6f7R0MV/Y"
    },
    "kernelspec": {
      "name": "python3",
      "display_name": "Python 3"
    },
    "language_info": {
      "name": "python"
    }
  },
  "cells": [
    {
      "cell_type": "markdown",
      "source": [
        "# BIG DATA ASSIGNMENT WEEK 13\n",
        "## Clustering\n",
        "- Name: Kurnia Cahya Febryanto\n",
        "- Student ID: 5025201073\n",
        "- Class: Big Data A\n",
        "- Lecturer: Abdul Munif, S.Kom., M.Sc."
      ],
      "metadata": {
        "id": "wsgXjJiU2HYH"
      }
    },
    {
      "cell_type": "markdown",
      "source": [
        "## Reference\n",
        "- https://runawayhorse001.github.io/LearningApacheSpark/clustering.html\n",
        "- Part I: https://medium.com/@josephgeorgelewis2000/end-to-end-pyspark-clustering-part-i-using-colab-for-pyspark-and-collecting-data-6b94b58baeab\n",
        "- Part II: https://medium.com/@josephgeorgelewis2000/end-to-end-pyspark-clustering-part-ii-preprocessing-and-model-building-in-colab-1c2d0d8f2a23"
      ],
      "metadata": {
        "id": "iArMubXF2L-n"
      }
    },
    {
      "cell_type": "markdown",
      "source": [
        "## Clustering Reference 1\n",
        "#### Reference Runawayhorse001\n",
        "\n"
      ],
      "metadata": {
        "id": "Ba8tAFwU2awS"
      }
    },
    {
      "cell_type": "markdown",
      "source": [
        "### K-Means Model\n",
        "#### Introduction\n",
        "k-means clustering is a method of vector quantization, originally from signal processing, that is popular for cluster analysis in data mining. The approach k-means follows to solve the problem is called Expectation-Maximization. It can be described as follows:\n",
        "1. Assign some cluter centers\n",
        "2. Repeated until converged\n",
        "    - E-Step: assign points to the nearest center\n",
        "    - M-step: set the cluster center to the mean\n"
      ],
      "metadata": {
        "id": "0IuT4Y8E2h7f"
      }
    },
    {
      "cell_type": "markdown",
      "source": [
        "### Demo"
      ],
      "metadata": {
        "id": "bkTFlEXW23xA"
      }
    },
    {
      "cell_type": "markdown",
      "source": [
        "#### Set up spark context and SparkSession"
      ],
      "metadata": {
        "id": "pzxzPDdB3Crv"
      }
    },
    {
      "cell_type": "code",
      "source": [
        "!pip install pyspark"
      ],
      "metadata": {
        "colab": {
          "base_uri": "https://localhost:8080/"
        },
        "id": "DDamtasY3RhI",
        "outputId": "aa45b4c0-23d5-4c2e-f089-2d7d603a2523"
      },
      "execution_count": null,
      "outputs": [
        {
          "output_type": "stream",
          "name": "stdout",
          "text": [
            "Looking in indexes: https://pypi.org/simple, https://us-python.pkg.dev/colab-wheels/public/simple/\n",
            "Requirement already satisfied: pyspark in /usr/local/lib/python3.10/dist-packages (3.4.0)\n",
            "Requirement already satisfied: py4j==0.10.9.7 in /usr/local/lib/python3.10/dist-packages (from pyspark) (0.10.9.7)\n"
          ]
        }
      ]
    },
    {
      "cell_type": "code",
      "execution_count": null,
      "metadata": {
        "id": "E6Fple0RR7OE"
      },
      "outputs": [],
      "source": [
        "from pyspark.sql import SparkSession\n",
        "\n",
        "spark = SparkSession \\\n",
        "    .builder \\\n",
        "    .appName(\"Python Spark K-means example\") \\\n",
        "    .config(\"spark.some.config.option\", \"some-value\") \\\n",
        "    .getOrCreate()"
      ]
    },
    {
      "cell_type": "markdown",
      "source": [
        "#### Load dataset"
      ],
      "metadata": {
        "id": "koJ194Et47Jz"
      }
    },
    {
      "cell_type": "code",
      "source": [
        "from google.colab import files\n",
        "uploaded = files.upload()"
      ],
      "metadata": {
        "colab": {
          "base_uri": "https://localhost:8080/",
          "height": 74
        },
        "id": "rVdBT1PqDgmt",
        "outputId": "2bc29339-ba24-4ea7-98c7-736a3b422e47"
      },
      "execution_count": null,
      "outputs": [
        {
          "output_type": "display_data",
          "data": {
            "text/plain": [
              "<IPython.core.display.HTML object>"
            ],
            "text/html": [
              "\n",
              "     <input type=\"file\" id=\"files-8dc8f764-564b-4125-9859-c21fd4b76d12\" name=\"files[]\" multiple disabled\n",
              "        style=\"border:none\" />\n",
              "     <output id=\"result-8dc8f764-564b-4125-9859-c21fd4b76d12\">\n",
              "      Upload widget is only available when the cell has been executed in the\n",
              "      current browser session. Please rerun this cell to enable.\n",
              "      </output>\n",
              "      <script>// Copyright 2017 Google LLC\n",
              "//\n",
              "// Licensed under the Apache License, Version 2.0 (the \"License\");\n",
              "// you may not use this file except in compliance with the License.\n",
              "// You may obtain a copy of the License at\n",
              "//\n",
              "//      http://www.apache.org/licenses/LICENSE-2.0\n",
              "//\n",
              "// Unless required by applicable law or agreed to in writing, software\n",
              "// distributed under the License is distributed on an \"AS IS\" BASIS,\n",
              "// WITHOUT WARRANTIES OR CONDITIONS OF ANY KIND, either express or implied.\n",
              "// See the License for the specific language governing permissions and\n",
              "// limitations under the License.\n",
              "\n",
              "/**\n",
              " * @fileoverview Helpers for google.colab Python module.\n",
              " */\n",
              "(function(scope) {\n",
              "function span(text, styleAttributes = {}) {\n",
              "  const element = document.createElement('span');\n",
              "  element.textContent = text;\n",
              "  for (const key of Object.keys(styleAttributes)) {\n",
              "    element.style[key] = styleAttributes[key];\n",
              "  }\n",
              "  return element;\n",
              "}\n",
              "\n",
              "// Max number of bytes which will be uploaded at a time.\n",
              "const MAX_PAYLOAD_SIZE = 100 * 1024;\n",
              "\n",
              "function _uploadFiles(inputId, outputId) {\n",
              "  const steps = uploadFilesStep(inputId, outputId);\n",
              "  const outputElement = document.getElementById(outputId);\n",
              "  // Cache steps on the outputElement to make it available for the next call\n",
              "  // to uploadFilesContinue from Python.\n",
              "  outputElement.steps = steps;\n",
              "\n",
              "  return _uploadFilesContinue(outputId);\n",
              "}\n",
              "\n",
              "// This is roughly an async generator (not supported in the browser yet),\n",
              "// where there are multiple asynchronous steps and the Python side is going\n",
              "// to poll for completion of each step.\n",
              "// This uses a Promise to block the python side on completion of each step,\n",
              "// then passes the result of the previous step as the input to the next step.\n",
              "function _uploadFilesContinue(outputId) {\n",
              "  const outputElement = document.getElementById(outputId);\n",
              "  const steps = outputElement.steps;\n",
              "\n",
              "  const next = steps.next(outputElement.lastPromiseValue);\n",
              "  return Promise.resolve(next.value.promise).then((value) => {\n",
              "    // Cache the last promise value to make it available to the next\n",
              "    // step of the generator.\n",
              "    outputElement.lastPromiseValue = value;\n",
              "    return next.value.response;\n",
              "  });\n",
              "}\n",
              "\n",
              "/**\n",
              " * Generator function which is called between each async step of the upload\n",
              " * process.\n",
              " * @param {string} inputId Element ID of the input file picker element.\n",
              " * @param {string} outputId Element ID of the output display.\n",
              " * @return {!Iterable<!Object>} Iterable of next steps.\n",
              " */\n",
              "function* uploadFilesStep(inputId, outputId) {\n",
              "  const inputElement = document.getElementById(inputId);\n",
              "  inputElement.disabled = false;\n",
              "\n",
              "  const outputElement = document.getElementById(outputId);\n",
              "  outputElement.innerHTML = '';\n",
              "\n",
              "  const pickedPromise = new Promise((resolve) => {\n",
              "    inputElement.addEventListener('change', (e) => {\n",
              "      resolve(e.target.files);\n",
              "    });\n",
              "  });\n",
              "\n",
              "  const cancel = document.createElement('button');\n",
              "  inputElement.parentElement.appendChild(cancel);\n",
              "  cancel.textContent = 'Cancel upload';\n",
              "  const cancelPromise = new Promise((resolve) => {\n",
              "    cancel.onclick = () => {\n",
              "      resolve(null);\n",
              "    };\n",
              "  });\n",
              "\n",
              "  // Wait for the user to pick the files.\n",
              "  const files = yield {\n",
              "    promise: Promise.race([pickedPromise, cancelPromise]),\n",
              "    response: {\n",
              "      action: 'starting',\n",
              "    }\n",
              "  };\n",
              "\n",
              "  cancel.remove();\n",
              "\n",
              "  // Disable the input element since further picks are not allowed.\n",
              "  inputElement.disabled = true;\n",
              "\n",
              "  if (!files) {\n",
              "    return {\n",
              "      response: {\n",
              "        action: 'complete',\n",
              "      }\n",
              "    };\n",
              "  }\n",
              "\n",
              "  for (const file of files) {\n",
              "    const li = document.createElement('li');\n",
              "    li.append(span(file.name, {fontWeight: 'bold'}));\n",
              "    li.append(span(\n",
              "        `(${file.type || 'n/a'}) - ${file.size} bytes, ` +\n",
              "        `last modified: ${\n",
              "            file.lastModifiedDate ? file.lastModifiedDate.toLocaleDateString() :\n",
              "                                    'n/a'} - `));\n",
              "    const percent = span('0% done');\n",
              "    li.appendChild(percent);\n",
              "\n",
              "    outputElement.appendChild(li);\n",
              "\n",
              "    const fileDataPromise = new Promise((resolve) => {\n",
              "      const reader = new FileReader();\n",
              "      reader.onload = (e) => {\n",
              "        resolve(e.target.result);\n",
              "      };\n",
              "      reader.readAsArrayBuffer(file);\n",
              "    });\n",
              "    // Wait for the data to be ready.\n",
              "    let fileData = yield {\n",
              "      promise: fileDataPromise,\n",
              "      response: {\n",
              "        action: 'continue',\n",
              "      }\n",
              "    };\n",
              "\n",
              "    // Use a chunked sending to avoid message size limits. See b/62115660.\n",
              "    let position = 0;\n",
              "    do {\n",
              "      const length = Math.min(fileData.byteLength - position, MAX_PAYLOAD_SIZE);\n",
              "      const chunk = new Uint8Array(fileData, position, length);\n",
              "      position += length;\n",
              "\n",
              "      const base64 = btoa(String.fromCharCode.apply(null, chunk));\n",
              "      yield {\n",
              "        response: {\n",
              "          action: 'append',\n",
              "          file: file.name,\n",
              "          data: base64,\n",
              "        },\n",
              "      };\n",
              "\n",
              "      let percentDone = fileData.byteLength === 0 ?\n",
              "          100 :\n",
              "          Math.round((position / fileData.byteLength) * 100);\n",
              "      percent.textContent = `${percentDone}% done`;\n",
              "\n",
              "    } while (position < fileData.byteLength);\n",
              "  }\n",
              "\n",
              "  // All done.\n",
              "  yield {\n",
              "    response: {\n",
              "      action: 'complete',\n",
              "    }\n",
              "  };\n",
              "}\n",
              "\n",
              "scope.google = scope.google || {};\n",
              "scope.google.colab = scope.google.colab || {};\n",
              "scope.google.colab._files = {\n",
              "  _uploadFiles,\n",
              "  _uploadFilesContinue,\n",
              "};\n",
              "})(self);\n",
              "</script> "
            ]
          },
          "metadata": {}
        },
        {
          "output_type": "stream",
          "name": "stdout",
          "text": [
            "Saving Iris.csv to Iris (2).csv\n"
          ]
        }
      ]
    },
    {
      "cell_type": "code",
      "source": [
        "!ls"
      ],
      "metadata": {
        "colab": {
          "base_uri": "https://localhost:8080/"
        },
        "id": "7gMbK7vuEteX",
        "outputId": "34278315-081e-474f-9270-1c323b7c606e"
      },
      "execution_count": null,
      "outputs": [
        {
          "output_type": "stream",
          "name": "stdout",
          "text": [
            "'Iris (1).csv'\t'Iris (2).csv'\t Iris.csv   sample_data\n"
          ]
        }
      ]
    },
    {
      "cell_type": "code",
      "source": [
        "df = spark.read.format('csv') \\\n",
        "               .options(header='true', inferschema='true') \\\n",
        "               .load(\"Iris.csv\", header=True)"
      ],
      "metadata": {
        "id": "ZXaWd9ud49CM"
      },
      "execution_count": null,
      "outputs": []
    },
    {
      "cell_type": "markdown",
      "source": [
        "check the data set"
      ],
      "metadata": {
        "id": "fbAT58QU5BJU"
      }
    },
    {
      "cell_type": "code",
      "source": [
        "df.show(5,True)\n",
        "df.printSchema()"
      ],
      "metadata": {
        "colab": {
          "base_uri": "https://localhost:8080/"
        },
        "id": "u-hbkimqE1As",
        "outputId": "e2edb2ff-4502-4fd2-8ef0-4d44435ec289"
      },
      "execution_count": null,
      "outputs": [
        {
          "output_type": "stream",
          "name": "stdout",
          "text": [
            "+---+-------------+------------+-------------+------------+-----------+\n",
            "| Id|SepalLengthCm|SepalWidthCm|PetalLengthCm|PetalWidthCm|    Species|\n",
            "+---+-------------+------------+-------------+------------+-----------+\n",
            "|  1|          5.1|         3.5|          1.4|         0.2|Iris-setosa|\n",
            "|  2|          4.9|         3.0|          1.4|         0.2|Iris-setosa|\n",
            "|  3|          4.7|         3.2|          1.3|         0.2|Iris-setosa|\n",
            "|  4|          4.6|         3.1|          1.5|         0.2|Iris-setosa|\n",
            "|  5|          5.0|         3.6|          1.4|         0.2|Iris-setosa|\n",
            "+---+-------------+------------+-------------+------------+-----------+\n",
            "only showing top 5 rows\n",
            "\n",
            "root\n",
            " |-- Id: integer (nullable = true)\n",
            " |-- SepalLengthCm: double (nullable = true)\n",
            " |-- SepalWidthCm: double (nullable = true)\n",
            " |-- PetalLengthCm: double (nullable = true)\n",
            " |-- PetalWidthCm: double (nullable = true)\n",
            " |-- Species: string (nullable = true)\n",
            "\n"
          ]
        }
      ]
    },
    {
      "cell_type": "markdown",
      "source": [
        "You can also get the Statistical resutls from the data frame (Unfortunately, it only works for numerical)."
      ],
      "metadata": {
        "id": "qigWwyfyE5JG"
      }
    },
    {
      "cell_type": "code",
      "source": [
        "df.describe().show()"
      ],
      "metadata": {
        "colab": {
          "base_uri": "https://localhost:8080/"
        },
        "id": "1YBqUHKrE6Gj",
        "outputId": "af0e2f8e-d209-4b57-ec4a-b3d4e9ac643c"
      },
      "execution_count": null,
      "outputs": [
        {
          "output_type": "stream",
          "name": "stdout",
          "text": [
            "+-------+------------------+------------------+-------------------+------------------+------------------+--------------+\n",
            "|summary|                Id|     SepalLengthCm|       SepalWidthCm|     PetalLengthCm|      PetalWidthCm|       Species|\n",
            "+-------+------------------+------------------+-------------------+------------------+------------------+--------------+\n",
            "|  count|               150|               150|                150|               150|               150|           150|\n",
            "|   mean|              75.5| 5.843333333333335| 3.0540000000000007|3.7586666666666693|1.1986666666666672|          null|\n",
            "| stddev|43.445367992456916|0.8280661279778637|0.43359431136217375| 1.764420419952262|0.7631607417008414|          null|\n",
            "|    min|                 1|               4.3|                2.0|               1.0|               0.1|   Iris-setosa|\n",
            "|    max|               150|               7.9|                4.4|               6.9|               2.5|Iris-virginica|\n",
            "+-------+------------------+------------------+-------------------+------------------+------------------+--------------+\n",
            "\n"
          ]
        }
      ]
    },
    {
      "cell_type": "markdown",
      "source": [
        "#### Convert the data to dense vector (features)"
      ],
      "metadata": {
        "id": "0o8o-m4sE8p4"
      }
    },
    {
      "cell_type": "code",
      "source": [
        "# convert the data to dense vector\n",
        "from pyspark.ml.linalg import Vectors\n",
        "\n",
        "def transData(data):\n",
        "    return data.rdd.map(lambda r: [Vectors.dense(r[:-1])]).toDF(['features'])"
      ],
      "metadata": {
        "id": "zO4OzAzzE9mT"
      },
      "execution_count": null,
      "outputs": []
    },
    {
      "cell_type": "markdown",
      "source": [
        "You are strongly encouraged to try my `get_dummy` function for dealing with the categorical data in complex dataset.\n",
        "\n",
        "Supervised learning version:"
      ],
      "metadata": {
        "id": "MeFxYFYVFDsJ"
      }
    },
    {
      "cell_type": "code",
      "source": [
        "def get_dummy(df,indexCol,categoricalCols,continuousCols,labelCol):\n",
        "\n",
        "    from pyspark.ml import Pipeline\n",
        "    from pyspark.ml.feature import StringIndexer, OneHotEncoder, VectorAssembler\n",
        "    from pyspark.sql.functions import col\n",
        "\n",
        "    indexers = [ StringIndexer(inputCol=c, outputCol=\"{0}_indexed\".format(c))\n",
        "                 for c in categoricalCols ]\n",
        "\n",
        "    # default setting: dropLast=True\n",
        "    encoders = [ OneHotEncoder(inputCol=indexer.getOutputCol(),\n",
        "                 outputCol=\"{0}_encoded\".format(indexer.getOutputCol()))\n",
        "                 for indexer in indexers ]\n",
        "\n",
        "    assembler = VectorAssembler(inputCols=[encoder.getOutputCol() for encoder in encoders]\n",
        "                                + continuousCols, outputCol=\"features\")\n",
        "\n",
        "    pipeline = Pipeline(stages=indexers + encoders + [assembler])\n",
        "\n",
        "    model=pipeline.fit(df)\n",
        "    data = model.transform(df)\n",
        "\n",
        "    data = data.withColumn('label',col(labelCol))\n",
        "\n",
        "    return data.select(indexCol,'features','label')"
      ],
      "metadata": {
        "id": "owgt7TGLFEDQ"
      },
      "execution_count": null,
      "outputs": []
    },
    {
      "cell_type": "markdown",
      "source": [
        "Unsupervised learning version:"
      ],
      "metadata": {
        "id": "5ZqbpHgrFItm"
      }
    },
    {
      "cell_type": "code",
      "source": [
        "def get_dummy(df,indexCol,categoricalCols,continuousCols):\n",
        "    '''\n",
        "    Get dummy variables and concat with continuous variables for unsupervised learning.\n",
        "    :param df: the dataframe\n",
        "    :param categoricalCols: the name list of the categorical data\n",
        "    :param continuousCols:  the name list of the numerical data\n",
        "    :return k: feature matrix\n",
        "\n",
        "    :author: Wenqiang Feng\n",
        "    :email:  von198@gmail.com\n",
        "    '''\n",
        "\n",
        "    indexers = [ StringIndexer(inputCol=c, outputCol=\"{0}_indexed\".format(c))\n",
        "                 for c in categoricalCols ]\n",
        "\n",
        "    # default setting: dropLast=True\n",
        "    encoders = [ OneHotEncoder(inputCol=indexer.getOutputCol(),\n",
        "                 outputCol=\"{0}_encoded\".format(indexer.getOutputCol()))\n",
        "                 for indexer in indexers ]\n",
        "\n",
        "    assembler = VectorAssembler(inputCols=[encoder.getOutputCol() for encoder in encoders]\n",
        "                                + continuousCols, outputCol=\"features\")\n",
        "\n",
        "    pipeline = Pipeline(stages=indexers + encoders + [assembler])\n",
        "\n",
        "    model=pipeline.fit(df)\n",
        "    data = model.transform(df)\n",
        "\n",
        "    return data.select(indexCol,'features')"
      ],
      "metadata": {
        "id": "QmEL0WEAFHtR"
      },
      "execution_count": null,
      "outputs": []
    },
    {
      "cell_type": "markdown",
      "source": [
        "Two in one:"
      ],
      "metadata": {
        "id": "EnRfgVDEFMu-"
      }
    },
    {
      "cell_type": "code",
      "source": [
        "def get_dummy(df,indexCol,categoricalCols,continuousCols,labelCol,dropLast=False):\n",
        "\n",
        "    '''\n",
        "    Get dummy variables and concat with continuous variables for ml modeling.\n",
        "    :param df: the dataframe\n",
        "    :param categoricalCols: the name list of the categorical data\n",
        "    :param continuousCols:  the name list of the numerical data\n",
        "    :param labelCol:  the name of label column\n",
        "    :param dropLast:  the flag of drop last column\n",
        "    :return: feature matrix\n",
        "\n",
        "    :author: Wenqiang Feng\n",
        "    :email:  von198@gmail.com\n",
        "\n",
        "    >>> df = spark.createDataFrame([\n",
        "                  (0, \"a\"),\n",
        "                  (1, \"b\"),\n",
        "                  (2, \"c\"),\n",
        "                  (3, \"a\"),\n",
        "                  (4, \"a\"),\n",
        "                  (5, \"c\")\n",
        "              ], [\"id\", \"category\"])\n",
        "\n",
        "    >>> indexCol = 'id'\n",
        "    >>> categoricalCols = ['category']\n",
        "    >>> continuousCols = []\n",
        "    >>> labelCol = []\n",
        "\n",
        "    >>> mat = get_dummy(df,indexCol,categoricalCols,continuousCols,labelCol)\n",
        "    >>> mat.show()\n",
        "\n",
        "    >>>\n",
        "        +---+-------------+\n",
        "        | id|     features|\n",
        "        +---+-------------+\n",
        "        |  0|[1.0,0.0,0.0]|\n",
        "        |  1|[0.0,0.0,1.0]|\n",
        "        |  2|[0.0,1.0,0.0]|\n",
        "        |  3|[1.0,0.0,0.0]|\n",
        "        |  4|[1.0,0.0,0.0]|\n",
        "        |  5|[0.0,1.0,0.0]|\n",
        "        +---+-------------+\n",
        "    '''\n",
        "\n",
        "    from pyspark.ml import Pipeline\n",
        "    from pyspark.ml.feature import StringIndexer, OneHotEncoder, VectorAssembler\n",
        "    from pyspark.sql.functions import col\n",
        "\n",
        "    indexers = [ StringIndexer(inputCol=c, outputCol=\"{0}_indexed\".format(c))\n",
        "                 for c in categoricalCols ]\n",
        "\n",
        "    # default setting: dropLast=True\n",
        "    encoders = [ OneHotEncoder(inputCol=indexer.getOutputCol(),\n",
        "                 outputCol=\"{0}_encoded\".format(indexer.getOutputCol()),dropLast=dropLast)\n",
        "                 for indexer in indexers ]\n",
        "\n",
        "    assembler = VectorAssembler(inputCols=[encoder.getOutputCol() for encoder in encoders]\n",
        "                                + continuousCols, outputCol=\"features\")\n",
        "\n",
        "    pipeline = Pipeline(stages=indexers + encoders + [assembler])\n",
        "\n",
        "    model=pipeline.fit(df)\n",
        "    data = model.transform(df)\n",
        "\n",
        "    if indexCol and labelCol:\n",
        "        # for supervised learning\n",
        "        data = data.withColumn('label',col(labelCol))\n",
        "        return data.select(indexCol,'features','label')\n",
        "    elif not indexCol and labelCol:\n",
        "        # for supervised learning\n",
        "        data = data.withColumn('label',col(labelCol))\n",
        "        return data.select('features','label')\n",
        "    elif indexCol and not labelCol:\n",
        "        # for unsupervised learning\n",
        "        return data.select(indexCol,'features')\n",
        "    elif not indexCol and not labelCol:\n",
        "        # for unsupervised learning\n",
        "        return data.select('features')"
      ],
      "metadata": {
        "id": "WbxABcS3FNit"
      },
      "execution_count": null,
      "outputs": []
    },
    {
      "cell_type": "markdown",
      "source": [
        "#### Transform the dataset to DataFrame"
      ],
      "metadata": {
        "id": "hI1TKS5DFQlF"
      }
    },
    {
      "cell_type": "code",
      "source": [
        "transformed= transData(df)\n",
        "transformed.show(5, False)"
      ],
      "metadata": {
        "colab": {
          "base_uri": "https://localhost:8080/"
        },
        "id": "gHwWqXNpFRlr",
        "outputId": "83d8aaaa-d3c4-46ac-c02a-41ad4fc750d9"
      },
      "execution_count": null,
      "outputs": [
        {
          "output_type": "stream",
          "name": "stdout",
          "text": [
            "+---------------------+\n",
            "|features             |\n",
            "+---------------------+\n",
            "|[1.0,5.1,3.5,1.4,0.2]|\n",
            "|[2.0,4.9,3.0,1.4,0.2]|\n",
            "|[3.0,4.7,3.2,1.3,0.2]|\n",
            "|[4.0,4.6,3.1,1.5,0.2]|\n",
            "|[5.0,5.0,3.6,1.4,0.2]|\n",
            "+---------------------+\n",
            "only showing top 5 rows\n",
            "\n"
          ]
        }
      ]
    },
    {
      "cell_type": "markdown",
      "source": [
        "#### Deal With Categorical Variables"
      ],
      "metadata": {
        "id": "ObX-rbVnFT5e"
      }
    },
    {
      "cell_type": "code",
      "source": [
        "from pyspark.ml import Pipeline\n",
        "from pyspark.ml.regression import LinearRegression\n",
        "from pyspark.ml.feature import VectorIndexer\n",
        "from pyspark.ml.evaluation import RegressionEvaluator\n",
        "\n",
        "# Automatically identify categorical features, and index them.\n",
        "# We specify maxCategories so features with > 4 distinct values are treated as continuous.\n",
        "\n",
        "featureIndexer = VectorIndexer(inputCol=\"features\", \\\n",
        "                               outputCol=\"indexedFeatures\",\\\n",
        "                               maxCategories=4).fit(transformed)\n",
        "\n",
        "data = featureIndexer.transform(transformed)"
      ],
      "metadata": {
        "id": "C4XnUoFIFWm0"
      },
      "execution_count": null,
      "outputs": []
    },
    {
      "cell_type": "markdown",
      "source": [
        "Now you check your dataset with"
      ],
      "metadata": {
        "id": "1NwaDRuUISo9"
      }
    },
    {
      "cell_type": "code",
      "source": [
        "data.show(5,True)"
      ],
      "metadata": {
        "colab": {
          "base_uri": "https://localhost:8080/"
        },
        "id": "kRhjgKDDITW4",
        "outputId": "be76fb55-e6eb-4144-bce1-ce68d22be5ad"
      },
      "execution_count": null,
      "outputs": [
        {
          "output_type": "stream",
          "name": "stdout",
          "text": [
            "+--------------------+--------------------+\n",
            "|            features|     indexedFeatures|\n",
            "+--------------------+--------------------+\n",
            "|[1.0,5.1,3.5,1.4,...|[1.0,5.1,3.5,1.4,...|\n",
            "|[2.0,4.9,3.0,1.4,...|[2.0,4.9,3.0,1.4,...|\n",
            "|[3.0,4.7,3.2,1.3,...|[3.0,4.7,3.2,1.3,...|\n",
            "|[4.0,4.6,3.1,1.5,...|[4.0,4.6,3.1,1.5,...|\n",
            "|[5.0,5.0,3.6,1.4,...|[5.0,5.0,3.6,1.4,...|\n",
            "+--------------------+--------------------+\n",
            "only showing top 5 rows\n",
            "\n"
          ]
        }
      ]
    },
    {
      "cell_type": "markdown",
      "source": [
        "Since clustering algorithms including k-means use distance-based measurements to determine the similarity between data points, It’s strongly recommended to standardize the data to have a mean of zero and a standard deviation of one."
      ],
      "metadata": {
        "id": "OQGhm2ByIYlD"
      }
    },
    {
      "cell_type": "markdown",
      "source": [
        "#### Elbow method to determine the optimal number of clusters for k-means clustering"
      ],
      "metadata": {
        "id": "NZX-b29iIZP5"
      }
    },
    {
      "cell_type": "code",
      "source": [
        "from pyspark.ml.clustering import KMeans"
      ],
      "metadata": {
        "id": "bAkjLMaIJNLu"
      },
      "execution_count": null,
      "outputs": []
    },
    {
      "cell_type": "code",
      "source": [
        "import numpy as np\n",
        "from pyspark.ml.clustering import KMeans\n",
        "\n",
        "cost = np.zeros(20)\n",
        "for k in range(2,20):\n",
        "    kmeans = KMeans()\\\n",
        "            .setK(k)\\\n",
        "            .setSeed(1) \\\n",
        "            .setFeaturesCol(\"indexedFeatures\")\\\n",
        "            .setPredictionCol(\"cluster\")\n",
        "\n",
        "    model = kmeans.fit(data)\n",
        "    cost[k] = model.summary.trainingCost\n"
      ],
      "metadata": {
        "id": "L8O8iQuiIbT2"
      },
      "execution_count": null,
      "outputs": []
    },
    {
      "cell_type": "code",
      "source": [
        "import numpy as np\n",
        "import matplotlib.mlab as mlab\n",
        "import matplotlib.pyplot as plt\n",
        "import seaborn as sbs\n",
        "from matplotlib.ticker import MaxNLocator\n",
        "\n",
        "fig, ax = plt.subplots(1,1, figsize =(8,6))\n",
        "ax.plot(range(2,20),cost[2:20])\n",
        "ax.set_xlabel('k')\n",
        "ax.set_ylabel('cost')\n",
        "ax.xaxis.set_major_locator(MaxNLocator(integer=True))\n",
        "plt.show()"
      ],
      "metadata": {
        "colab": {
          "base_uri": "https://localhost:8080/",
          "height": 542
        },
        "id": "oCyi2M3rNUqY",
        "outputId": "ee460b03-fc05-40be-919a-7d71667052c5"
      },
      "execution_count": null,
      "outputs": [
        {
          "output_type": "display_data",
          "data": {
            "text/plain": [
              "<Figure size 800x600 with 1 Axes>"
            ],
            "image/png": "[encoded data removed]"
          },
          "metadata": {}
        }
      ]
    },
    {
      "cell_type": "markdown",
      "source": [
        "In my opinion, sometimes it’s hard to choose the optimal number of the clusters by using the elbow method. As shown in the following Figure, you can choose 3, 5 or even 8. I will choose 3 in this demo."
      ],
      "metadata": {
        "id": "7n04P_SrPOGQ"
      }
    },
    {
      "cell_type": "markdown",
      "source": [
        "#### Silhouette analysis"
      ],
      "metadata": {
        "id": "zUkRA6bLPUT6"
      }
    },
    {
      "cell_type": "code",
      "source": [
        "#@title\n",
        "#PySpark libraries\n",
        "from pyspark.ml import Pipeline\n",
        "from pyspark.ml.feature import StringIndexer, OneHotEncoder, VectorAssembler\n",
        "from pyspark.sql.functions import col, percent_rank, lit\n",
        "from pyspark.sql.window import Window\n",
        "from pyspark.sql import DataFrame, Row\n",
        "from pyspark.sql.types import StructType\n",
        "from functools import reduce  # For Python 3.x\n",
        "\n",
        "from pyspark.ml.clustering import KMeans\n",
        "from pyspark.ml.evaluation import ClusteringEvaluator\n",
        "\n",
        "def optimal_k(df_in,index_col,k_min, k_max,num_runs):\n",
        "    '''\n",
        "    Determine optimal number of clusters by using Silhoutte Score Analysis.\n",
        "    :param df_in: the input dataframe\n",
        "    :param index_col: the name of the index column\n",
        "    :param k_min: the minmum number of the clusters\n",
        "    :param k_max: the maxmum number of the clusters\n",
        "    :param num_runs: the number of runs for each fixed clusters\n",
        "\n",
        "    :return k: optimal number of the clusters\n",
        "    :return silh_lst: Silhouette score\n",
        "    :return r_table: the running results table\n",
        "\n",
        "    :author: Wenqiang Feng\n",
        "    :email:  von198@gmail.com\n",
        "    '''\n",
        "\n",
        "    start = time.time()\n",
        "    silh_lst = []\n",
        "    k_lst = np.arange(k_min, k_max+1)\n",
        "\n",
        "    r_table = df_in.select(index_col).toPandas()\n",
        "    r_table = r_table.set_index(index_col)\n",
        "    centers = pd.DataFrame()\n",
        "\n",
        "    for k in k_lst:\n",
        "        silh_val = []\n",
        "        for run in np.arange(1, num_runs+1):\n",
        "\n",
        "            # Trains a k-means model.\n",
        "            kmeans = KMeans()\\\n",
        "                    .setK(k)\\\n",
        "                    .setSeed(int(np.random.randint(100, size=1)))\n",
        "            model = kmeans.fit(df_in)\n",
        "\n",
        "            # Make predictions\n",
        "            predictions = model.transform(df_in)\n",
        "            r_table['cluster_{k}_{run}'.format(k=k, run=run)]= predictions.select('prediction').toPandas()\n",
        "\n",
        "            # Evaluate clustering by computing Silhouette score\n",
        "            evaluator = ClusteringEvaluator()\n",
        "            silhouette = evaluator.evaluate(predictions)\n",
        "            silh_val.append(silhouette)\n",
        "\n",
        "        silh_array=np.asanyarray(silh_val)\n",
        "        silh_lst.append(silh_array.mean())\n",
        "\n",
        "    elapsed =  time.time() - start\n",
        "\n",
        "    silhouette = pd.DataFrame(list(zip(k_lst,silh_lst)),columns = ['k', 'silhouette'])\n",
        "\n",
        "    print('+------------------------------------------------------------+')\n",
        "    print(\"|         The finding optimal k phase took %8.0f s.       |\" %(elapsed))\n",
        "    print('+------------------------------------------------------------+')\n",
        "\n",
        "\n",
        "    return k_lst[np.argmax(silh_lst, axis=0)], silhouette , r_table"
      ],
      "metadata": {
        "id": "YQzWs68IPSfL"
      },
      "execution_count": null,
      "outputs": []
    },
    {
      "cell_type": "markdown",
      "source": [
        "#### Pipeline Architecture"
      ],
      "metadata": {
        "id": "uBQLzqi-T6Mw"
      }
    },
    {
      "cell_type": "code",
      "source": [
        "from pyspark.ml.clustering import KMeans, KMeansModel\n",
        "\n",
        "kmeans = KMeans() \\\n",
        "          .setK(3) \\\n",
        "          .setFeaturesCol(\"indexedFeatures\")\\\n",
        "          .setPredictionCol(\"cluster\")\n",
        "\n",
        "# Chain indexer and tree in a Pipeline\n",
        "pipeline = Pipeline(stages=[featureIndexer, kmeans])\n",
        "\n",
        "model = pipeline.fit(transformed)\n",
        "\n",
        "cluster = model.transform(transformed)"
      ],
      "metadata": {
        "id": "NJP5D_p0T8Jk"
      },
      "execution_count": null,
      "outputs": []
    },
    {
      "cell_type": "markdown",
      "source": [
        "#### k-means clusters"
      ],
      "metadata": {
        "id": "HK1F81D8T_t9"
      }
    },
    {
      "cell_type": "code",
      "source": [
        "cluster.show()"
      ],
      "metadata": {
        "colab": {
          "base_uri": "https://localhost:8080/"
        },
        "id": "td6sKsG2UAxe",
        "outputId": "cca0b4fd-ebd5-4cd1-9557-7cb06c147691"
      },
      "execution_count": null,
      "outputs": [
        {
          "output_type": "stream",
          "name": "stdout",
          "text": [
            "+--------------------+--------------------+-------+\n",
            "|            features|     indexedFeatures|cluster|\n",
            "+--------------------+--------------------+-------+\n",
            "|[1.0,5.1,3.5,1.4,...|[1.0,5.1,3.5,1.4,...|      1|\n",
            "|[2.0,4.9,3.0,1.4,...|[2.0,4.9,3.0,1.4,...|      1|\n",
            "|[3.0,4.7,3.2,1.3,...|[3.0,4.7,3.2,1.3,...|      1|\n",
            "|[4.0,4.6,3.1,1.5,...|[4.0,4.6,3.1,1.5,...|      1|\n",
            "|[5.0,5.0,3.6,1.4,...|[5.0,5.0,3.6,1.4,...|      1|\n",
            "|[6.0,5.4,3.9,1.7,...|[6.0,5.4,3.9,1.7,...|      1|\n",
            "|[7.0,4.6,3.4,1.4,...|[7.0,4.6,3.4,1.4,...|      1|\n",
            "|[8.0,5.0,3.4,1.5,...|[8.0,5.0,3.4,1.5,...|      1|\n",
            "|[9.0,4.4,2.9,1.4,...|[9.0,4.4,2.9,1.4,...|      1|\n",
            "|[10.0,4.9,3.1,1.5...|[10.0,4.9,3.1,1.5...|      1|\n",
            "|[11.0,5.4,3.7,1.5...|[11.0,5.4,3.7,1.5...|      1|\n",
            "|[12.0,4.8,3.4,1.6...|[12.0,4.8,3.4,1.6...|      1|\n",
            "|[13.0,4.8,3.0,1.4...|[13.0,4.8,3.0,1.4...|      1|\n",
            "|[14.0,4.3,3.0,1.1...|[14.0,4.3,3.0,1.1...|      1|\n",
            "|[15.0,5.8,4.0,1.2...|[15.0,5.8,4.0,1.2...|      1|\n",
            "|[16.0,5.7,4.4,1.5...|[16.0,5.7,4.4,1.5...|      1|\n",
            "|[17.0,5.4,3.9,1.3...|[17.0,5.4,3.9,1.3...|      1|\n",
            "|[18.0,5.1,3.5,1.4...|[18.0,5.1,3.5,1.4...|      1|\n",
            "|[19.0,5.7,3.8,1.7...|[19.0,5.7,3.8,1.7...|      1|\n",
            "|[20.0,5.1,3.8,1.5...|[20.0,5.1,3.8,1.5...|      1|\n",
            "+--------------------+--------------------+-------+\n",
            "only showing top 20 rows\n",
            "\n"
          ]
        }
      ]
    },
    {
      "cell_type": "markdown",
      "source": [
        "## Clustering Reference 2 & 3"
      ],
      "metadata": {
        "id": "ViUAjCx3W8hf"
      }
    },
    {
      "cell_type": "markdown",
      "source": [
        "### Setting up a PySpark environment in Colab"
      ],
      "metadata": {
        "id": "LKyddWMXXKTG"
      }
    },
    {
      "cell_type": "markdown",
      "source": [
        "Running PySpark in Colab requires a few extra steps compared to just running Python. The Colab runtime will require a few commands to set up the Java Development Kit (JDK), Java paths, Spark paths, and download the packages to run Spark and Hadoop. For this reason, the code below may change to reflect new versions of packages available, if you are trying to recreate the work done please check the Hadoop and Spark versions currently published."
      ],
      "metadata": {
        "id": "XlkVt8iTXLo5"
      }
    },
    {
      "cell_type": "code",
      "source": [
        "# set up Java Dev Kit and download Spark and Hadoop \n",
        "!apt-get install openjdk-8-jdk-headless -qq > /dev/null\n",
        "!wget https://downloads.apache.org/spark/spark-3.2.0/spark-3.2.0-bin-hadoop3.2.tgz\n",
        "\n",
        "# unpack Spark and Hadoop\n",
        "!tar xf spark-3.2.0-bin-hadoop3.2.tgz\n",
        "\n",
        "# set up home paths for Java and Spark\n",
        "import os\n",
        "os.environ[\"JAVA_HOME\"] = \"/usr/lib/jvm/java-8-openjdk-amd64\"\n",
        "os.environ[\"SPARK_HOME\"] = \"/content/spark-3.2.0-bin-hadoop3.2\""
      ],
      "metadata": {
        "colab": {
          "base_uri": "https://localhost:8080/"
        },
        "id": "6_2yeKEGXJkK",
        "outputId": "5ae45953-1e2a-414a-c4d2-5c5deaeffbfd"
      },
      "execution_count": null,
      "outputs": [
        {
          "output_type": "stream",
          "name": "stdout",
          "text": [
            "--2023-06-01 09:49:56--  https://downloads.apache.org/spark/spark-3.2.0/spark-3.2.0-bin-hadoop3.2.tgz\n",
            "Resolving downloads.apache.org (downloads.apache.org)... 135.181.214.104, 88.99.95.219, 2a01:4f9:3a:2c57::2, ...\n",
            "Connecting to downloads.apache.org (downloads.apache.org)|135.181.214.104|:443... connected.\n",
            "HTTP request sent, awaiting response... 404 Not Found\n",
            "2023-06-01 09:49:57 ERROR 404: Not Found.\n",
            "\n",
            "tar: spark-3.2.0-bin-hadoop3.2.tgz: Cannot open: No such file or directory\n",
            "tar: Error is not recoverable: exiting now\n"
          ]
        }
      ]
    },
    {
      "cell_type": "markdown",
      "source": [
        "The next step is common to running PySpark locally. In order to find a Spark instance, the findspark package is used."
      ],
      "metadata": {
        "id": "oq3ZILS_XRW2"
      }
    },
    {
      "cell_type": "code",
      "source": [
        "# install, import and initialise findspark \n",
        "!pip install -q findspark\n",
        "import findspark\n",
        "findspark.init()\n",
        "\n",
        "# set up spark session \n",
        "from pyspark.sql import SparkSession\n",
        "spark = SparkSession.builder\\\n",
        "        .master(\"local\")\\\n",
        "        .appName(\"Colab\")\\\n",
        "        .config('spark.ui.port', '4050')\\\n",
        "        .getOrCreate()"
      ],
      "metadata": {
        "id": "2X4MNUJWW-x3"
      },
      "execution_count": null,
      "outputs": []
    },
    {
      "cell_type": "markdown",
      "source": [
        "This is the last step for setting up PySpark in Colab. It really is that easy to spin up a Spark instance to run some test code and practice your PySpark skills without having to install any local packages. The spark variable will be how we interact with Spark throughout the rest of the project and series."
      ],
      "metadata": {
        "id": "tc0qvAuMXUYl"
      }
    },
    {
      "cell_type": "markdown",
      "source": [
        "### Collecting data from an API"
      ],
      "metadata": {
        "id": "_5LhkvFZXWB2"
      }
    },
    {
      "cell_type": "markdown",
      "source": [
        "With the Spark instance set up and ready to use the next step is importing data. The data used in this project will be from the Solar System API. The clustering done at the end of the project will seek to find similarities between different bodies in space.\n",
        "\n",
        "The link to the API documentation is included at the end of the article if you are interested in using the API otherwise feel free to use whatever other datasets you choose including CSV, SQL, or any other file type."
      ],
      "metadata": {
        "id": "Yr_3B0JaXXgK"
      }
    },
    {
      "cell_type": "code",
      "source": [
        "# Import required module\n",
        "import requests\n",
        "import json\n",
        "\n",
        "# base URL \n",
        "url = 'https://api.le-systeme-solaire.net/rest/bodies'\n",
        "\n",
        "# extra parameters, see full docs for more \n",
        "params = {'exclude' :'mass,vol,moons,discoveredBy,discoveryDate,alternativeName,axialTilt,avgTemp,mainAnomaly,argPeriapsis,longAscNode,rel,aroundPlanet,sideralOrbit,sideralRotation,dimension,flattening,polarRadius'}\n",
        "\n",
        "# make request and store as JSON, then get the bodies element (the data we need)\n",
        "all_data = requests.get(url, params).json()\n",
        "all_data.get('bodies')\n",
        "\n",
        "# save file with data from the current request so we do not have to make multiple API calls to reset the data \n",
        "with open('data.json', 'w') as f:\n",
        "    json.dump(all_data, f)\n",
        "\n",
        "# Check if 'bodies' is in the data\n",
        "if 'bodies' in all_data:\n",
        "    print(all_data['bodies'])\n",
        "else:\n",
        "    print(\"Key 'bodies' is not in the data\")\n",
        "\n"
      ],
      "metadata": {
        "colab": {
          "base_uri": "https://localhost:8080/"
        },
        "id": "IMi9xEusXVdv",
        "outputId": "71f7d760-26bf-4f4d-b20c-d40784ce77ee"
      },
      "execution_count": null,
      "outputs": [
        {
          "output_type": "stream",
          "name": "stdout",
          "text": [
            "[{'id': 'lune', 'name': 'La Lune', 'englishName': 'Moon', 'isPlanet': False, 'semimajorAxis': 384400, 'perihelion': 363300, 'aphelion': 405500, 'eccentricity': 0.0549, 'inclination': 5.145, 'density': 3.344, 'gravity': 1.62, 'escape': 2380.0, 'meanRadius': 1737.0, 'equaRadius': 1738.1, 'bodyType': 'Moon'}, {'id': 'phobos', 'name': 'Phobos', 'englishName': 'Phobos', 'isPlanet': False, 'semimajorAxis': 9378, 'perihelion': 9234, 'aphelion': 9518, 'eccentricity': 0.0151, 'inclination': 1.075, 'density': 1.9, 'gravity': 0.0057, 'escape': 11.39, 'meanRadius': 11.1, 'equaRadius': 13.0, 'bodyType': 'Moon'}, {'id': 'deimos', 'name': 'Deïmos', 'englishName': 'Deimos', 'isPlanet': False, 'semimajorAxis': 23459, 'perihelion': 23456, 'aphelion': 23471, 'eccentricity': 0.0002, 'inclination': 1.075, 'density': 1.75, 'gravity': 0.003, 'escape': 5.556, 'meanRadius': 6.2, 'equaRadius': 7.8, 'bodyType': 'Moon'}, {'id': 'io', 'name': 'Io', 'englishName': 'Io', 'isPlanet': False, 'semimajorAxis': 421800, 'perihelion': 420071, 'aphelion': 423529, 'eccentricity': 0.004, 'inclination': 0.036, 'density': 3.53, 'gravity': 1.79, 'escape': 0.0, 'meanRadius': 1821.5, 'equaRadius': 0.0, 'bodyType': 'Moon'}, {'id': 'europe', 'name': 'Europe', 'englishName': 'Europa', 'isPlanet': False, 'semimajorAxis': 671100, 'perihelion': 0, 'aphelion': 0, 'eccentricity': 0.009, 'inclination': 0.466, 'density': 3.01, 'gravity': 1.31, 'escape': 0.0, 'meanRadius': 1560.8, 'equaRadius': 0.0, 'bodyType': 'Moon'}, {'id': 'ganymede', 'name': 'Ganymède', 'englishName': 'Ganymede', 'isPlanet': False, 'semimajorAxis': 1070400, 'perihelion': 0, 'aphelion': 0, 'eccentricity': 0.001, 'inclination': 0.177, 'density': 1.94, 'gravity': 1.428, 'escape': 0.0, 'meanRadius': 2631.2, 'equaRadius': 0.0, 'bodyType': 'Moon'}, {'id': 'callisto', 'name': 'Callisto', 'englishName': 'Callisto', 'isPlanet': False, 'semimajorAxis': 1882700, 'perihelion': 0, 'aphelion': 0, 'eccentricity': 0.007, 'inclination': 0.192, 'density': 1.83, 'gravity': 1.235, 'escape': 0.0, 'meanRadius': 2410.3, 'equaRadius': 0.0, 'bodyType': 'Moon'}, {'id': 'amalthee', 'name': 'Amalthée', 'englishName': 'Amalthea', 'isPlanet': False, 'semimajorAxis': 181400, 'perihelion': 181150, 'aphelion': 182840, 'eccentricity': 0.003, 'inclination': 0.38, 'density': 3.1, 'gravity': 0.02, 'escape': 0.0, 'meanRadius': 84.0, 'equaRadius': 0.0, 'bodyType': 'Moon'}, {'id': 'himalia', 'name': 'Himalia', 'englishName': 'Himalia', 'isPlanet': False, 'semimajorAxis': 11461000, 'perihelion': 9782900, 'aphelion': 13082000, 'eccentricity': 0.162, 'inclination': 27.5, 'density': 1.0, 'gravity': 0.062, 'escape': 0.0, 'meanRadius': 85.0, 'equaRadius': 0.0, 'bodyType': 'Moon'}, {'id': 'elara', 'name': 'Élara', 'englishName': 'Elara', 'isPlanet': False, 'semimajorAxis': 11741000, 'perihelion': 0, 'aphelion': 0, 'eccentricity': 0.217, 'inclination': 26.63, 'density': 1.0, 'gravity': 0.031, 'escape': 0.0, 'meanRadius': 40.0, 'equaRadius': 0.0, 'bodyType': 'Moon'}, {'id': 'pasiphae', 'name': 'Pasiphaé', 'englishName': 'Pasiphae', 'isPlanet': False, 'semimajorAxis': 23624000, 'perihelion': 0, 'aphelion': 0, 'eccentricity': 0.409, 'inclination': 151.4, 'density': 1.0, 'gravity': 0.022, 'escape': 0.0, 'meanRadius': 18.0, 'equaRadius': 0.0, 'bodyType': 'Moon'}, {'id': 'sinope', 'name': 'Sinopé', 'englishName': 'Sinope', 'isPlanet': False, 'semimajorAxis': 23939000, 'perihelion': 0, 'aphelion': 0, 'eccentricity': 0.25, 'inclination': 158.1, 'density': 1.0, 'gravity': 0.014, 'escape': 0.0, 'meanRadius': 14.0, 'equaRadius': 0.0, 'bodyType': 'Moon'}, {'id': 'lysithea', 'name': 'Lysithéa', 'englishName': 'Lysithea', 'isPlanet': False, 'semimajorAxis': 11717000, 'perihelion': 0, 'aphelion': 0, 'eccentricity': 0.112, 'inclination': 28.3, 'density': 1.0, 'gravity': 0.013, 'escape': 0.0, 'meanRadius': 12.0, 'equaRadius': 0.0, 'bodyType': 'Moon'}, {'id': 'carme', 'name': 'Carmé', 'englishName': 'Carme', 'isPlanet': False, 'semimajorAxis': 23404000, 'perihelion': 0, 'aphelion': 0, 'eccentricity': 0.253, 'inclination': 164.9, 'density': 1.0, 'gravity': 0.017, 'escape': 0.0, 'meanRadius': 15.0, 'equaRadius': 0.0, 'bodyType': 'Moon'}, {'id': 'ananke', 'name': 'Ananké', 'englishName': 'Ananke', 'isPlanet': False, 'semimajorAxis': 21276000, 'perihelion': 0, 'aphelion': 0, 'eccentricity': 0.244, 'inclination': 148.9, 'density': 1.0, 'gravity': 0.01, 'escape': 0.0, 'meanRadius': 10.0, 'equaRadius': 0.0, 'bodyType': 'Moon'}, {'id': 'leda', 'name': 'Léda', 'englishName': 'Leda', 'isPlanet': False, 'semimajorAxis': 11165000, 'perihelion': 0, 'aphelion': 0, 'eccentricity': 0.164, 'inclination': 27.46, 'density': 1.0, 'gravity': 0.0073, 'escape': 0.0, 'meanRadius': 5.0, 'equaRadius': 0.0, 'bodyType': 'Moon'}, {'id': 'thebe', 'name': 'Thébé', 'englishName': 'Thebe', 'isPlanet': False, 'semimajorAxis': 221900, 'perihelion': 218000, 'aphelion': 226000, 'eccentricity': 0.018, 'inclination': 1.08, 'density': 1.0, 'gravity': 0.02, 'escape': 0.0, 'meanRadius': 49.0, 'equaRadius': 0.0, 'bodyType': 'Moon'}, {'id': 'adrastee', 'name': 'Adrastée', 'englishName': 'Adrastea', 'isPlanet': False, 'semimajorAxis': 129000, 'perihelion': 0, 'aphelion': 0, 'eccentricity': 0.002, 'inclination': 0.054, 'density': 1.0, 'gravity': 0.002, 'escape': 0.0, 'meanRadius': 8.0, 'equaRadius': 0.0, 'bodyType': 'Moon'}, {'id': 'metis', 'name': 'Métis', 'englishName': 'Metis', 'isPlanet': False, 'semimajorAxis': 128000, 'perihelion': 127974, 'aphelion': 128026, 'eccentricity': 0.001, 'inclination': 0.019, 'density': 1.0, 'gravity': 0.005, 'escape': 0.0, 'meanRadius': 22.0, 'equaRadius': 0.0, 'bodyType': 'Moon'}, {'id': 'callirrhoe', 'name': 'Callirrhoé', 'englishName': 'Callirrhoe', 'isPlanet': False, 'semimajorAxis': 24102000, 'perihelion': 0, 'aphelion': 0, 'eccentricity': 0.283, 'inclination': 147.1, 'density': 1.0, 'gravity': 0.0031, 'escape': 0.0, 'meanRadius': 4.0, 'equaRadius': 0.0, 'bodyType': 'Moon'}, {'id': 'themisto', 'name': 'Thémisto', 'englishName': 'Themisto', 'isPlanet': False, 'semimajorAxis': 7507000, 'perihelion': 5909000, 'aphelion': 8874300, 'eccentricity': 0.242, 'inclination': 43.08, 'density': 1.0, 'gravity': 0.0029, 'escape': 0.0, 'meanRadius': 4.0, 'equaRadius': 0.0, 'bodyType': 'Moon'}, {'id': 'megaclite', 'name': 'Mégaclité', 'englishName': 'Megaclite', 'isPlanet': False, 'semimajorAxis': 23806000, 'perihelion': 0, 'aphelion': 0, 'eccentricity': 0.421, 'inclination': 152.8, 'density': 1.0, 'gravity': 0.0, 'escape': 0.0, 'meanRadius': 2.7, 'equaRadius': 0.0, 'bodyType': 'Moon'}, {'id': 'taygete', 'name': 'Taygété', 'englishName': 'Taygete', 'isPlanet': False, 'semimajorAxis': 23360000, 'perihelion': 0, 'aphelion': 0, 'eccentricity': 0.252, 'inclination': 165.2, 'density': 1.0, 'gravity': 0.0, 'escape': 0.0, 'meanRadius': 2.5, 'equaRadius': 0.0, 'bodyType': 'Moon'}, {'id': 'chaldene', 'name': 'Chaldéné', 'englishName': 'Chaldene', 'isPlanet': False, 'semimajorAxis': 23179000, 'perihelion': 0, 'aphelion': 0, 'eccentricity': 0.251, 'inclination': 165.2, 'density': 1.0, 'gravity': 0.0, 'escape': 0.0, 'meanRadius': 1.9, 'equaRadius': 0.0, 'bodyType': 'Moon'}, {'id': 'harpalyke', 'name': 'Harpalyké', 'englishName': 'Harpalyke', 'isPlanet': False, 'semimajorAxis': 21105000, 'perihelion': 0, 'aphelion': 0, 'eccentricity': 0.226, 'inclination': 148.6, 'density': 1.0, 'gravity': 0.0, 'escape': 0.0, 'meanRadius': 2.2, 'equaRadius': 0.0, 'bodyType': 'Moon'}, {'id': 'kalyke', 'name': 'Kalyké', 'englishName': 'Kalyke', 'isPlanet': False, 'semimajorAxis': 23583000, 'perihelion': 0, 'aphelion': 0, 'eccentricity': 0.245, 'inclination': 165.2, 'density': 1.0, 'gravity': 0.0, 'escape': 0.0, 'meanRadius': 2.6, 'equaRadius': 0.0, 'bodyType': 'Moon'}, {'id': 'iocaste', 'name': 'Iocasté', 'englishName': 'Iocaste', 'isPlanet': False, 'semimajorAxis': 21269000, 'perihelion': 0, 'aphelion': 0, 'eccentricity': 0.216, 'inclination': 149.4, 'density': 1.0, 'gravity': 0.0, 'escape': 0.0, 'meanRadius': 2.6, 'equaRadius': 0.0, 'bodyType': 'Moon'}, {'id': 'erinome', 'name': 'Erinomé', 'englishName': 'Erinome', 'isPlanet': False, 'semimajorAxis': 23279000, 'perihelion': 0, 'aphelion': 0, 'eccentricity': 0.266, 'inclination': 164.9, 'density': 1.0, 'gravity': 0.0, 'escape': 0.0, 'meanRadius': 1.6, 'equaRadius': 0.0, 'bodyType': 'Moon'}, {'id': 'isonoe', 'name': 'Isonoé', 'englishName': 'Isonoe', 'isPlanet': False, 'semimajorAxis': 23217000, 'perihelion': 0, 'aphelion': 0, 'eccentricity': 0.246, 'inclination': 165.2, 'density': 1.0, 'gravity': 0.0, 'escape': 0.0, 'meanRadius': 1.9, 'equaRadius': 0.0, 'bodyType': 'Moon'}, {'id': 'praxidike', 'name': 'Praxidyké', 'englishName': 'Praxidike', 'isPlanet': False, 'semimajorAxis': 21147000, 'perihelion': 0, 'aphelion': 0, 'eccentricity': 0.23, 'inclination': 149.0, 'density': 1.0, 'gravity': 0.0, 'escape': 0.0, 'meanRadius': 3.4, 'equaRadius': 0.0, 'bodyType': 'Moon'}, {'id': 'autonoe', 'name': 'Autonoé', 'englishName': 'Autonoe', 'isPlanet': False, 'semimajorAxis': 23039000, 'perihelion': 0, 'aphelion': 0, 'eccentricity': 0.334, 'inclination': 152.9, 'density': 1.0, 'gravity': 0.0015, 'escape': 0.0, 'meanRadius': 2.0, 'equaRadius': 0.0, 'bodyType': 'Moon'}, {'id': 'thyone', 'name': 'Thyoné', 'englishName': 'Thyone', 'isPlanet': False, 'semimajorAxis': 20940000, 'perihelion': 0, 'aphelion': 0, 'eccentricity': 0.229, 'inclination': 148.5, 'density': 1.0, 'gravity': 0.0015, 'escape': 0.0, 'meanRadius': 2.0, 'equaRadius': 0.0, 'bodyType': 'Moon'}, {'id': 'hermippe', 'name': 'Hermippé', 'englishName': 'Hermippe', 'isPlanet': False, 'semimajorAxis': 21131000, 'perihelion': 0, 'aphelion': 0, 'eccentricity': 0.21, 'inclination': 150.7, 'density': 1.0, 'gravity': 0.0015, 'escape': 0.0, 'meanRadius': 2.0, 'equaRadius': 0.0, 'bodyType': 'Moon'}, {'id': 'aitne', 'name': 'Aitné', 'englishName': 'Aitne', 'isPlanet': False, 'semimajorAxis': 23231000, 'perihelion': 0, 'aphelion': 0, 'eccentricity': 0.264, 'inclination': 165.1, 'density': 1.0, 'gravity': 0.0012, 'escape': 0.0, 'meanRadius': 1.5, 'equaRadius': 0.0, 'bodyType': 'Moon'}, {'id': 'eurydome', 'name': 'Eurydomé', 'englishName': 'Eurydome', 'isPlanet': False, 'semimajorAxis': 22865000, 'perihelion': 0, 'aphelion': 0, 'eccentricity': 0.276, 'inclination': 150.3, 'density': 1.0, 'gravity': 0.0012, 'escape': 0.0, 'meanRadius': 1.5, 'equaRadius': 0.0, 'bodyType': 'Moon'}, {'id': 'euanthe', 'name': 'Euanthé', 'englishName': 'Euanthe', 'isPlanet': False, 'semimajorAxis': 20799000, 'perihelion': 0, 'aphelion': 0, 'eccentricity': 0.232, 'inclination': 148.9, 'density': 1.0, 'gravity': 0.0012, 'escape': 0.0, 'meanRadius': 1.5, 'equaRadius': 0.0, 'bodyType': 'Moon'}, {'id': 'euporie', 'name': 'Euporie', 'englishName': 'Euporie', 'isPlanet': False, 'semimajorAxis': 19302000, 'perihelion': 0, 'aphelion': 0, 'eccentricity': 0.144, 'inclination': 145.8, 'density': 1.0, 'gravity': 0.0, 'escape': 0.0, 'meanRadius': 1.0, 'equaRadius': 0.0, 'bodyType': 'Moon'}, {'id': 'orthosie', 'name': 'Orthosie', 'englishName': 'Orthosie', 'isPlanet': False, 'semimajorAxis': 20721000, 'perihelion': 0, 'aphelion': 0, 'eccentricity': 0.281, 'inclination': 145.9, 'density': 1.0, 'gravity': 0.00081, 'escape': 0.0, 'meanRadius': 1.0, 'equaRadius': 0.0, 'bodyType': 'Moon'}, {'id': 'sponde', 'name': 'Spondé', 'englishName': 'Sponde', 'isPlanet': False, 'semimajorAxis': 23487000, 'perihelion': 0, 'aphelion': 0, 'eccentricity': 0.312, 'inclination': 151.0, 'density': 1.0, 'gravity': 0.00081, 'escape': 0.0, 'meanRadius': 1.0, 'equaRadius': 0.0, 'bodyType': 'Moon'}, {'id': 'cale', 'name': 'Calé', 'englishName': 'Kale', 'isPlanet': False, 'semimajorAxis': 23217000, 'perihelion': 0, 'aphelion': 0, 'eccentricity': 0.26, 'inclination': 165.0, 'density': 1.0, 'gravity': 0.00081, 'escape': 0.0, 'meanRadius': 1.0, 'equaRadius': 0.0, 'bodyType': 'Moon'}, {'id': 'pasithee', 'name': 'Pasithée', 'englishName': 'Pasithee', 'isPlanet': False, 'semimajorAxis': 23096000, 'perihelion': 0, 'aphelion': 0, 'eccentricity': 0.267, 'inclination': 165.1, 'density': 1.0, 'gravity': 0.00081, 'escape': 0.0, 'meanRadius': 1.0, 'equaRadius': 0.0, 'bodyType': 'Moon'}, {'id': 'hegemone', 'name': 'Hégémone', 'englishName': 'Hegemone', 'isPlanet': False, 'semimajorAxis': 23947000, 'perihelion': 0, 'aphelion': 0, 'eccentricity': 0.328, 'inclination': 155.2, 'density': 1.0, 'gravity': 0.0, 'escape': 0.0, 'meanRadius': 2.0, 'equaRadius': 0.0, 'bodyType': 'Moon'}, {'id': 'mneme', 'name': 'Mnémé', 'englishName': 'Mneme', 'isPlanet': False, 'semimajorAxis': 21069000, 'perihelion': 0, 'aphelion': 0, 'eccentricity': 0.227, 'inclination': 148.6, 'density': 1.0, 'gravity': 0.0, 'escape': 0.0, 'meanRadius': 2.0, 'equaRadius': 0.0, 'bodyType': 'Moon'}, {'id': 'aoede', 'name': 'Aoedé', 'englishName': 'Aoede', 'isPlanet': False, 'semimajorAxis': 23981000, 'perihelion': 0, 'aphelion': 0, 'eccentricity': 0.432, 'inclination': 158.3, 'density': 1.0, 'gravity': 0.0, 'escape': 0.0, 'meanRadius': 2.0, 'equaRadius': 0.0, 'bodyType': 'Moon'}, {'id': 'thelxinoe', 'name': 'Thelxinoé', 'englishName': 'Thelxinoe', 'isPlanet': False, 'semimajorAxis': 21162000, 'perihelion': 0, 'aphelion': 0, 'eccentricity': 0.221, 'inclination': 151.4, 'density': 1.0, 'gravity': 0.0, 'escape': 0.0, 'meanRadius': 2.0, 'equaRadius': 0.0, 'bodyType': 'Moon'}, {'id': 'arche', 'name': 'Arché', 'englishName': 'Arche', 'isPlanet': False, 'semimajorAxis': 22931000, 'perihelion': 0, 'aphelion': 0, 'eccentricity': 0.259, 'inclination': 165.0, 'density': 1.0, 'gravity': 0.0012, 'escape': 0.0, 'meanRadius': 1.5, 'equaRadius': 0.0, 'bodyType': 'Moon'}, {'id': 'callichore', 'name': 'Callichore', 'englishName': 'Kallichore', 'isPlanet': False, 'semimajorAxis': 24043000, 'perihelion': 0, 'aphelion': 0, 'eccentricity': 0.264, 'inclination': 165.5, 'density': 1.0, 'gravity': 0.0, 'escape': 0.0, 'meanRadius': 2.0, 'equaRadius': 0.0, 'bodyType': 'Moon'}, {'id': 'helice', 'name': 'Hélicé', 'englishName': 'Helike', 'isPlanet': False, 'semimajorAxis': 21263000, 'perihelion': 0, 'aphelion': 0, 'eccentricity': 0.156, 'inclination': 154.8, 'density': 1.0, 'gravity': 0.0, 'escape': 0.0, 'meanRadius': 4.0, 'equaRadius': 0.0, 'bodyType': 'Moon'}, {'id': 'carpo', 'name': 'Carpo', 'englishName': 'Carpo', 'isPlanet': False, 'semimajorAxis': 16989000, 'perihelion': 0, 'aphelion': 0, 'eccentricity': 0.43, 'inclination': 51.4, 'density': 1.0, 'gravity': 0.0, 'escape': 0.0, 'meanRadius': 3.0, 'equaRadius': 0.0, 'bodyType': 'Moon'}, {'id': 'eukelade', 'name': 'Eukéladé', 'englishName': 'Eukelade', 'isPlanet': False, 'semimajorAxis': 23661000, 'perihelion': 0, 'aphelion': 0, 'eccentricity': 0.272, 'inclination': 165.5, 'density': 1.0, 'gravity': 0.0, 'escape': 0.0, 'meanRadius': 4.0, 'equaRadius': 0.0, 'bodyType': 'Moon'}, {'id': 'cyllene', 'name': 'Cyllène', 'englishName': 'Cyllene', 'isPlanet': False, 'semimajorAxis': 24349000, 'perihelion': 0, 'aphelion': 0, 'eccentricity': 0.319, 'inclination': 149.3, 'density': 1.0, 'gravity': 0.0, 'escape': 0.0, 'meanRadius': 1.0, 'equaRadius': 0.0, 'bodyType': 'Moon'}, {'id': 'core', 'name': 'Coré', 'englishName': 'Kore', 'isPlanet': False, 'semimajorAxis': 24543000, 'perihelion': 0, 'aphelion': 0, 'eccentricity': 0.325, 'inclination': 145.0, 'density': 1.0, 'gravity': 0.0, 'escape': 0.0, 'meanRadius': 1.0, 'equaRadius': 0.0, 'bodyType': 'Moon'}, {'id': 'herse', 'name': 'Hersé', 'englishName': 'Herse', 'isPlanet': False, 'semimajorAxis': 23097000, 'perihelion': 0, 'aphelion': 0, 'eccentricity': 0.2, 'inclination': 164.2, 'density': 1.0, 'gravity': 0.0, 'escape': 0.0, 'meanRadius': 2.0, 'equaRadius': 0.0, 'bodyType': 'Moon'}, {'id': 's2003j2', 'name': 'S/2003 J 2', 'englishName': 'S/2003 J 2', 'isPlanet': False, 'semimajorAxis': 28570410, 'perihelion': 0, 'aphelion': 0, 'eccentricity': 0.38, 'inclination': 151.8, 'density': 1.0, 'gravity': 0.0, 'escape': 0.0, 'meanRadius': 1.0, 'equaRadius': 0.0, 'bodyType': 'Moon'}, {'id': 'eupheme', 'name': 'Euphémé', 'englishName': 'Eupheme', 'isPlanet': False, 'semimajorAxis': 21199710, 'perihelion': 0, 'aphelion': 0, 'eccentricity': 0.253, 'inclination': 148.0, 'density': 1.0, 'gravity': 0.0, 'escape': 0.0, 'meanRadius': 1.0, 'equaRadius': 0.0, 'bodyType': 'Moon'}, {'id': 's2003j4', 'name': 'S/2003 J 4', 'englishName': 'S/2003 J 4', 'isPlanet': False, 'semimajorAxis': 23257920, 'perihelion': 0, 'aphelion': 0, 'eccentricity': 0.204, 'inclination': 144.9, 'density': 1.0, 'gravity': 0.0, 'escape': 0.0, 'meanRadius': 1.0, 'equaRadius': 0.0, 'bodyType': 'Moon'}, {'id': 'eirene', 'name': 'Eiréné', 'englishName': 'Eirene', 'isPlanet': False, 'semimajorAxis': 23731770, 'perihelion': 0, 'aphelion': 0, 'eccentricity': 0.22, 'inclination': 163.1, 'density': 1.0, 'gravity': 0.0, 'escape': 0.0, 'meanRadius': 2.0, 'equaRadius': 0.0, 'bodyType': 'Moon'}, {'id': 's2003j9', 'name': 'S/2003 J 9', 'englishName': 'S/2003 J 9', 'isPlanet': False, 'semimajorAxis': 22441680, 'perihelion': 0, 'aphelion': 0, 'eccentricity': 0.269, 'inclination': 164.5, 'density': 1.0, 'gravity': 0.0, 'escape': 0.0, 'meanRadius': 0.5, 'equaRadius': 0.0, 'bodyType': 'Moon'}, {'id': 's2003j10', 'name': 'S/2003 J 10', 'englishName': 'S/2003 J 10', 'isPlanet': False, 'semimajorAxis': 22896000, 'perihelion': 0, 'aphelion': 0, 'eccentricity': 0.214, 'inclination': 164.1, 'density': 1.0, 'gravity': 0.0, 'escape': 0.0, 'meanRadius': 1.0, 'equaRadius': 0.0, 'bodyType': 'Moon'}, {'id': 's2003j12', 'name': 'S/2003 J 12', 'englishName': 'S/2003 J 12', 'isPlanet': False, 'semimajorAxis': 21557740, 'perihelion': 0, 'aphelion': 0, 'eccentricity': 0.376, 'inclination': 145.8, 'density': 1.0, 'gravity': 0.0, 'escape': 0.0, 'meanRadius': 0.5, 'equaRadius': 0.0, 'bodyType': 'Moon'}, {'id': 'philophrosyne', 'name': 'Philophrosyne', 'englishName': 'Philophrosyne', 'isPlanet': False, 'semimajorAxis': 22819950, 'perihelion': 0, 'aphelion': 0, 'eccentricity': 0.194, 'inclination': 143.6, 'density': 1.0, 'gravity': 0.0, 'escape': 0.0, 'meanRadius': 1.0, 'equaRadius': 0.0, 'bodyType': 'Moon'}, {'id': 's2003j16', 'name': 'S/2003 J 16', 'englishName': 'S/2003 J 16', 'isPlanet': False, 'semimajorAxis': 21000000, 'perihelion': 0, 'aphelion': 0, 'eccentricity': 0.23, 'inclination': 148.5, 'density': 1.0, 'gravity': 0.0, 'escape': 0.0, 'meanRadius': 1.0, 'equaRadius': 0.0, 'bodyType': 'Moon'}, {'id': 's2003j18', 'name': 'S/2003 J 18', 'englishName': 'S/2003 J 18', 'isPlanet': False, 'semimajorAxis': 20274000, 'perihelion': 0, 'aphelion': 0, 'eccentricity': 0.105, 'inclination': 146.4, 'density': 1.0, 'gravity': 0.0, 'escape': 0.0, 'meanRadius': 1.0, 'equaRadius': 0.0, 'bodyType': 'Moon'}, {'id': 's2003j19', 'name': 'S/2003 J 19', 'englishName': 'S/2003 J 19', 'isPlanet': False, 'semimajorAxis': 22800000, 'perihelion': 0, 'aphelion': 0, 'eccentricity': 0.334, 'inclination': 162.9, 'density': 1.0, 'gravity': 0.0, 'escape': 0.0, 'meanRadius': 1.0, 'equaRadius': 0.0, 'bodyType': 'Moon'}, {'id': 's2003j23', 'name': 'S/2003 J 23', 'englishName': 'S/2003 J 23', 'isPlanet': False, 'semimajorAxis': 24055500, 'perihelion': 0, 'aphelion': 0, 'eccentricity': 0.309, 'inclination': 149.2, 'density': 1.0, 'gravity': 0.00081, 'escape': 0.0, 'meanRadius': 1.0, 'equaRadius': 0.0, 'bodyType': 'Moon'}, {'id': 'mimas', 'name': 'Mimas', 'englishName': 'Mimas', 'isPlanet': False, 'semimajorAxis': 185539, 'perihelion': 181770, 'aphelion': 189270, 'eccentricity': 0.0202, 'inclination': 1.53, 'density': 1.15, 'gravity': 0.0, 'escape': 0.0, 'meanRadius': 396.4, 'equaRadius': 0.0, 'bodyType': 'Moon'}, {'id': 'encelade', 'name': 'Encelade', 'englishName': 'Enceladus', 'isPlanet': False, 'semimajorAxis': 238042, 'perihelion': 236830, 'aphelion': 239066, 'eccentricity': 0.0045, 'inclination': 0.0, 'density': 1.61, 'gravity': 0.0, 'escape': 0.0, 'meanRadius': 504.2, 'equaRadius': 0.0, 'bodyType': 'Moon'}, {'id': 'tethys', 'name': 'Téthys', 'englishName': 'Tethys', 'isPlanet': False, 'semimajorAxis': 294672, 'perihelion': 294589, 'aphelion': 294648, 'eccentricity': 0.0001, 'inclination': 1.86, 'density': 0.985, 'gravity': 0.0, 'escape': 0.0, 'meanRadius': 1066.0, 'equaRadius': 0.0, 'bodyType': 'Moon'}, {'id': 'dione', 'name': 'Dioné', 'englishName': 'Dione', 'isPlanet': False, 'semimajorAxis': 377420, 'perihelion': 376580, 'aphelion': 378260, 'eccentricity': 0.0022, 'inclination': 0.002, 'density': 1.48, 'gravity': 0.0, 'escape': 0.0, 'meanRadius': 1123.4, 'equaRadius': 0.0, 'bodyType': 'Moon'}, {'id': 'rhea', 'name': 'Rhéa', 'englishName': 'Rhea', 'isPlanet': False, 'semimajorAxis': 527068, 'perihelion': 526543, 'aphelion': 527597, 'eccentricity': 0.001, 'inclination': 0.35, 'density': 1.24, 'gravity': 0.0, 'escape': 0.0, 'meanRadius': 1528.6, 'equaRadius': 0.0, 'bodyType': 'Moon'}, {'id': 'titan', 'name': 'Titan', 'englishName': 'Titan', 'isPlanet': False, 'semimajorAxis': 1221865, 'perihelion': 1186680, 'aphelion': 1257060, 'eccentricity': 0.0292, 'inclination': 0.33, 'density': 1.88, 'gravity': 0.0, 'escape': 0.0, 'meanRadius': 2575.0, 'equaRadius': 0.0, 'bodyType': 'Moon'}, {'id': 'hyperion', 'name': 'Hypérion', 'englishName': 'Hyperion', 'isPlanet': False, 'semimajorAxis': 1500933, 'perihelion': 1466112, 'aphelion': 1535756, 'eccentricity': 0.123, 'inclination': 0.43, 'density': 0.55, 'gravity': 0.0, 'escape': 0.0, 'meanRadius': 266.0, 'equaRadius': 0.0, 'bodyType': 'Moon'}, {'id': 'japet', 'name': 'Japet', 'englishName': 'Iapetus', 'isPlanet': False, 'semimajorAxis': 3560854, 'perihelion': 3460068, 'aphelion': 3661612, 'eccentricity': 0.0283, 'inclination': 14.72, 'density': 1.09, 'gravity': 0.0, 'escape': 0.0, 'meanRadius': 1471.2, 'equaRadius': 0.0, 'bodyType': 'Moon'}, {'id': 'phoebe', 'name': 'Phœbé', 'englishName': 'Phoebe', 'isPlanet': False, 'semimajorAxis': 12944300, 'perihelion': 0, 'aphelion': 0, 'eccentricity': 0.164, 'inclination': 174.8, 'density': 1.64, 'gravity': 0.0, 'escape': 0.0, 'meanRadius': 214.4, 'equaRadius': 0.0, 'bodyType': 'Moon'}, {'id': 'janus', 'name': 'Janus', 'englishName': 'Janus', 'isPlanet': False, 'semimajorAxis': 151500, 'perihelion': 0, 'aphelion': 0, 'eccentricity': 0.007, 'inclination': 0.14, 'density': 0.63, 'gravity': 0.0, 'escape': 0.0, 'meanRadius': 89.5, 'equaRadius': 0.0, 'bodyType': 'Moon'}, {'id': 'epimethee', 'name': 'Epiméthée', 'englishName': 'Epimetheus', 'isPlanet': False, 'semimajorAxis': 151400, 'perihelion': 0, 'aphelion': 0, 'eccentricity': 0.009, 'inclination': 0.34, 'density': 0.64, 'gravity': 0.0, 'escape': 0.0, 'meanRadius': 113.4, 'equaRadius': 0.0, 'bodyType': 'Moon'}, {'id': 'helene', 'name': 'Hélène', 'englishName': 'Helene', 'isPlanet': False, 'semimajorAxis': 377396, 'perihelion': 0, 'aphelion': 0, 'eccentricity': 0.0022, 'inclination': 0.199, 'density': 1.3, 'gravity': 0.0, 'escape': 0.0, 'meanRadius': 17.6, 'equaRadius': 0.0, 'bodyType': 'Moon'}, {'id': 'telesto', 'name': 'Télesto', 'englishName': 'Telesto', 'isPlanet': False, 'semimajorAxis': 294720, 'perihelion': 0, 'aphelion': 0, 'eccentricity': 0.001, 'inclination': 1.158, 'density': 1.0, 'gravity': 0.0, 'escape': 0.0, 'meanRadius': 12.4, 'equaRadius': 0.0, 'bodyType': 'Moon'}, {'id': 'calypso', 'name': 'Calypso', 'englishName': 'Calypso', 'isPlanet': False, 'semimajorAxis': 294720, 'perihelion': 0, 'aphelion': 0, 'eccentricity': 0.001, 'inclination': 1.473, 'density': 1.0, 'gravity': 0.0, 'escape': 0.0, 'meanRadius': 10.7, 'equaRadius': 0.0, 'bodyType': 'Moon'}, {'id': 'atlas', 'name': 'Atlas', 'englishName': 'Atlas', 'isPlanet': False, 'semimajorAxis': 137700, 'perihelion': 0, 'aphelion': 0, 'eccentricity': 0.0, 'inclination': 0.3, 'density': 0.5, 'gravity': 0.0, 'escape': 0.0, 'meanRadius': 15.1, 'equaRadius': 0.0, 'bodyType': 'Moon'}, {'id': 'promethee', 'name': 'Prométhée', 'englishName': 'Prometheus', 'isPlanet': False, 'semimajorAxis': 139400, 'perihelion': 0, 'aphelion': 0, 'eccentricity': 0.00204, 'inclination': 0.0, 'density': 0.48, 'gravity': 0.0, 'escape': 0.0, 'meanRadius': 43.1, 'equaRadius': 0.0, 'bodyType': 'Moon'}, {'id': 'pandore', 'name': 'Pandore', 'englishName': 'Pandora', 'isPlanet': False, 'semimajorAxis': 141700, 'perihelion': 0, 'aphelion': 0, 'eccentricity': 0.0042, 'inclination': 0.0, 'density': 0.49, 'gravity': 0.0, 'escape': 0.0, 'meanRadius': 40.7, 'equaRadius': 0.0, 'bodyType': 'Moon'}, {'id': 'pan', 'name': 'Pan', 'englishName': 'Pan', 'isPlanet': False, 'semimajorAxis': 133600, 'perihelion': 0, 'aphelion': 0, 'eccentricity': 0.0, 'inclination': 0.0, 'density': 0.42, 'gravity': 0.0, 'escape': 0.0, 'meanRadius': 14.1, 'equaRadius': 0.0, 'bodyType': 'Moon'}, {'id': 'ymir', 'name': 'Ymir', 'englishName': 'Ymir', 'isPlanet': False, 'semimajorAxis': 23040000, 'perihelion': 0, 'aphelion': 0, 'eccentricity': 0.187, 'inclination': 167.9, 'density': 1.0, 'gravity': 0.0, 'escape': 0.0, 'meanRadius': 9.0, 'equaRadius': 0.0, 'bodyType': 'Moon'}, {'id': 'paaliaq', 'name': 'Paaliaq', 'englishName': 'Paaliaq', 'isPlanet': False, 'semimajorAxis': 15200000, 'perihelion': 6908035, 'aphelion': 23139965, 'eccentricity': 0.364, 'inclination': 47.2, 'density': 1.0, 'gravity': 0.0, 'escape': 0.0, 'meanRadius': 10.0, 'equaRadius': 0.0, 'bodyType': 'Moon'}, {'id': 'tarvos', 'name': 'Tarvos', 'englishName': 'Tarvos', 'isPlanet': False, 'semimajorAxis': 17983000, 'perihelion': 0, 'aphelion': 0, 'eccentricity': 0.531, 'inclination': 33.8, 'density': 1.0, 'gravity': 0.0, 'escape': 0.0, 'meanRadius': 7.0, 'equaRadius': 0.0, 'bodyType': 'Moon'}, {'id': 'ijiraq', 'name': 'Ijiraq', 'englishName': 'Ijiraq', 'isPlanet': False, 'semimajorAxis': 11124000, 'perihelion': 0, 'aphelion': 0, 'eccentricity': 0.316, 'inclination': 49.1, 'density': 1.0, 'gravity': 0.0, 'escape': 0.0, 'meanRadius': 5.0, 'equaRadius': 0.0, 'bodyType': 'Moon'}, {'id': 'suttungr', 'name': 'Suttungr', 'englishName': 'Suttungr', 'isPlanet': False, 'semimajorAxis': 19459000, 'perihelion': 0, 'aphelion': 0, 'eccentricity': 0.114, 'inclination': 175.8, 'density': 1.0, 'gravity': 0.0, 'escape': 0.0, 'meanRadius': 3.0, 'equaRadius': 0.0, 'bodyType': 'Moon'}, {'id': 'kiviuq', 'name': 'Kiviuq', 'englishName': 'Kiviuq', 'isPlanet': False, 'semimajorAxis': 11111000, 'perihelion': 0, 'aphelion': 0, 'eccentricity': 0.334, 'inclination': 48.7, 'density': 1.0, 'gravity': 0.0, 'escape': 0.0, 'meanRadius': 7.0, 'equaRadius': 0.0, 'bodyType': 'Moon'}, {'id': 'mundilfari', 'name': 'Mundilfari', 'englishName': 'Mundilfari', 'isPlanet': False, 'semimajorAxis': 18685000, 'perihelion': 0, 'aphelion': 0, 'eccentricity': 0.21, 'inclination': 169.4, 'density': 1.0, 'gravity': 0.0, 'escape': 0.0, 'meanRadius': 3.0, 'equaRadius': 0.0, 'bodyType': 'Moon'}, {'id': 'albiorix', 'name': 'Albiorix', 'englishName': 'Albiorix', 'isPlanet': False, 'semimajorAxis': 16182000, 'perihelion': 0, 'aphelion': 0, 'eccentricity': 0.469, 'inclination': 34.0, 'density': 1.0, 'gravity': 0.0, 'escape': 0.0, 'meanRadius': 13.0, 'equaRadius': 0.0, 'bodyType': 'Moon'}, {'id': 'skathi', 'name': 'Skathi', 'englishName': 'Skathi', 'isPlanet': False, 'semimajorAxis': 15541000, 'perihelion': 0, 'aphelion': 0, 'eccentricity': 0.27, 'inclination': 148.5, 'density': 1.0, 'gravity': 0.0, 'escape': 0.0, 'meanRadius': 3.0, 'equaRadius': 0.0, 'bodyType': 'Moon'}, {'id': 'erriapo', 'name': 'Erriapo', 'englishName': 'Erriapus', 'isPlanet': False, 'semimajorAxis': 17343000, 'perihelion': 0, 'aphelion': 0, 'eccentricity': 0.474, 'inclination': 34.6, 'density': 1.0, 'gravity': 0.0, 'escape': 0.0, 'meanRadius': 4.0, 'equaRadius': 0.0, 'bodyType': 'Moon'}, {'id': 'siarnaq', 'name': 'Siarnaq', 'englishName': 'Siarnaq', 'isPlanet': False, 'semimajorAxis': 17531000, 'perihelion': 0, 'aphelion': 0, 'eccentricity': 0.295, 'inclination': 45.6, 'density': 1.0, 'gravity': 0.0, 'escape': 0.0, 'meanRadius': 16.0, 'equaRadius': 0.0, 'bodyType': 'Moon'}, {'id': 'thrymr', 'name': 'Thrymr', 'englishName': 'Thrymr', 'isPlanet': False, 'semimajorAxis': 20474000, 'perihelion': 0, 'aphelion': 0, 'eccentricity': 0.47, 'inclination': 175.0, 'density': 1.0, 'gravity': 0.0, 'escape': 0.0, 'meanRadius': 3.0, 'equaRadius': 0.0, 'bodyType': 'Moon'}, {'id': 'narvi', 'name': 'Narvi', 'englishName': 'Narvi', 'isPlanet': False, 'semimajorAxis': 19007000, 'perihelion': 0, 'aphelion': 0, 'eccentricity': 0.431, 'inclination': 145.8, 'density': 1.0, 'gravity': 0.0, 'escape': 0.0, 'meanRadius': 3.0, 'equaRadius': 0.0, 'bodyType': 'Moon'}, {'id': 'methone', 'name': 'Méthone', 'englishName': 'Methone', 'isPlanet': False, 'semimajorAxis': 194000, 'perihelion': 194421, 'aphelion': 194459, 'eccentricity': 0.0001, 'inclination': 0.0, 'density': 1.0, 'gravity': 0.0, 'escape': 0.0, 'meanRadius': 1.6, 'equaRadius': 0.0, 'bodyType': 'Moon'}, {'id': 'pallene', 'name': 'Pallène', 'englishName': 'Pallene', 'isPlanet': False, 'semimajorAxis': 211000, 'perihelion': 0, 'aphelion': 0, 'eccentricity': 0.004, 'inclination': 0.0, 'density': 1.0, 'gravity': 0.0, 'escape': 0.0, 'meanRadius': 2.5, 'equaRadius': 0.0, 'bodyType': 'Moon'}, {'id': 'pollux', 'name': 'Pollux', 'englishName': 'Polydeuces', 'isPlanet': False, 'semimajorAxis': 377390, 'perihelion': 0, 'aphelion': 0, 'eccentricity': 0.018, 'inclination': 0.1705, 'density': 1.0, 'gravity': 0.0, 'escape': 0.0, 'meanRadius': 2.0, 'equaRadius': 0.0, 'bodyType': 'Moon'}, {'id': 'daphnis', 'name': 'Daphnis', 'englishName': 'Daphnis', 'isPlanet': False, 'semimajorAxis': 136500, 'perihelion': 0, 'aphelion': 0, 'eccentricity': 0.0, 'inclination': 0.0, 'density': 0.34, 'gravity': 0.0, 'escape': 0.0, 'meanRadius': 3.8, 'equaRadius': 0.0, 'bodyType': 'Moon'}, {'id': 'aegir', 'name': 'Aegir', 'englishName': 'Aegir', 'isPlanet': False, 'semimajorAxis': 20735000, 'perihelion': 0, 'aphelion': 0, 'eccentricity': 0.252, 'inclination': 166.7, 'density': 1.0, 'gravity': 0.0, 'escape': 0.0, 'meanRadius': 3.0, 'equaRadius': 0.0, 'bodyType': 'Moon'}, {'id': 'bebhionn', 'name': 'Bebhionn', 'englishName': 'Bebhionn', 'isPlanet': False, 'semimajorAxis': 17119000, 'perihelion': 0, 'aphelion': 0, 'eccentricity': 0.469, 'inclination': 35.0, 'density': 1.0, 'gravity': 0.0, 'escape': 0.0, 'meanRadius': 3.0, 'equaRadius': 0.0, 'bodyType': 'Moon'}, {'id': 'bergelmir', 'name': 'Bergelmir', 'englishName': 'Bergelmir', 'isPlanet': False, 'semimajorAxis': 19338000, 'perihelion': 0, 'aphelion': 0, 'eccentricity': 0.142, 'inclination': 158.5, 'density': 1.0, 'gravity': 0.0, 'escape': 0.0, 'meanRadius': 3.0, 'equaRadius': 0.0, 'bodyType': 'Moon'}, {'id': 'bestla', 'name': 'Bestla', 'englishName': 'Bestla', 'isPlanet': False, 'semimajorAxis': 20129000, 'perihelion': 0, 'aphelion': 0, 'eccentricity': 0.521, 'inclination': 145.2, 'density': 1.0, 'gravity': 0.0, 'escape': 0.0, 'meanRadius': 3.0, 'equaRadius': 0.0, 'bodyType': 'Moon'}, {'id': 'farbauti', 'name': 'Farbauti', 'englishName': 'Farbauti', 'isPlanet': False, 'semimajorAxis': 20390000, 'perihelion': 0, 'aphelion': 0, 'eccentricity': 0.206, 'inclination': 156.4, 'density': 1.0, 'gravity': 0.0, 'escape': 0.0, 'meanRadius': 3.0, 'equaRadius': 0.0, 'bodyType': 'Moon'}, {'id': 'fenrir', 'name': 'Fenrir', 'englishName': 'Fenrir', 'isPlanet': False, 'semimajorAxis': 22453000, 'perihelion': 0, 'aphelion': 0, 'eccentricity': 0.136, 'inclination': 164.9, 'density': 1.0, 'gravity': 0.0, 'escape': 0.0, 'meanRadius': 2.0, 'equaRadius': 0.0, 'bodyType': 'Moon'}, {'id': 'fornjot', 'name': 'Fornjot', 'englishName': 'Fornjot', 'isPlanet': False, 'semimajorAxis': 25108000, 'perihelion': 0, 'aphelion': 0, 'eccentricity': 0.206, 'inclination': 170.4, 'density': 1.0, 'gravity': 0.0, 'escape': 0.0, 'meanRadius': 3.0, 'equaRadius': 0.0, 'bodyType': 'Moon'}, {'id': 'hati', 'name': 'Hati', 'englishName': 'Hati', 'isPlanet': False, 'semimajorAxis': 19856000, 'perihelion': 0, 'aphelion': 0, 'eccentricity': 0.372, 'inclination': 165.8, 'density': 1.0, 'gravity': 0.0, 'escape': 0.0, 'meanRadius': 3.0, 'equaRadius': 0.0, 'bodyType': 'Moon'}, {'id': 'hyrrokkin', 'name': 'Hyrrokkin', 'englishName': 'Hyrrokkin', 'isPlanet': False, 'semimajorAxis': 18437000, 'perihelion': 0, 'aphelion': 0, 'eccentricity': 0.333, 'inclination': 151.4, 'density': 1.0, 'gravity': 0.0, 'escape': 0.0, 'meanRadius': 4.0, 'equaRadius': 0.0, 'bodyType': 'Moon'}, {'id': 'kari', 'name': 'Kari', 'englishName': 'Kari', 'isPlanet': False, 'semimajorAxis': 22118000, 'perihelion': 0, 'aphelion': 0, 'eccentricity': 0.478, 'inclination': 156.3, 'density': 1.0, 'gravity': 0.0, 'escape': 0.0, 'meanRadius': 3.0, 'equaRadius': 0.0, 'bodyType': 'Moon'}, {'id': 'loge', 'name': 'Loge', 'englishName': 'Loge', 'isPlanet': False, 'semimajorAxis': 23065000, 'perihelion': 0, 'aphelion': 0, 'eccentricity': 0.335, 'inclination': 173.1, 'density': 1.0, 'gravity': 0.0, 'escape': 0.0, 'meanRadius': 3.0, 'equaRadius': 0.0, 'bodyType': 'Moon'}, {'id': 'skoll', 'name': 'Skoll', 'englishName': 'Skoll', 'isPlanet': False, 'semimajorAxis': 17665000, 'perihelion': 0, 'aphelion': 0, 'eccentricity': 0.464, 'inclination': 161.2, 'density': 1.0, 'gravity': 0.0, 'escape': 0.0, 'meanRadius': 3.0, 'equaRadius': 0.0, 'bodyType': 'Moon'}, {'id': 'surtur', 'name': 'Surtur', 'englishName': 'Surtur', 'isPlanet': False, 'semimajorAxis': 22707000, 'perihelion': 0, 'aphelion': 0, 'eccentricity': 0.451, 'inclination': 177.5, 'density': 1.0, 'gravity': 0.0, 'escape': 0.0, 'meanRadius': 3.0, 'equaRadius': 0.0, 'bodyType': 'Moon'}, {'id': 'anthe', 'name': 'Anthé', 'englishName': 'Anthe', 'isPlanet': False, 'semimajorAxis': 197700, 'perihelion': 0, 'aphelion': 0, 'eccentricity': 0.001, 'inclination': 0.1, 'density': 1.0, 'gravity': 0.0, 'escape': 0.0, 'meanRadius': 1.0, 'equaRadius': 0.0, 'bodyType': 'Moon'}, {'id': 'jarnsaxa', 'name': 'Jarnsaxa', 'englishName': 'Jarnsaxa', 'isPlanet': False, 'semimajorAxis': 18811000, 'perihelion': 0, 'aphelion': 0, 'eccentricity': 0.216, 'inclination': 163.3, 'density': 1.0, 'gravity': 0.0, 'escape': 0.0, 'meanRadius': 3.0, 'equaRadius': 0.0, 'bodyType': 'Moon'}, {'id': 'greip', 'name': 'Greip', 'englishName': 'Greip', 'isPlanet': False, 'semimajorAxis': 18206000, 'perihelion': 0, 'aphelion': 0, 'eccentricity': 0.326, 'inclination': 179.8, 'density': 1.0, 'gravity': 0.0, 'escape': 0.0, 'meanRadius': 3.0, 'equaRadius': 0.0, 'bodyType': 'Moon'}, {'id': 'tarqeq', 'name': 'Tarqeq', 'englishName': 'Tarqeq', 'isPlanet': False, 'semimajorAxis': 18009000, 'perihelion': 0, 'aphelion': 0, 'eccentricity': 0.16, 'inclination': 46.1, 'density': 1.0, 'gravity': 0.0, 'escape': 0.0, 'meanRadius': 3.0, 'equaRadius': 0.0, 'bodyType': 'Moon'}, {'id': 'egeon', 'name': 'Égéon', 'englishName': 'Aegaeon', 'isPlanet': False, 'semimajorAxis': 167500, 'perihelion': 0, 'aphelion': 0, 'eccentricity': 0.0002, 'inclination': 0.001, 'density': 1.0, 'gravity': 0.0, 'escape': 0.0, 'meanRadius': 0.5, 'equaRadius': 0.0, 'bodyType': 'Moon'}, {'id': 's2004s7', 'name': 'S/2004 S 7', 'englishName': 'S/2004 S 7', 'isPlanet': False, 'semimajorAxis': 19800000, 'perihelion': 0, 'aphelion': 0, 'eccentricity': 0.58, 'inclination': 165.1, 'density': 1.0, 'gravity': 0.0, 'escape': 0.0, 'meanRadius': 3.0, 'equaRadius': 0.0, 'bodyType': 'Moon'}, {'id': 's2004s12', 'name': 'S/2004 S 12', 'englishName': 'S/2004 S 12', 'isPlanet': False, 'semimajorAxis': 19650000, 'perihelion': 0, 'aphelion': 0, 'eccentricity': 0.401, 'inclination': 164.0, 'density': 1.0, 'gravity': 0.0, 'escape': 0.0, 'meanRadius': 3.0, 'equaRadius': 0.0, 'bodyType': 'Moon'}, {'id': 's2004s13', 'name': 'S/2004 S 13', 'englishName': 'S/2004 S 13', 'isPlanet': False, 'semimajorAxis': 18450000, 'perihelion': 0, 'aphelion': 0, 'eccentricity': 0.273, 'inclination': 167.4, 'density': 1.0, 'gravity': 0.0, 'escape': 0.0, 'meanRadius': 3.0, 'equaRadius': 0.0, 'bodyType': 'Moon'}, {'id': 's2004s17', 'name': 'S/2004 S 17', 'englishName': 'S/2004 S 17', 'isPlanet': False, 'semimajorAxis': 18600000, 'perihelion': 0, 'aphelion': 0, 'eccentricity': 0.259, 'inclination': 166.6, 'density': 1.0, 'gravity': 0.0, 'escape': 0.0, 'meanRadius': 2.0, 'equaRadius': 0.0, 'bodyType': 'Moon'}, {'id': 's2006s1', 'name': 'S/2006 S 1', 'englishName': 'S/2006 S 1', 'isPlanet': False, 'semimajorAxis': 18981135, 'perihelion': 0, 'aphelion': 0, 'eccentricity': 0.13, 'inclination': 154.2, 'density': 1.0, 'gravity': 0.0, 'escape': 0.0, 'meanRadius': 3.0, 'equaRadius': 0.0, 'bodyType': 'Moon'}, {'id': 's2006s3', 'name': 'S/2006 S 3', 'englishName': 'S/2006 S 3', 'isPlanet': False, 'semimajorAxis': 21132000, 'perihelion': 0, 'aphelion': 0, 'eccentricity': 0.471, 'inclination': 150.8, 'density': 1.0, 'gravity': 0.0, 'escape': 0.0, 'meanRadius': 3.0, 'equaRadius': 0.0, 'bodyType': 'Moon'}, {'id': 's2007s2', 'name': 'S/2007 S 2', 'englishName': 'S/2007 S 2', 'isPlanet': False, 'semimajorAxis': 16560000, 'perihelion': 0, 'aphelion': 0, 'eccentricity': 0.218, 'inclination': 176.7, 'density': 1.0, 'gravity': 0.0, 'escape': 0.0, 'meanRadius': 3.0, 'equaRadius': 0.0, 'bodyType': 'Moon'}, {'id': 's2007s3', 'name': 'S/2007 S 3', 'englishName': 'S/2007 S 3', 'isPlanet': False, 'semimajorAxis': 20518500, 'perihelion': 0, 'aphelion': 0, 'eccentricity': 0.13, 'inclination': 177.2, 'density': 1.0, 'gravity': 0.0, 'escape': 0.0, 'meanRadius': 3.0, 'equaRadius': 0.0, 'bodyType': 'Moon'}, {'id': 's2009s1', 'name': 'S/2009 S 1', 'englishName': 'S/2009 S 1', 'isPlanet': False, 'semimajorAxis': 117000, 'perihelion': 0, 'aphelion': 0, 'eccentricity': 0.0, 'inclination': 0.0, 'density': 1.0, 'gravity': 0.0, 'escape': 0.0, 'meanRadius': 0.3, 'equaRadius': 0.0, 'bodyType': 'Moon'}, {'id': 'ariel', 'name': 'Ariel', 'englishName': 'Ariel', 'isPlanet': False, 'semimajorAxis': 190900, 'perihelion': 190670, 'aphelion': 191130, 'eccentricity': 0.0012, 'inclination': 0.04, 'density': 1.59, 'gravity': 0.0, 'escape': 0.0, 'meanRadius': 581.1, 'equaRadius': 0.0, 'bodyType': 'Moon'}, {'id': 'umbriel', 'name': 'Umbriel', 'englishName': 'Umbriel', 'isPlanet': False, 'semimajorAxis': 266000, 'perihelion': 265100, 'aphelion': 267500, 'eccentricity': 0.0039, 'inclination': 0.13, 'density': 1.46, 'gravity': 0.0, 'escape': 0.0, 'meanRadius': 584.7, 'equaRadius': 0.0, 'bodyType': 'Moon'}, {'id': 'titania', 'name': 'Titania', 'englishName': 'Titania', 'isPlanet': False, 'semimajorAxis': 436300, 'perihelion': 435800, 'aphelion': 436800, 'eccentricity': 0.0011, 'inclination': 0.08, 'density': 1.66, 'gravity': 0.0, 'escape': 0.0, 'meanRadius': 788.9, 'equaRadius': 0.0, 'bodyType': 'Moon'}, {'id': 'oberon', 'name': 'Obéron', 'englishName': 'Oberon', 'isPlanet': False, 'semimajorAxis': 583500, 'perihelion': 582702, 'aphelion': 584336, 'eccentricity': 0.0014, 'inclination': 0.07, 'density': 1.56, 'gravity': 0.0, 'escape': 0.0, 'meanRadius': 761.4, 'equaRadius': 0.0, 'bodyType': 'Moon'}, {'id': 'miranda', 'name': 'Miranda', 'englishName': 'Miranda', 'isPlanet': False, 'semimajorAxis': 129900, 'perihelion': 129703, 'aphelion': 130041, 'eccentricity': 0.0013, 'inclination': 4.34, 'density': 1.2, 'gravity': 0.0, 'escape': 0.0, 'meanRadius': 240.0, 'equaRadius': 0.0, 'bodyType': 'Moon'}, {'id': 'cordelia', 'name': 'Cordélia', 'englishName': 'Cordelia', 'isPlanet': False, 'semimajorAxis': 49800, 'perihelion': 0, 'aphelion': 0, 'eccentricity': 0.0003, 'inclination': 0.08, 'density': 1.0, 'gravity': 0.0, 'escape': 0.0, 'meanRadius': 20.0, 'equaRadius': 0.0, 'bodyType': 'Moon'}, {'id': 'ophelia', 'name': 'Ophélie', 'englishName': 'Ophelia', 'isPlanet': False, 'semimajorAxis': 53800, 'perihelion': 0, 'aphelion': 0, 'eccentricity': 0.0099, 'inclination': 0.1, 'density': 1.0, 'gravity': 0.0, 'escape': 0.0, 'meanRadius': 21.0, 'equaRadius': 0.0, 'bodyType': 'Moon'}, {'id': 'bianca', 'name': 'Bianca', 'englishName': 'Bianca', 'isPlanet': False, 'semimajorAxis': 59200, 'perihelion': 0, 'aphelion': 0, 'eccentricity': 0.0009, 'inclination': 0.19, 'density': 1.0, 'gravity': 0.0, 'escape': 0.0, 'meanRadius': 27.0, 'equaRadius': 0.0, 'bodyType': 'Moon'}, {'id': 'cressida', 'name': 'Cressida', 'englishName': 'Cressida', 'isPlanet': False, 'semimajorAxis': 61800, 'perihelion': 0, 'aphelion': 0, 'eccentricity': 0.0004, 'inclination': 0.01, 'density': 1.0, 'gravity': 0.0, 'escape': 0.0, 'meanRadius': 41.0, 'equaRadius': 0.0, 'bodyType': 'Moon'}, {'id': 'desdemona', 'name': 'Desdémone', 'englishName': 'Desdemona', 'isPlanet': False, 'semimajorAxis': 62700, 'perihelion': 0, 'aphelion': 0, 'eccentricity': 0.0001, 'inclination': 0.11, 'density': 1.0, 'gravity': 0.0, 'escape': 0.0, 'meanRadius': 35.0, 'equaRadius': 0.0, 'bodyType': 'Moon'}, {'id': 'juliet', 'name': 'Juliette', 'englishName': 'Juliet', 'isPlanet': False, 'semimajorAxis': 64400, 'perihelion': 0, 'aphelion': 0, 'eccentricity': 0.0007, 'inclination': 0.07, 'density': 1.0, 'gravity': 0.0, 'escape': 0.0, 'meanRadius': 53.0, 'equaRadius': 0.0, 'bodyType': 'Moon'}, {'id': 'portia', 'name': 'Portia', 'englishName': 'Portia', 'isPlanet': False, 'semimajorAxis': 66100, 'perihelion': 0, 'aphelion': 0, 'eccentricity': 0.0001, 'inclination': 0.06, 'density': 1.0, 'gravity': 0.0, 'escape': 0.0, 'meanRadius': 70.0, 'equaRadius': 0.0, 'bodyType': 'Moon'}, {'id': 'rosalind', 'name': 'Rosalinde', 'englishName': 'Rosalind', 'isPlanet': False, 'semimajorAxis': 69900, 'perihelion': 0, 'aphelion': 0, 'eccentricity': 0.0001, 'inclination': 0.28, 'density': 1.0, 'gravity': 0.0, 'escape': 0.0, 'meanRadius': 36.0, 'equaRadius': 0.0, 'bodyType': 'Moon'}, {'id': 'belinda', 'name': 'Belinda', 'englishName': 'Belinda', 'isPlanet': False, 'semimajorAxis': 75300, 'perihelion': 0, 'aphelion': 0, 'eccentricity': 0.0001, 'inclination': 0.03, 'density': 1.0, 'gravity': 0.0, 'escape': 0.0, 'meanRadius': 45.0, 'equaRadius': 0.0, 'bodyType': 'Moon'}, {'id': 'puck', 'name': 'Puck', 'englishName': 'Puck', 'isPlanet': False, 'semimajorAxis': 86000, 'perihelion': 0, 'aphelion': 0, 'eccentricity': 0.0001, 'inclination': 0.32, 'density': 1.0, 'gravity': 0.0, 'escape': 0.0, 'meanRadius': 81.0, 'equaRadius': 0.0, 'bodyType': 'Moon'}, {'id': 'caliban', 'name': 'Caliban', 'englishName': 'Caliban', 'isPlanet': False, 'semimajorAxis': 7231000, 'perihelion': 0, 'aphelion': 0, 'eccentricity': 0.1812, 'inclination': 141.53, 'density': 1.0, 'gravity': 0.0, 'escape': 0.0, 'meanRadius': 36.0, 'equaRadius': 0.0, 'bodyType': 'Moon'}, {'id': 'sycorax', 'name': 'Sycorax', 'englishName': 'Sycorax', 'isPlanet': False, 'semimajorAxis': 12179000, 'perihelion': 0, 'aphelion': 0, 'eccentricity': 0.5219, 'inclination': 159.42, 'density': 1.0, 'gravity': 0.0, 'escape': 0.0, 'meanRadius': 75.0, 'equaRadius': 0.0, 'bodyType': 'Moon'}, {'id': 'prospero', 'name': 'Prospero', 'englishName': 'Prospero', 'isPlanet': False, 'semimajorAxis': 16256000, 'perihelion': 0, 'aphelion': 0, 'eccentricity': 0.4445, 'inclination': 151.83, 'density': 1.0, 'gravity': 0.0, 'escape': 0.0, 'meanRadius': 25.0, 'equaRadius': 0.0, 'bodyType': 'Moon'}, {'id': 'setebos', 'name': 'Setebos', 'englishName': 'Setebos', 'isPlanet': False, 'semimajorAxis': 17418000, 'perihelion': 0, 'aphelion': 0, 'eccentricity': 0.5908, 'inclination': 158.24, 'density': 1.0, 'gravity': 0.0, 'escape': 0.0, 'meanRadius': 24.0, 'equaRadius': 0.0, 'bodyType': 'Moon'}, {'id': 'stephano', 'name': 'Stephano', 'englishName': 'Stephano', 'isPlanet': False, 'semimajorAxis': 8004000, 'perihelion': 0, 'aphelion': 0, 'eccentricity': 0.2248, 'inclination': 143.82, 'density': 1.0, 'gravity': 0.0, 'escape': 0.0, 'meanRadius': 16.0, 'equaRadius': 0.0, 'bodyType': 'Moon'}, {'id': 'trinculo', 'name': 'Trinculo', 'englishName': 'Trinculo', 'isPlanet': False, 'semimajorAxis': 8504000, 'perihelion': 0, 'aphelion': 0, 'eccentricity': 0.2194, 'inclination': 166.93, 'density': 1.0, 'gravity': 0.0, 'escape': 0.0, 'meanRadius': 9.0, 'equaRadius': 0.0, 'bodyType': 'Moon'}, {'id': 'francisco', 'name': 'Francisco', 'englishName': 'Francisco', 'isPlanet': False, 'semimajorAxis': 4276000, 'perihelion': 0, 'aphelion': 0, 'eccentricity': 0.1324, 'inclination': 147.25, 'density': 1.0, 'gravity': 0.0, 'escape': 0.0, 'meanRadius': 11.0, 'equaRadius': 0.0, 'bodyType': 'Moon'}, {'id': 'margaret', 'name': 'Margaret', 'englishName': 'Margaret', 'isPlanet': False, 'semimajorAxis': 14345000, 'perihelion': 0, 'aphelion': 0, 'eccentricity': 0.6772, 'inclination': 57.37, 'density': 1.0, 'gravity': 0.0, 'escape': 0.0, 'meanRadius': 10.0, 'equaRadius': 0.0, 'bodyType': 'Moon'}, {'id': 'ferdinand', 'name': 'Ferdinand', 'englishName': 'Ferdinand', 'isPlanet': False, 'semimajorAxis': 20901000, 'perihelion': 0, 'aphelion': 0, 'eccentricity': 0.3993, 'inclination': 169.79, 'density': 1.0, 'gravity': 0.0, 'escape': 0.0, 'meanRadius': 10.0, 'equaRadius': 0.0, 'bodyType': 'Moon'}, {'id': 'perdita', 'name': 'Perdita', 'englishName': 'Perdita', 'isPlanet': False, 'semimajorAxis': 76420, 'perihelion': 0, 'aphelion': 0, 'eccentricity': 0.0116, 'inclination': 0.47, 'density': 1.0, 'gravity': 0.0, 'escape': 0.0, 'meanRadius': 13.0, 'equaRadius': 0.0, 'bodyType': 'Moon'}, {'id': 'mab', 'name': 'Mab', 'englishName': 'Mab', 'isPlanet': False, 'semimajorAxis': 97740, 'perihelion': 0, 'aphelion': 0, 'eccentricity': 0.0025, 'inclination': 0.13, 'density': 1.0, 'gravity': 0.0, 'escape': 0.0, 'meanRadius': 12.0, 'equaRadius': 0.0, 'bodyType': 'Moon'}, {'id': 'cupid', 'name': 'Cupid', 'englishName': 'Cupid', 'isPlanet': False, 'semimajorAxis': 74390, 'perihelion': 0, 'aphelion': 0, 'eccentricity': 0.0013, 'inclination': 0.1, 'density': 1.0, 'gravity': 0.0, 'escape': 0.0, 'meanRadius': 9.0, 'equaRadius': 0.0, 'bodyType': 'Moon'}, {'id': 'triton', 'name': 'Triton', 'englishName': 'Triton', 'isPlanet': False, 'semimajorAxis': 354760, 'perihelion': 354753, 'aphelion': 354765, 'eccentricity': 2e-05, 'inclination': 157.345, 'density': 2.05, 'gravity': 0.78, 'escape': 0.0, 'meanRadius': 1353.4, 'equaRadius': 0.0, 'bodyType': 'Moon'}, {'id': 'nereide', 'name': 'Néreïde', 'englishName': 'Nereid', 'isPlanet': False, 'semimajorAxis': 5513400, 'perihelion': 1372000, 'aphelion': 9655000, 'eccentricity': 0.7512, 'inclination': 7.23, 'density': 1.0, 'gravity': 0.071, 'escape': 0.0, 'meanRadius': 170.0, 'equaRadius': 0.0, 'bodyType': 'Moon'}, {'id': 'naiade', 'name': 'Naïade', 'englishName': 'Naiad', 'isPlanet': False, 'semimajorAxis': 48227, 'perihelion': 0, 'aphelion': 0, 'eccentricity': 0.0003, 'inclination': 4.74, 'density': 1.0, 'gravity': 0.01, 'escape': 0.0, 'meanRadius': 33.0, 'equaRadius': 0.0, 'bodyType': 'Moon'}, {'id': 'thalassa', 'name': 'Thalassa', 'englishName': 'Thalassa', 'isPlanet': False, 'semimajorAxis': 50075, 'perihelion': 0, 'aphelion': 0, 'eccentricity': 0.0002, 'inclination': 0.21, 'density': 1.0, 'gravity': 0.013, 'escape': 0.0, 'meanRadius': 41.0, 'equaRadius': 0.0, 'bodyType': 'Moon'}, {'id': 'despina', 'name': 'Despina', 'englishName': 'Despina', 'isPlanet': False, 'semimajorAxis': 52526, 'perihelion': 0, 'aphelion': 0, 'eccentricity': 0.0001, 'inclination': 0.07, 'density': 1.0, 'gravity': 0.023, 'escape': 0.0, 'meanRadius': 75.0, 'equaRadius': 0.0, 'bodyType': 'Moon'}, {'id': 'galatee', 'name': 'Galatée', 'englishName': 'Galatea', 'isPlanet': False, 'semimajorAxis': 61953, 'perihelion': 0, 'aphelion': 0, 'eccentricity': 0.0001, 'inclination': 0.05, 'density': 1.0, 'gravity': 0.03, 'escape': 0.0, 'meanRadius': 88.0, 'equaRadius': 0.0, 'bodyType': 'Moon'}, {'id': 'larissa', 'name': 'Larissa', 'englishName': 'Larissa', 'isPlanet': False, 'semimajorAxis': 73548, 'perihelion': 0, 'aphelion': 0, 'eccentricity': 0.0014, 'inclination': 0.2, 'density': 1.0, 'gravity': 0.034, 'escape': 0.0, 'meanRadius': 97.0, 'equaRadius': 0.0, 'bodyType': 'Moon'}, {'id': 'protee', 'name': 'Protée', 'englishName': 'Proteus', 'isPlanet': False, 'semimajorAxis': 117647, 'perihelion': 0, 'aphelion': 0, 'eccentricity': 0.0004, 'inclination': 0.04, 'density': 1.0, 'gravity': 0.075, 'escape': 0.0, 'meanRadius': 210.0, 'equaRadius': 0.0, 'bodyType': 'Moon'}, {'id': 'halimede', 'name': 'Halimède', 'englishName': 'Halimede', 'isPlanet': False, 'semimajorAxis': 15730000, 'perihelion': 0, 'aphelion': 0, 'eccentricity': 0.571, 'inclination': 134.1, 'density': 1.0, 'gravity': 0.01, 'escape': 0.0, 'meanRadius': 30.0, 'equaRadius': 0.0, 'bodyType': 'Moon'}, {'id': 'psamathee', 'name': 'Psamathée', 'englishName': 'Psamathe', 'isPlanet': False, 'semimajorAxis': 46700000, 'perihelion': 0, 'aphelion': 0, 'eccentricity': 0.45, 'inclination': 137.4, 'density': 1.0, 'gravity': 0.0, 'escape': 0.0, 'meanRadius': 20.0, 'equaRadius': 0.0, 'bodyType': 'Moon'}, {'id': 'sao', 'name': 'Sao', 'englishName': 'Sao', 'isPlanet': False, 'semimajorAxis': 22420000, 'perihelion': 0, 'aphelion': 0, 'eccentricity': 0.293, 'inclination': 48.5, 'density': 1.0, 'gravity': 0.01, 'escape': 0.0, 'meanRadius': 20.0, 'equaRadius': 0.0, 'bodyType': 'Moon'}, {'id': 'laomedie', 'name': 'Laomédie', 'englishName': 'Laomedeia', 'isPlanet': False, 'semimajorAxis': 23570000, 'perihelion': 0, 'aphelion': 0, 'eccentricity': 0.424, 'inclination': 34.7, 'density': 1.0, 'gravity': 0.01, 'escape': 0.0, 'meanRadius': 20.0, 'equaRadius': 0.0, 'bodyType': 'Moon'}, {'id': 'neso', 'name': 'Néso', 'englishName': 'Neso', 'isPlanet': False, 'semimajorAxis': 48390000, 'perihelion': 0, 'aphelion': 0, 'eccentricity': 0.495, 'inclination': 132.6, 'density': 1.0, 'gravity': 0.0, 'escape': 0.0, 'meanRadius': 30.0, 'equaRadius': 0.0, 'bodyType': 'Moon'}, {'id': 'charon', 'name': 'Charon', 'englishName': 'Charon', 'isPlanet': False, 'semimajorAxis': 19591, 'perihelion': 19587, 'aphelion': 19595, 'eccentricity': 0.0002, 'inclination': 0.08, 'density': 1.0, 'gravity': 0.0, 'escape': 0.0, 'meanRadius': 606.0, 'equaRadius': 0.0, 'bodyType': 'Moon'}, {'id': 'nix', 'name': 'Nix', 'englishName': 'Nix', 'isPlanet': False, 'semimajorAxis': 48694, 'perihelion': 0, 'aphelion': 0, 'eccentricity': 0.002, 'inclination': 0.133, 'density': 1.0, 'gravity': 0.0, 'escape': 0.0, 'meanRadius': 44.0, 'equaRadius': 0.0, 'bodyType': 'Moon'}, {'id': 'hydra', 'name': 'Hydra', 'englishName': 'Hydra', 'isPlanet': False, 'semimajorAxis': 64738, 'perihelion': 0, 'aphelion': 0, 'eccentricity': 0.005, 'inclination': 0.242, 'density': 1.0, 'gravity': 0.0, 'escape': 0.0, 'meanRadius': 36.0, 'equaRadius': 0.0, 'bodyType': 'Moon'}, {'id': 'namaka', 'name': 'Namaka', 'englishName': 'Namaka', 'isPlanet': False, 'semimajorAxis': 25657, 'perihelion': 0, 'aphelion': 0, 'eccentricity': 0.249, 'inclination': 113.0, 'density': 1.0, 'gravity': 0.0, 'escape': 0.0, 'meanRadius': 85.0, 'equaRadius': 0.0, 'bodyType': 'Moon'}, {'id': 'hiiaka', 'name': \"Hi'iaka\", 'englishName': 'Hiʻiaka', 'isPlanet': False, 'semimajorAxis': 49880, 'perihelion': 0, 'aphelion': 0, 'eccentricity': 0.0513, 'inclination': 126.35, 'density': 1.0, 'gravity': 0.0, 'escape': 0.0, 'meanRadius': 160.0, 'equaRadius': 0.0, 'bodyType': 'Moon'}, {'id': 'dysnomie', 'name': 'Dysnomie', 'englishName': 'Dysnomia', 'isPlanet': False, 'semimajorAxis': 37273, 'perihelion': 0, 'aphelion': 0, 'eccentricity': 0.0062, 'inclination': 45.49, 'density': 1.0, 'gravity': 0.0, 'escape': 0.0, 'meanRadius': 350.0, 'equaRadius': 0.0, 'bodyType': 'Moon'}, {'id': 'dia', 'name': 'Dia', 'englishName': 'Dia', 'isPlanet': False, 'semimajorAxis': 12118000, 'perihelion': 0, 'aphelion': 0, 'eccentricity': 0.211, 'inclination': 28.23, 'density': 1.0, 'gravity': 0.0, 'escape': 0.0, 'meanRadius': 2.0, 'equaRadius': 0.0, 'bodyType': 'Moon'}, {'id': 's2004s3', 'name': 'S/2004 S 3', 'englishName': 'S/2004 S 3', 'isPlanet': False, 'semimajorAxis': 140100, 'perihelion': 0, 'aphelion': 0, 'eccentricity': 0.02, 'inclination': 0.0, 'density': 1.0, 'gravity': 0.0, 'escape': 0.0, 'meanRadius': 2.0, 'equaRadius': 0.0, 'bodyType': 'Moon'}, {'id': 's2004s4', 'name': 'S/2004 S 4', 'englishName': 'S/2004 S 4', 'isPlanet': False, 'semimajorAxis': 140100, 'perihelion': 0, 'aphelion': 0, 'eccentricity': 0.0, 'inclination': 0.0, 'density': 1.0, 'gravity': 0.0, 'escape': 0.0, 'meanRadius': 2.0, 'equaRadius': 0.0, 'bodyType': 'Moon'}, {'id': 's2004s6', 'name': 'S/2004 S 6', 'englishName': 'S/2004 S 6', 'isPlanet': False, 'semimajorAxis': 140134, 'perihelion': 0, 'aphelion': 0, 'eccentricity': 0.002, 'inclination': 0.02, 'density': 1.0, 'gravity': 0.0, 'escape': 0.0, 'meanRadius': 2.5, 'equaRadius': 0.0, 'bodyType': 'Moon'}, {'id': 's2010j1', 'name': 'S/2010 J 1', 'englishName': 'S/2010 J 1', 'isPlanet': False, 'semimajorAxis': 23314335, 'perihelion': 0, 'aphelion': 0, 'eccentricity': 0.32, 'inclination': 163.2, 'density': 1.0, 'gravity': 0.0, 'escape': 0.0, 'meanRadius': 1.0, 'equaRadius': 0.0, 'bodyType': 'Moon'}, {'id': 's2010j2', 'name': 'S/2010 J 2', 'englishName': 'S/2010 J 2', 'isPlanet': False, 'semimajorAxis': 20307150, 'perihelion': 0, 'aphelion': 0, 'eccentricity': 0.307, 'inclination': 150.4, 'density': 1.0, 'gravity': 0.0, 'escape': 0.0, 'meanRadius': 0.5, 'equaRadius': 0.0, 'bodyType': 'Moon'}, {'id': 'ceres', 'name': '(1) Cérès', 'englishName': '1 Ceres', 'isPlanet': False, 'semimajorAxis': 414010000, 'perihelion': 382620000, 'aphelion': 445410000, 'eccentricity': 0.07582, 'inclination': 10.593, 'density': 2.161, 'gravity': 0.28, 'escape': 510.0, 'meanRadius': 476.2, 'equaRadius': 487.0, 'bodyType': 'Asteroid'}, {'id': 'hebe', 'name': '(6) Hébé', 'englishName': '6 Hebe', 'isPlanet': False, 'semimajorAxis': 362959000, 'perihelion': 289958000, 'aphelion': 435960000, 'eccentricity': 0.201, 'inclination': 14.765, 'density': 1.0, 'gravity': 0.0, 'escape': 0.0, 'meanRadius': 92.3, 'equaRadius': 0.0, 'bodyType': 'Asteroid'}, {'id': 'lempo', 'name': '(47171) Lempo', 'englishName': '47171 Lempo', 'isPlanet': False, 'semimajorAxis': 5884000000, 'perihelion': 4580000000, 'aphelion': 7185000000, 'eccentricity': 0.221, 'inclination': 8.4, 'density': 1.0, 'gravity': 0.0, 'escape': 0.0, 'meanRadius': 197.0, 'equaRadius': 0.0, 'bodyType': 'Asteroid'}, {'id': 'petitprince', 'name': 'Petit-Prince', 'englishName': 'The Little Prince', 'isPlanet': False, 'semimajorAxis': 1184, 'perihelion': 0, 'aphelion': 0, 'eccentricity': 0.01, 'inclination': 8.0, 'density': 1.0, 'gravity': 0.0, 'escape': 0.0, 'meanRadius': 13.0, 'equaRadius': 0.0, 'bodyType': 'Moon'}, {'id': 'pulcova', 'name': '(762) Pulcova', 'englishName': '762 Pulcova', 'isPlanet': False, 'semimajorAxis': 472579673, 'perihelion': 427401116, 'aphelion': 517758230, 'eccentricity': 0.096, 'inclination': 13.049, 'density': 1.0, 'gravity': 0.0, 'escape': 0.0, 'meanRadius': 78.6, 'equaRadius': 0.0, 'bodyType': 'Asteroid'}, {'id': 'toutatis', 'name': '(4179) Toutatis', 'englishName': '4179 Toutatis', 'isPlanet': False, 'semimajorAxis': 377326000, 'perihelion': 137739000, 'aphelion': 616914000, 'eccentricity': 0.635, 'inclination': 0.446, 'density': 1.0, 'gravity': 0.0, 'escape': 0.0, 'meanRadius': 0.0, 'equaRadius': 0.0, 'bodyType': 'Asteroid'}, {'id': 'quaoar', 'name': '(50000) Quaoar', 'englishName': '50000 Quaoar', 'isPlanet': False, 'semimajorAxis': 6489054000, 'perihelion': 6266487000, 'aphelion': 6711620000, 'eccentricity': 0.034, 'inclination': 7.984, 'density': 1.0, 'gravity': 0.0, 'escape': 0.0, 'meanRadius': 675.0, 'equaRadius': 0.0, 'bodyType': 'Asteroid'}, {'id': 'steins', 'name': '(2867) Šteins', 'englishName': '2867 Šteins', 'isPlanet': False, 'semimajorAxis': 353495000, 'perihelion': 30867000, 'aphelion': 405132000, 'eccentricity': 0.1463, 'inclination': 9.944, 'density': 1.0, 'gravity': 0.0, 'escape': 0.0, 'meanRadius': 0.0, 'equaRadius': 0.0, 'bodyType': 'Asteroid'}, {'id': 'eris', 'name': '(136199) Éris', 'englishName': '136199 Eris', 'isPlanet': False, 'semimajorAxis': 10180122852, 'perihelion': 5765732799, 'aphelion': 14594512904, 'eccentricity': 0.44068, 'inclination': 44.0445, 'density': 2.52, 'gravity': 0.82, 'escape': 1380.0, 'meanRadius': 1163.0, 'equaRadius': 0.0, 'bodyType': 'Dwarf Planet'}, {'id': 'astree', 'name': '(5) Astrée', 'englishName': '5 Astraea', 'isPlanet': False, 'semimajorAxis': 384877000, 'perihelion': 310509000, 'aphelion': 459245000, 'eccentricity': 0.193, 'inclination': 5.37, 'density': 1.0, 'gravity': 0.0, 'escape': 0.0, 'meanRadius': 59.5, 'equaRadius': 0.0, 'bodyType': 'Asteroid'}, {'id': 'pholus', 'name': '(5145) Pholus', 'englishName': '5145 Pholus', 'isPlanet': False, 'semimajorAxis': 3055227000, 'perihelion': 1302945000, 'aphelion': 4807509000, 'eccentricity': 0.574, 'inclination': 0.0, 'density': 1.0, 'gravity': 0.0, 'escape': 0.0, 'meanRadius': 95.0, 'equaRadius': 0.0, 'bodyType': 'Asteroid'}, {'id': 'castalia', 'name': '(4769) Castalia', 'englishName': '4769 Castalia', 'isPlanet': False, 'semimajorAxis': 159053000, 'perihelion': 82190000, 'aphelion': 235916000, 'eccentricity': 0.483, 'inclination': 8.886, 'density': 1.0, 'gravity': 0.0, 'escape': 0.0, 'meanRadius': 0.0, 'equaRadius': 0.0, 'bodyType': 'Asteroid'}, {'id': 'remus', 'name': 'Rémus', 'englishName': 'Remus', 'isPlanet': False, 'semimajorAxis': 706, 'perihelion': 0, 'aphelion': 0, 'eccentricity': 0.016, 'inclination': 2.0, 'density': 1.0, 'gravity': 0.0, 'escape': 0.0, 'meanRadius': 7.0, 'equaRadius': 0.0, 'bodyType': 'Moon'}, {'id': 'hector', 'name': '(624) Hector', 'englishName': '624 Hektor', 'isPlanet': False, 'semimajorAxis': 781183000, 'perihelion': 762145000, 'aphelion': 800220000, 'eccentricity': 0.024, 'inclination': 18.198, 'density': 1.0, 'gravity': 0.0, 'escape': 0.0, 'meanRadius': 0.0, 'equaRadius': 0.0, 'bodyType': 'Asteroid'}, {'id': 'kleopatra', 'name': '(216) Kléopatra', 'englishName': '216 Kleopatra', 'isPlanet': False, 'semimajorAxis': 417796000, 'perihelion': 312544000, 'aphelion': 523049000, 'eccentricity': 0.252, 'inclination': 13.099, 'density': 1.0, 'gravity': 0.0, 'escape': 0.0, 'meanRadius': 0.0, 'equaRadius': 0.0, 'bodyType': 'Asteroid'}, {'id': 'cruithne', 'name': '(3753) Cruithne', 'englishName': '3753 Cruithne', 'isPlanet': False, 'semimajorAxis': 149260000, 'perihelion': 72415000, 'aphelion': 226104000, 'eccentricity': 0.515, 'inclination': 19.807, 'density': 1.0, 'gravity': 0.0, 'escape': 0.0, 'meanRadius': 2.5, 'equaRadius': 0.0, 'bodyType': 'Asteroid'}, {'id': 'junon', 'name': '(3) Junon', 'englishName': '3 Juno', 'isPlanet': False, 'semimajorAxis': 399480000, 'perihelion': 328870000, 'aphelion': 502080000, 'eccentricity': 0.2568, 'inclination': 12.963, 'density': 1.0, 'gravity': 0.0, 'escape': 0.0, 'meanRadius': 120.0, 'equaRadius': 0.0, 'bodyType': 'Asteroid'}, {'id': 'hygie', 'name': '(10) Hygie', 'englishName': '10 Hygiea', 'isPlanet': False, 'semimajorAxis': 469345000, 'perihelion': 413378000, 'aphelion': 525311000, 'eccentricity': 0.119, 'inclination': 3.83, 'density': 1.0, 'gravity': 0.0, 'escape': 0.0, 'meanRadius': 203.6, 'equaRadius': 0.0, 'bodyType': 'Asteroid'}, {'id': 'lutetia', 'name': '(21) Lutetia', 'englishName': '21 Lutetia', 'isPlanet': False, 'semimajorAxis': 364277000, 'perihelion': 304600000, 'aphelion': 423955000, 'eccentricity': 0.164, 'inclination': 3.064, 'density': 1.0, 'gravity': 0.0, 'escape': 0.0, 'meanRadius': 42.5, 'equaRadius': 0.0, 'bodyType': 'Asteroid'}, {'id': 'mathilde', 'name': '(253) Mathilde', 'englishName': '253 Mathilde', 'isPlanet': False, 'semimajorAxis': 395900000, 'perihelion': 290640000, 'aphelion': 501170000, 'eccentricity': 0.266, 'inclination': 6.738, 'density': 1.0, 'gravity': 0.0, 'escape': 0.0, 'meanRadius': 0.0, 'equaRadius': 0.0, 'bodyType': 'Asteroid'}, {'id': 'uranus', 'name': 'Uranus', 'englishName': 'Uranus', 'isPlanet': True, 'semimajorAxis': 2870658186, 'perihelion': 2734998229, 'aphelion': 3006318143, 'eccentricity': 0.0457, 'inclination': 0.772, 'density': 1.27, 'gravity': 8.87, 'escape': 21380.0, 'meanRadius': 25362.0, 'equaRadius': 25559.0, 'bodyType': 'Planet'}, {'id': 'iris', 'name': '(7) Iris', 'englishName': '7 Iris', 'isPlanet': False, 'semimajorAxis': 357019000, 'perihelion': 274729000, 'aphelion': 439310000, 'eccentricity': 0.23, 'inclination': 5.523, 'density': 1.0, 'gravity': 0.0, 'escape': 0.0, 'meanRadius': 100.0, 'equaRadius': 0.0, 'bodyType': 'Asteroid'}, {'id': 'eros', 'name': '(433) Éros', 'englishName': '433 Eros', 'isPlanet': False, 'semimajorAxis': 218155000, 'perihelion': 169548000, 'aphelion': 266762000, 'eccentricity': 0.2229, 'inclination': 10.8294, 'density': 1.0, 'gravity': 0.0, 'escape': 0.0, 'meanRadius': 0.0, 'equaRadius': 0.0, 'bodyType': 'Asteroid'}, {'id': 'vanth', 'name': 'Vanth', 'englishName': 'Vanth', 'isPlanet': False, 'semimajorAxis': 9000, 'perihelion': 0, 'aphelion': 0, 'eccentricity': 0.0009, 'inclination': 105.03, 'density': 1.0, 'gravity': 0.0, 'escape': 0.0, 'meanRadius': 434.0, 'equaRadius': 0.0, 'bodyType': 'Moon'}, {'id': 'sedna', 'name': '(90377) Sedna', 'englishName': '90377 Sedna', 'isPlanet': False, 'semimajorAxis': 75659770000, 'perihelion': 11378031000, 'aphelion': 139941508000, 'eccentricity': 0.85, 'inclination': 11.932, 'density': 1.0, 'gravity': 0.0, 'escape': 0.0, 'meanRadius': 497.0, 'equaRadius': 0.0, 'bodyType': 'Asteroid'}, {'id': 'chariklo', 'name': '(10199) Chariklo', 'englishName': '10199 Chariklo', 'isPlanet': False, 'semimajorAxis': 2380000000, 'perihelion': 1962000000, 'aphelion': 2799000000, 'eccentricity': 0.1759, 'inclination': 23.3737, 'density': 1.0, 'gravity': 0.0, 'escape': 0.0, 'meanRadius': 248.0, 'equaRadius': 0.0, 'bodyType': 'Asteroid'}, {'id': 'sylvia', 'name': '(87) Sylvia', 'englishName': '87 Sylvia', 'isPlanet': False, 'semimajorAxis': 522135000, 'perihelion': 48540000, 'aphelion': 563729000, 'eccentricity': 0.08, 'inclination': 10.856, 'density': 1.0, 'gravity': 0.0, 'escape': 0.0, 'meanRadius': 0.0, 'equaRadius': 0.0, 'bodyType': 'Asteroid'}, {'id': 'dactyl', 'name': 'Dactyl', 'englishName': '(243) Ida I Dactyl', 'isPlanet': False, 'semimajorAxis': 90, 'perihelion': 0, 'aphelion': 0, 'eccentricity': 0.0, 'inclination': 8.0, 'density': 1.0, 'gravity': 0.0, 'escape': 0.0, 'meanRadius': 0.0, 'equaRadius': 0.0, 'bodyType': 'Moon'}, {'id': 'orcus', 'name': '(90482) Orcus', 'englishName': '90482 Orcus', 'isPlanet': False, 'semimajorAxis': 5862440000, 'perihelion': 4535800000, 'aphelion': 7188170000, 'eccentricity': 0.2262, 'inclination': 20.593, 'density': 1.0, 'gravity': 0.0, 'escape': 0.0, 'meanRadius': 473.0, 'equaRadius': 0.0, 'bodyType': 'Asteroid'}, {'id': 'pluton', 'name': 'Pluton', 'englishName': 'Pluto', 'isPlanet': False, 'semimajorAxis': 5906440628, 'perihelion': 4436756954, 'aphelion': 7376124302, 'eccentricity': 0.2488, 'inclination': 17.16, 'density': 1.89, 'gravity': 0.62, 'escape': 1210.0, 'meanRadius': 1188.3, 'equaRadius': 1188.3, 'bodyType': 'Dwarf Planet'}, {'id': 'damocles', 'name': '(5335) Damoclès', 'englishName': '5335 Damocles', 'isPlanet': False, 'semimajorAxis': 1760100000, 'perihelion': 236400000, 'aphelion': 3304500000, 'eccentricity': 0.87, 'inclination': 0.0, 'density': 1.0, 'gravity': 0.0, 'escape': 0.0, 'meanRadius': 5.0, 'equaRadius': 0.0, 'bodyType': 'Asteroid'}, {'id': 'romulus', 'name': 'Romulus', 'englishName': 'Romulus', 'isPlanet': False, 'semimajorAxis': 1351, 'perihelion': 0, 'aphelion': 0, 'eccentricity': 0.0069, 'inclination': 1.7, 'density': 1.0, 'gravity': 0.0, 'escape': 0.0, 'meanRadius': 10.8, 'equaRadius': 0.0, 'bodyType': 'Moon'}, {'id': 'alexhelios', 'name': 'Alexhélios', 'englishName': 'Alexhelios', 'isPlanet': False, 'semimajorAxis': 0, 'perihelion': 0, 'aphelion': 0, 'eccentricity': 0.0, 'inclination': 0.0, 'density': 1.0, 'gravity': 0.0, 'escape': 0.0, 'meanRadius': 6.9, 'equaRadius': 0.0, 'bodyType': 'Moon'}, {'id': 'cleoselene', 'name': 'Cléoséléné', 'englishName': 'Cleoselene', 'isPlanet': False, 'semimajorAxis': 0, 'perihelion': 0, 'aphelion': 0, 'eccentricity': 0.0, 'inclination': 0.0, 'density': 1.0, 'gravity': 0.0, 'escape': 0.0, 'meanRadius': 8.9, 'equaRadius': 0.0, 'bodyType': 'Moon'}, {'id': 'flore', 'name': '(8) Flore', 'englishName': '8 Flora', 'isPlanet': False, 'semimajorAxis': 329313000, 'perihelion': 277806000, 'aphelion': 380821000, 'eccentricity': 0.156, 'inclination': 5.887, 'density': 1.0, 'gravity': 0.0, 'escape': 0.0, 'meanRadius': 67.7, 'equaRadius': 0.0, 'bodyType': 'Asteroid'}, {'id': 'chiron', 'name': '(2060) Chiron', 'englishName': '2060 Chiron', 'isPlanet': False, 'semimajorAxis': 2042652000, 'perihelion': 1262646000, 'aphelion': 2822659000, 'eccentricity': 0.382, 'inclination': 6.935, 'density': 1.0, 'gravity': 0.0, 'escape': 0.0, 'meanRadius': 83.0, 'equaRadius': 0.0, 'bodyType': 'Asteroid'}, {'id': 'eureka', 'name': '(5261) Eurêka', 'englishName': '5261 Eureka', 'isPlanet': False, 'semimajorAxis': 227908000, 'perihelion': 213132000, 'aphelion': 242684000, 'eccentricity': 0.065, 'inclination': 0.0, 'density': 1.0, 'gravity': 0.0, 'escape': 0.0, 'meanRadius': 1.2, 'equaRadius': 0.0, 'bodyType': 'Asteroid'}, {'id': 'achille', 'name': '(588) Achille', 'englishName': '588 Achilles', 'isPlanet': False, 'semimajorAxis': 776669000, 'perihelion': 662395000, 'aphelion': 890944000, 'eccentricity': 0.147, 'inclination': 10.324, 'density': 1.0, 'gravity': 0.0, 'escape': 0.0, 'meanRadius': 67.8, 'equaRadius': 0.0, 'bodyType': 'Asteroid'}, {'id': 'weywot', 'name': 'Weywot', 'englishName': 'Weywot', 'isPlanet': False, 'semimajorAxis': 14500, 'perihelion': 12470, 'aphelion': 16530, 'eccentricity': 0.148, 'inclination': 14.0, 'density': 1.0, 'gravity': 0.0, 'escape': 0.0, 'meanRadius': 170.0, 'equaRadius': 0.0, 'bodyType': 'Moon'}, {'id': 'ixion', 'name': '(28978) Ixion', 'englishName': '28978 Ixion', 'isPlanet': False, 'semimajorAxis': 5910896000, 'perihelion': 4483896000, 'aphelion': 7337896000, 'eccentricity': 0.241, 'inclination': 19.621, 'density': 1.0, 'gravity': 0.0, 'escape': 0.0, 'meanRadius': 379.5, 'equaRadius': 0.0, 'bodyType': 'Asteroid'}, {'id': 'neptune', 'name': 'Neptune', 'englishName': 'Neptune', 'isPlanet': True, 'semimajorAxis': 4498396441, 'perihelion': 4459753056, 'aphelion': 4537039826, 'eccentricity': 0.0113, 'inclination': 1.769, 'density': 1.638, 'gravity': 11.15, 'escape': 23560.0, 'meanRadius': 24622.0, 'equaRadius': 24764.0, 'bodyType': 'Planet'}, {'id': 'sl9', 'name': 'Shoemaker-Levy 9', 'englishName': 'Shoemaker-Levy 9', 'isPlanet': False, 'semimajorAxis': 0, 'perihelion': 0, 'aphelion': 0, 'eccentricity': 0.0, 'inclination': 94.2, 'density': 1.0, 'gravity': 0.0, 'escape': 0.0, 'meanRadius': 1.2, 'equaRadius': 0.0, 'bodyType': 'Comet'}, {'id': '9metis', 'name': '(9) Métis', 'englishName': '9 Metis', 'isPlanet': False, 'semimajorAxis': 357052000, 'perihelion': 313556000, 'aphelion': 400548000, 'eccentricity': 0.122, 'inclination': 5.576, 'density': 1.0, 'gravity': 0.0, 'escape': 0.0, 'meanRadius': 0.0, 'equaRadius': 0.0, 'bodyType': 'Asteroid'}, {'id': 'haumea', 'name': '(136108) Hauméa', 'englishName': '136108 Haumea', 'isPlanet': False, 'semimajorAxis': 6432011461, 'perihelion': 5157623774, 'aphelion': 7706399149, 'eccentricity': 0.19126, 'inclination': 28.19, 'density': 2.6, 'gravity': 0.401, 'escape': 809.0, 'meanRadius': 0.0, 'equaRadius': 0.0, 'bodyType': 'Dwarf Planet'}, {'id': 'nessus', 'name': '(7066) Nessus', 'englishName': '7066 Nessus', 'isPlanet': False, 'semimajorAxis': 3689000000, 'perihelion': 1769000000, 'aphelion': 608000000, 'eccentricity': 0.5203, 'inclination': 0.0, 'density': 1.0, 'gravity': 0.0, 'escape': 0.0, 'meanRadius': 0.0, 'equaRadius': 0.0, 'bodyType': 'Asteroid'}, {'id': 'itokawa', 'name': '(25143) Itokawa', 'englishName': '25143 Itokawa', 'isPlanet': False, 'semimajorAxis': 198049628, 'perihelion': 142500000, 'aphelion': 253520000, 'eccentricity': 0.2801, 'inclination': 1.622, 'density': 1.0, 'gravity': 0.0, 'escape': 0.0, 'meanRadius': 0.0, 'equaRadius': 0.0, 'bodyType': 'Asteroid'}, {'id': 'hylonome', 'name': '(10370) Hylonome', 'englishName': '10370 Hylonome', 'isPlanet': False, 'semimajorAxis': 3779000000, 'perihelion': 2832000000, 'aphelion': 4725000000, 'eccentricity': 0.2504, 'inclination': 4.141, 'density': 1.0, 'gravity': 0.0, 'escape': 0.0, 'meanRadius': 70.0, 'equaRadius': 0.0, 'bodyType': 'Asteroid'}, {'id': 'eugenia', 'name': '(45) Eugénie', 'englishName': '45 Eugenia', 'isPlanet': False, 'semimajorAxis': 406934000, 'perihelion': 373484000, 'aphelion': 440383000, 'eccentricity': 0.082, 'inclination': 6.61, 'density': 1.0, 'gravity': 0.0, 'escape': 0.0, 'meanRadius': 107.3, 'equaRadius': 0.0, 'bodyType': 'Asteroid'}, {'id': '2006sq372', 'name': '(308933) 2006 SQ372', 'englishName': '(308933) 2006 SQ372', 'isPlanet': False, 'semimajorAxis': 151692240180, 'perihelion': 3616000000, 'aphelion': 218565300000, 'eccentricity': 0.976, 'inclination': 19.46, 'density': 1.0, 'gravity': 0.0, 'escape': 0.0, 'meanRadius': 55.0, 'equaRadius': 0.0, 'bodyType': 'Asteroid'}, {'id': 'pallas', 'name': '(2) Pallas', 'englishName': '2 Pallas', 'isPlanet': False, 'semimajorAxis': 414717000, 'perihelion': 319358000, 'aphelion': 510077000, 'eccentricity': 0.231, 'inclination': 0.0, 'density': 1.0, 'gravity': 0.0, 'escape': 0.0, 'meanRadius': 545.0, 'equaRadius': 0.0, 'bodyType': 'Asteroid'}, {'id': 'asbolus', 'name': '(8405) Asbolus', 'englishName': '8405 Asbolus', 'isPlanet': False, 'semimajorAxis': 2694000000, 'perihelion': 1025000000, 'aphelion': 4362000000, 'eccentricity': 0.6194, 'inclination': 17.63807, 'density': 1.0, 'gravity': 0.0, 'escape': 0.0, 'meanRadius': 33.0, 'equaRadius': 0.0, 'bodyType': 'Asteroid'}, {'id': 'varuna', 'name': '(20000) Varuna', 'englishName': '20000 Varuna', 'isPlanet': False, 'semimajorAxis': 6451398000, 'perihelion': 6120810000, 'aphelion': 6781985000, 'eccentricity': 0.051, 'inclination': 17.158, 'density': 1.0, 'gravity': 0.0, 'escape': 0.0, 'meanRadius': 330.0, 'equaRadius': 0.0, 'bodyType': 'Asteroid'}, {'id': 'vesta', 'name': '(4) Vesta', 'englishName': '4 Vesta', 'isPlanet': False, 'semimajorAxis': 353343000, 'perihelion': 321767000, 'aphelion': 384920000, 'eccentricity': 0.0893, 'inclination': 7.1337, 'density': 1.0, 'gravity': 0.0, 'escape': 0.0, 'meanRadius': 265.0, 'equaRadius': 0.0, 'bodyType': 'Asteroid'}, {'id': 'ida', 'name': '(243) Ida', 'englishName': '243 Ida', 'isPlanet': False, 'semimajorAxis': 428000000, 'perihelion': 408162000, 'aphelion': 447837000, 'eccentricity': 0.046, 'inclination': 1.138, 'density': 1.0, 'gravity': 0.0, 'escape': 0.0, 'meanRadius': 0.0, 'equaRadius': 0.0, 'bodyType': 'Asteroid'}, {'id': 'hyakutake', 'name': 'Hyakutake', 'englishName': 'Comet Hyakutake', 'isPlanet': False, 'semimajorAxis': 0, 'perihelion': 0, 'aphelion': 0, 'eccentricity': 0.0, 'inclination': 0.0, 'density': 1.0, 'gravity': 0.0, 'escape': 0.0, 'meanRadius': 4.2, 'equaRadius': 0.0, 'bodyType': 'Comet'}, {'id': 'gaspra', 'name': '(951) Gaspra', 'englishName': '951 Gaspra', 'isPlanet': False, 'semimajorAxis': 330513000, 'perihelion': 272979000, 'aphelion': 388047000, 'eccentricity': 0.174, 'inclination': 4.102, 'density': 1.0, 'gravity': 0.0, 'escape': 0.0, 'meanRadius': 0.0, 'equaRadius': 0.0, 'bodyType': 'Asteroid'}, {'id': 'albion', 'name': '(15760) Albion', 'englishName': '15760 Albion', 'isPlanet': False, 'semimajorAxis': 6547379000, 'perihelion': 6117144000, 'aphelion': 6977613000, 'eccentricity': 0.066, 'inclination': 2.195, 'density': 1.0, 'gravity': 0.0, 'escape': 0.0, 'meanRadius': 60.0, 'equaRadius': 0.0, 'bodyType': 'Asteroid'}, {'id': 'makemake', 'name': '(136472) Makémaké', 'englishName': '136472 Makemake', 'isPlanet': False, 'semimajorAxis': 6783345606, 'perihelion': 5671928586, 'aphelion': 7894762625, 'eccentricity': 0.15586, 'inclination': 29.00685, 'density': 1.4, 'gravity': 0.5, 'escape': 800.0, 'meanRadius': 725.0, 'equaRadius': 745.0, 'bodyType': 'Dwarf Planet'}, {'id': 'halley', 'name': 'Comète de Halley', 'englishName': \"Halley's Comet\", 'isPlanet': False, 'semimajorAxis': 2677801885, 'perihelion': 0, 'aphelion': 0, 'eccentricity': 0.96727, 'inclination': 0.0, 'density': 1.0, 'gravity': 0.0, 'escape': 0.0, 'meanRadius': 15.0, 'equaRadius': 0.0, 'bodyType': 'Comet'}, {'id': 'jupiter', 'name': 'Jupiter', 'englishName': 'Jupiter', 'isPlanet': True, 'semimajorAxis': 778340821, 'perihelion': 740379835, 'aphelion': 816620000, 'eccentricity': 0.0489, 'inclination': 1.304, 'density': 1.3262, 'gravity': 24.79, 'escape': 60200.0, 'meanRadius': 69911.0, 'equaRadius': 71492.0, 'bodyType': 'Planet'}, {'id': 'mars', 'name': 'Mars', 'englishName': 'Mars', 'isPlanet': True, 'semimajorAxis': 227939200, 'perihelion': 206700000, 'aphelion': 249200000, 'eccentricity': 0.0935, 'inclination': 1.85, 'density': 3.9341, 'gravity': 3.71, 'escape': 5030.0, 'meanRadius': 3389.5, 'equaRadius': 3396.19, 'bodyType': 'Planet'}, {'id': 'mercure', 'name': 'Mercure', 'englishName': 'Mercury', 'isPlanet': True, 'semimajorAxis': 57909050, 'perihelion': 46001200, 'aphelion': 69816900, 'eccentricity': 0.2056, 'inclination': 7.0, 'density': 5.4291, 'gravity': 3.7, 'escape': 4250.0, 'meanRadius': 2439.4, 'equaRadius': 2440.53, 'bodyType': 'Planet'}, {'id': 'saturne', 'name': 'Saturne', 'englishName': 'Saturn', 'isPlanet': True, 'semimajorAxis': 1426666422, 'perihelion': 1349823615, 'aphelion': 1503509229, 'eccentricity': 0.0565, 'inclination': 2.485, 'density': 0.6871, 'gravity': 10.44, 'escape': 36090.0, 'meanRadius': 58232.0, 'equaRadius': 60268.0, 'bodyType': 'Planet'}, {'id': 'soleil', 'name': 'Le Soleil', 'englishName': 'Sun', 'isPlanet': False, 'semimajorAxis': 0, 'perihelion': 0, 'aphelion': 0, 'eccentricity': 0.0, 'inclination': 0.0, 'density': 1.0, 'gravity': 0.0, 'escape': 0.0, 'meanRadius': 695508.0, 'equaRadius': 696342.0, 'bodyType': 'Star'}, {'id': 'terre', 'name': 'La Terre', 'englishName': 'Earth', 'isPlanet': True, 'semimajorAxis': 149598023, 'perihelion': 147095000, 'aphelion': 152100000, 'eccentricity': 0.0167, 'inclination': 0.0, 'density': 5.5136, 'gravity': 9.8, 'escape': 11190.0, 'meanRadius': 6371.0084, 'equaRadius': 6378.1366, 'bodyType': 'Planet'}, {'id': 'venus', 'name': 'Vénus', 'englishName': 'Venus', 'isPlanet': True, 'semimajorAxis': 108208475, 'perihelion': 107477000, 'aphelion': 108939000, 'eccentricity': 0.0067, 'inclination': 3.39, 'density': 5.243, 'gravity': 8.87, 'escape': 10360.0, 'meanRadius': 6051.8, 'equaRadius': 6051.8, 'bodyType': 'Planet'}, {'id': 'kerberos', 'name': 'Kerberos', 'englishName': 'Kerberos', 'isPlanet': False, 'semimajorAxis': 57783, 'perihelion': 0, 'aphelion': 0, 'eccentricity': 0.003, 'inclination': 0.389, 'density': 1.0, 'gravity': 0.0, 'escape': 0.0, 'meanRadius': 25.0, 'equaRadius': 0.0, 'bodyType': 'Moon'}, {'id': 's2011j1', 'name': 'S/2011 J 1', 'englishName': 'S/2011 J 1', 'isPlanet': False, 'semimajorAxis': 20155290, 'perihelion': 0, 'aphelion': 0, 'eccentricity': 0.296, 'inclination': 162.8, 'density': 1.0, 'gravity': 0.0, 'escape': 0.0, 'meanRadius': 0.5, 'equaRadius': 0.0, 'bodyType': 'Moon'}, {'id': 's2011j2', 'name': 'S/2011 J 2', 'englishName': 'S/2011 J 2', 'isPlanet': False, 'semimajorAxis': 23463885, 'perihelion': 0, 'aphelion': 0, 'eccentricity': 0.332, 'inclination': 148.8, 'density': 1.0, 'gravity': 0.0, 'escape': 0.0, 'meanRadius': 0.5, 'equaRadius': 0.0, 'bodyType': 'Moon'}, {'id': 'styx', 'name': 'Styx', 'englishName': 'Styx', 'isPlanet': False, 'semimajorAxis': 42656, 'perihelion': 0, 'aphelion': 0, 'eccentricity': 0.005, 'inclination': 0.809, 'density': 1.0, 'gravity': 0.0, 'escape': 0.0, 'meanRadius': 20.0, 'equaRadius': 0.0, 'bodyType': 'Moon'}, {'id': 'hippocampe', 'name': 'Hippocampe', 'englishName': 'Hippocamp', 'isPlanet': False, 'semimajorAxis': 105300, 'perihelion': 0, 'aphelion': 0, 'eccentricity': 0.0, 'inclination': 0.0, 'density': 1.0, 'gravity': 0.0, 'escape': 0.0, 'meanRadius': 17.0, 'equaRadius': 0.0, 'bodyType': 'Moon'}, {'id': 'mk2', 'name': 'S/2015 (136472) 1', 'englishName': 'S/2015 (136472) 1', 'isPlanet': False, 'semimajorAxis': 21000, 'perihelion': 21100, 'aphelion': 300000, 'eccentricity': 0.0, 'inclination': 0.0, 'density': 1.0, 'gravity': 0.0, 'escape': 0.0, 'meanRadius': 75.0, 'equaRadius': 0.0, 'bodyType': 'Moon'}, {'id': 's2017j1', 'name': 'S/2017 J 1', 'englishName': 'S/2017 J 1', 'isPlanet': False, 'semimajorAxis': 23547105, 'perihelion': 0, 'aphelion': 0, 'eccentricity': 0.397, 'inclination': 149.2, 'density': 1.0, 'gravity': 0.0, 'escape': 0.0, 'meanRadius': 2.0, 'equaRadius': 0.0, 'bodyType': 'Moon'}, {'id': 's2016j1', 'name': 'S/2016 J 1', 'englishName': 'S/2016 J 1', 'isPlanet': False, 'semimajorAxis': 20650845, 'perihelion': 0, 'aphelion': 0, 'eccentricity': 0.141, 'inclination': 139.8, 'density': 1.0, 'gravity': 0.0, 'escape': 0.0, 'meanRadius': 0.5, 'equaRadius': 0.0, 'bodyType': 'Moon'}, {'id': 'valetudo', 'name': 'Valétudo', 'englishName': 'Valetudo', 'isPlanet': False, 'semimajorAxis': 18928000, 'perihelion': 0, 'aphelion': 0, 'eccentricity': 0.222, 'inclination': 34.0, 'density': 1.0, 'gravity': 0.0, 'escape': 0.0, 'meanRadius': 0.5, 'equaRadius': 0.0, 'bodyType': 'Moon'}, {'id': 's2017j2', 'name': 'S/2017 J 2', 'englishName': 'S/2017 J 2', 'isPlanet': False, 'semimajorAxis': 23303000, 'perihelion': 0, 'aphelion': 0, 'eccentricity': 0.236, 'inclination': 166.4, 'density': 1.0, 'gravity': 0.0, 'escape': 0.0, 'meanRadius': 1.0, 'equaRadius': 0.0, 'bodyType': 'Moon'}, {'id': 's2017j3', 'name': 'S/2017 J 3', 'englishName': 'S/2017 J 3', 'isPlanet': False, 'semimajorAxis': 20639000, 'perihelion': 0, 'aphelion': 0, 'eccentricity': 0.148, 'inclination': 147.9, 'density': 1.0, 'gravity': 0.0, 'escape': 0.0, 'meanRadius': 1.0, 'equaRadius': 0.0, 'bodyType': 'Moon'}, {'id': 'pandia', 'name': 'Pandia', 'englishName': 'Pandia', 'isPlanet': False, 'semimajorAxis': 11495000, 'perihelion': 0, 'aphelion': 0, 'eccentricity': 0.18, 'inclination': 28.2, 'density': 1.0, 'gravity': 0.0, 'escape': 0.0, 'meanRadius': 1.5, 'equaRadius': 0.0, 'bodyType': 'Moon'}, {'id': 's2017j5', 'name': 'S/2017 J 5', 'englishName': 'S/2017 J 5', 'isPlanet': False, 'semimajorAxis': 23169000, 'perihelion': 0, 'aphelion': 0, 'eccentricity': 0.284, 'inclination': 164.3, 'density': 1.0, 'gravity': 0.0, 'escape': 0.0, 'meanRadius': 1.0, 'equaRadius': 0.0, 'bodyType': 'Moon'}, {'id': 's2017j6', 'name': 'S/2017 J 6', 'englishName': 'S/2017 J 6', 'isPlanet': False, 'semimajorAxis': 22395000, 'perihelion': 0, 'aphelion': 0, 'eccentricity': 0.557, 'inclination': 155.2, 'density': 1.0, 'gravity': 0.0, 'escape': 0.0, 'meanRadius': 1.0, 'equaRadius': 0.0, 'bodyType': 'Moon'}, {'id': 's2017j7', 'name': 'S/2017 J 7', 'englishName': 'S/2017 J 7', 'isPlanet': False, 'semimajorAxis': 20571000, 'perihelion': 0, 'aphelion': 0, 'eccentricity': 0.215, 'inclination': 143.4, 'density': 1.0, 'gravity': 0.0, 'escape': 0.0, 'meanRadius': 1.0, 'equaRadius': 0.0, 'bodyType': 'Moon'}, {'id': 's2017j8', 'name': 'S/2017 J 8', 'englishName': 'S/2017 J 8', 'isPlanet': False, 'semimajorAxis': 23174000, 'perihelion': 0, 'aphelion': 0, 'eccentricity': 0.312, 'inclination': 164.7, 'density': 1.0, 'gravity': 0.0, 'escape': 0.0, 'meanRadius': 0.5, 'equaRadius': 0.0, 'bodyType': 'Moon'}, {'id': 's2017j9', 'name': 'S/2017 J 9', 'englishName': 'S/2017 J 9', 'isPlanet': False, 'semimajorAxis': 21430000, 'perihelion': 0, 'aphelion': 0, 'eccentricity': 0.229, 'inclination': 152.7, 'density': 1.0, 'gravity': 0.0, 'escape': 0.0, 'meanRadius': 1.5, 'equaRadius': 0.0, 'bodyType': 'Moon'}, {'id': 'ersa', 'name': 'Ersa', 'englishName': 'Ersa', 'isPlanet': False, 'semimajorAxis': 11453000, 'perihelion': 0, 'aphelion': 0, 'eccentricity': 0.094, 'inclination': 30.6, 'density': 1.0, 'gravity': 0.0, 'escape': 0.0, 'meanRadius': 1.5, 'equaRadius': 0.0, 'bodyType': 'Moon'}, {'id': 'arrokoth', 'name': '(486958) Arrokoth', 'englishName': 'Arrokoth', 'isPlanet': False, 'semimajorAxis': 6633400000, 'perihelion': 6387800000, 'aphelion': 6879000000, 'eccentricity': 0.0461, 'inclination': 2.4533, 'density': 1.0, 'gravity': 0.0, 'escape': 0.0, 'meanRadius': 0.0, 'equaRadius': 0.0, 'bodyType': 'Asteroid'}, {'id': 'benou', 'name': '(101955) Bénou', 'englishName': '101955 Bennu', 'isPlanet': False, 'semimajorAxis': 168400000, 'perihelion': 134200000, 'aphelion': 202900000, 'eccentricity': 0.204, 'inclination': 6.035, 'density': 1.0, 'gravity': 0.0, 'escape': 0.0, 'meanRadius': 250.0, 'equaRadius': 0.0, 'bodyType': 'Asteroid'}, {'id': 's2004s22', 'name': 'S/2004 S 22', 'englishName': 'S/2004 S 22', 'isPlanet': False, 'semimajorAxis': 20379900, 'perihelion': 0, 'aphelion': 0, 'eccentricity': 0.257, 'inclination': 177.4, 'density': 0.0, 'gravity': 0.0, 'escape': 0.0, 'meanRadius': 1.5, 'equaRadius': 0.0, 'bodyType': 'Moon'}, {'id': 's2004s21', 'name': 'S/2004 S 21', 'englishName': 'S/2004 S 21', 'isPlanet': False, 'semimajorAxis': 23810400, 'perihelion': 0, 'aphelion': 0, 'eccentricity': 0.312, 'inclination': 154.6, 'density': 0.0, 'gravity': 0.0, 'escape': 0.0, 'meanRadius': 1.5, 'equaRadius': 0.0, 'bodyType': 'Moon'}, {'id': 's2004s20', 'name': 'S/2004 S 20', 'englishName': 'S/2004 S 20', 'isPlanet': False, 'semimajorAxis': 19211000, 'perihelion': 0, 'aphelion': 0, 'eccentricity': 0.204, 'inclination': 163.1, 'density': 0.0, 'gravity': 0.0, 'escape': 0.0, 'meanRadius': 2.0, 'equaRadius': 0.0, 'bodyType': 'Moon'}, {'id': 's2004s23', 'name': 'S/2004 S 23', 'englishName': 'S/2004 S 23', 'isPlanet': False, 'semimajorAxis': 21427000, 'perihelion': 0, 'aphelion': 0, 'eccentricity': 0.399, 'inclination': 177.7, 'density': 0.0, 'gravity': 0.0, 'escape': 0.0, 'meanRadius': 2.0, 'equaRadius': 0.0, 'bodyType': 'Moon'}, {'id': 's2004s24', 'name': 'S/2004 S 24', 'englishName': 'S/2004 S 24', 'isPlanet': False, 'semimajorAxis': 23231300, 'perihelion': 0, 'aphelion': 0, 'eccentricity': 0.049, 'inclination': 36.78, 'density': 0.0, 'gravity': 0.0, 'escape': 0.0, 'meanRadius': 1.5, 'equaRadius': 0.0, 'bodyType': 'Moon'}, {'id': 's2004s25', 'name': 'S/2004 S 25', 'englishName': 'S/2004 S 25', 'isPlanet': False, 'semimajorAxis': 20544500, 'perihelion': 0, 'aphelion': 0, 'eccentricity': 0.457, 'inclination': 173.3, 'density': 0.0, 'gravity': 0.0, 'escape': 0.0, 'meanRadius': 1.5, 'equaRadius': 0.0, 'bodyType': 'Moon'}, {'id': 's2004s26', 'name': 'S/2004 S 26', 'englishName': 'S/2004 S 26', 'isPlanet': False, 'semimajorAxis': 26737800, 'perihelion': 0, 'aphelion': 0, 'eccentricity': 0.148, 'inclination': 171.3, 'density': 0.0, 'gravity': 0.0, 'escape': 0.0, 'meanRadius': 2.0, 'equaRadius': 0.0, 'bodyType': 'Moon'}, {'id': 's2004s27', 'name': 'S/2004 S 27', 'englishName': 'S/2004 S 27', 'isPlanet': False, 'semimajorAxis': 19776700, 'perihelion': 0, 'aphelion': 0, 'eccentricity': 0.12, 'inclination': 167.1, 'density': 0.0, 'gravity': 0.0, 'escape': 0.0, 'meanRadius': 2.0, 'equaRadius': 0.0, 'bodyType': 'Moon'}, {'id': 's2004s28', 'name': 'S/2004 S 28', 'englishName': 'S/2004 S 28', 'isPlanet': False, 'semimajorAxis': 21791300, 'perihelion': 0, 'aphelion': 0, 'eccentricity': 0.133, 'inclination': 171.0, 'density': 0.0, 'gravity': 0.0, 'escape': 0.0, 'meanRadius': 2.0, 'equaRadius': 0.0, 'bodyType': 'Moon'}, {'id': 's2004s29', 'name': 'S/2004 S 29', 'englishName': 'S/2004 S 29', 'isPlanet': False, 'semimajorAxis': 17470700, 'perihelion': 0, 'aphelion': 0, 'eccentricity': 0.472, 'inclination': 44.43, 'density': 0.0, 'gravity': 0.0, 'escape': 0.0, 'meanRadius': 2.0, 'equaRadius': 0.0, 'bodyType': 'Moon'}, {'id': 's2004s30', 'name': 'S/2004 S 30', 'englishName': 'S/2004 S 30', 'isPlanet': False, 'semimajorAxis': 20424000, 'perihelion': 0, 'aphelion': 0, 'eccentricity': 0.113, 'inclination': 156.3, 'density': 0.0, 'gravity': 0.0, 'escape': 0.0, 'meanRadius': 1.5, 'equaRadius': 0.0, 'bodyType': 'Moon'}, {'id': 's2004s31', 'name': 'S/2004 S 31', 'englishName': 'S/2004 S 31', 'isPlanet': False, 'semimajorAxis': 17402800, 'perihelion': 0, 'aphelion': 0, 'eccentricity': 0.242, 'inclination': 48.11, 'density': 0.0, 'gravity': 0.0, 'escape': 0.0, 'meanRadius': 2.0, 'equaRadius': 0.0, 'bodyType': 'Moon'}, {'id': 's2004s32', 'name': 'S/2004 S 32', 'englishName': 'S/2004 S 32', 'isPlanet': False, 'semimajorAxis': 21564200, 'perihelion': 0, 'aphelion': 0, 'eccentricity': 0.262, 'inclination': 158.5, 'density': 0.0, 'gravity': 0.0, 'escape': 0.0, 'meanRadius': 2.0, 'equaRadius': 0.0, 'bodyType': 'Moon'}, {'id': 's2004s33', 'name': 'S/2004 S 33', 'englishName': 'S/2004 S 33', 'isPlanet': False, 'semimajorAxis': 23764800, 'perihelion': 0, 'aphelion': 0, 'eccentricity': 0.417, 'inclination': 161.5, 'density': 0.0, 'gravity': 0.0, 'escape': 0.0, 'meanRadius': 2.0, 'equaRadius': 0.0, 'bodyType': 'Moon'}, {'id': 's2004s34', 'name': 'S/2004 S 34', 'englishName': 'S/2004 S 34', 'isPlanet': False, 'semimajorAxis': 24358900, 'perihelion': 0, 'aphelion': 0, 'eccentricity': 0.267, 'inclination': 165.7, 'density': 0.0, 'gravity': 0.0, 'escape': 0.0, 'meanRadius': 1.5, 'equaRadius': 0.0, 'bodyType': 'Moon'}, {'id': 's2004s35', 'name': 'S/2004 S 35', 'englishName': 'S/2004 S 35', 'isPlanet': False, 'semimajorAxis': 21953200, 'perihelion': 0, 'aphelion': 0, 'eccentricity': 0.182, 'inclination': 176.4, 'density': 0.0, 'gravity': 0.0, 'escape': 0.0, 'meanRadius': 2.0, 'equaRadius': 0.0, 'bodyType': 'Moon'}, {'id': 's2004s36', 'name': 'S/2004 S 36', 'englishName': 'S/2004 S 36', 'isPlanet': False, 'semimajorAxis': 23698700, 'perihelion': 0, 'aphelion': 0, 'eccentricity': 0.667, 'inclination': 147.6, 'density': 0.0, 'gravity': 0.0, 'escape': 0.0, 'meanRadius': 1.5, 'equaRadius': 0.0, 'bodyType': 'Moon'}, {'id': 's2004s37', 'name': 'S/2004 S 37', 'englishName': 'S/2004 S 37', 'isPlanet': False, 'semimajorAxis': 16003300, 'perihelion': 0, 'aphelion': 0, 'eccentricity': 0.506, 'inclination': 164.0, 'density': 0.0, 'gravity': 0.0, 'escape': 0.0, 'meanRadius': 2.0, 'equaRadius': 0.0, 'bodyType': 'Moon'}, {'id': 's2004s38', 'name': 'S/2004 S 38', 'englishName': 'S/2004 S 38', 'isPlanet': False, 'semimajorAxis': 23006200, 'perihelion': 0, 'aphelion': 0, 'eccentricity': 0.381, 'inclination': 155.0, 'density': 0.0, 'gravity': 0.0, 'escape': 0.0, 'meanRadius': 2.0, 'equaRadius': 0.0, 'bodyType': 'Moon'}, {'id': 's2004s39', 'name': 'S/2004 S 39', 'englishName': 'S/2004 S 39', 'isPlanet': False, 'semimajorAxis': 22790400, 'perihelion': 0, 'aphelion': 0, 'eccentricity': 0.081, 'inclination': 167.6, 'density': 0.0, 'gravity': 0.0, 'escape': 0.0, 'meanRadius': 1.0, 'equaRadius': 0.0, 'bodyType': 'Moon'}, {'id': 'c2020f3-neowise', 'name': 'C/2020 F3 (NEOWISE)', 'englishName': 'C/2020 F3 (NEOWISE)', 'isPlanet': False, 'semimajorAxis': 40690620830, 'perihelion': 0, 'aphelion': 0, 'eccentricity': 0.99921, 'inclination': 128.93, 'density': 0.0, 'gravity': 0.0, 'escape': 0.0, 'meanRadius': 0.0, 'equaRadius': 0.0, 'bodyType': 'Comet'}, {'id': 's2003j24', 'name': 'S/2003 J 24', 'englishName': 'S/2003 J 24', 'isPlanet': False, 'semimajorAxis': 23088000, 'perihelion': 0, 'aphelion': 0, 'eccentricity': 0.25, 'inclination': 0.0, 'density': 0.0, 'gravity': 0.0, 'escape': 0.0, 'meanRadius': 0.0, 'equaRadius': 0.0, 'bodyType': 'Moon'}]\n"
          ]
        }
      ]
    },
    {
      "cell_type": "markdown",
      "source": [
        "The next step is loading the data into our environment to manipulate it and build a model based on it in PySpark. The data we have is now saved as a JSON file (this is an optional step to avoid abusing the API if anything goes wrong we can just load existing data, however the data can be loaded straight into PySpark, with a link at the end of the article to work that shows this).\n",
        "\n",
        "When working with PySpark it is useful to set a schema before reading in data so you can be sure what you have pulled from the API is the same as what you are expecting. The PySpark StructTypes allow you to set field types (i.e. string, bool, float) and they also allow you to set whether or not a field is nullable (true, false) depending on if it is essential (id). Finally the StructType allows you to set what fields you want to pull through. This analysis will focus on density, gravity and escape velocity so these are the numeric fields pulled through, an example schema based on these values is given below but please do experiment and see what other fields can produce interesting clusters."
      ],
      "metadata": {
        "id": "XSRBDQdjX4g-"
      }
    },
    {
      "cell_type": "code",
      "source": [
        "from pyspark.sql import functions as F\n",
        "from pyspark.sql.types import StructType, StructField, BooleanType, FloatType, StringType\n",
        "from pyspark.sql.types import ArrayType\n",
        "\n",
        "# set up schema for data to be stored with correct data types and nullable fields \n",
        "schema = StructType([\n",
        "  StructField(\"bodies\", ArrayType(StructType([\n",
        "      StructField(\"id\", StringType(), False), \n",
        "      StructField(\"englishName\", StringType(), True),\n",
        "      StructField(\"isPlanet\", BooleanType(), True),\n",
        "      StructField(\"density\", FloatType(), True),\n",
        "      StructField(\"gravity\", FloatType(), True),\n",
        "      StructField(\"escape\", FloatType(), True)\n",
        "  ])), True)\n",
        "])\n",
        "\n",
        "# read in JSON file with the schema set \n",
        "df = spark.read.json('data.json', schema)\n",
        "\n",
        "# Explode the bodies column into separate rows\n",
        "df = df.select(F.explode(df.bodies).alias(\"bodies\"))\n",
        "\n",
        "# Select the required columns\n",
        "df = df.select(df.bodies.getField('id').alias('id'), \n",
        "               df.bodies.getField('englishName').alias('englishName'), \n",
        "               df.bodies.getField('isPlanet').alias('isPlanet'), \n",
        "               df.bodies.getField('density').alias('density'), \n",
        "               df.bodies.getField('gravity').alias('gravity'), \n",
        "               df.bodies.getField('escape').alias('escape'))\n",
        "\n",
        "df.show(5)\n"
      ],
      "metadata": {
        "colab": {
          "base_uri": "https://localhost:8080/"
        },
        "id": "guU1LYHgX5GX",
        "outputId": "d98f1774-9d6c-4880-9f56-68229bfbc152"
      },
      "execution_count": null,
      "outputs": [
        {
          "output_type": "stream",
          "name": "stdout",
          "text": [
            "+------+-----------+--------+-------+-------+------+\n",
            "|    id|englishName|isPlanet|density|gravity|escape|\n",
            "+------+-----------+--------+-------+-------+------+\n",
            "|  lune|       Moon|   false|  3.344|   1.62|2380.0|\n",
            "|phobos|     Phobos|   false|    1.9| 0.0057| 11.39|\n",
            "|deimos|     Deimos|   false|   1.75|  0.003| 5.556|\n",
            "|    io|         Io|   false|   3.53|   1.79|   0.0|\n",
            "|europe|     Europa|   false|   3.01|   1.31|   0.0|\n",
            "+------+-----------+--------+-------+-------+------+\n",
            "only showing top 5 rows\n",
            "\n"
          ]
        }
      ]
    },
    {
      "cell_type": "markdown",
      "source": [
        "This concludes part one of the series. For more on using PySpark, Colab or just general clustering please stick around for Part II."
      ],
      "metadata": {
        "id": "tgyK9lwYX_9h"
      }
    },
    {
      "cell_type": "markdown",
      "source": [
        "### Data Cleaning"
      ],
      "metadata": {
        "id": "JZVRWQcvYBl7"
      }
    },
    {
      "cell_type": "markdown",
      "source": [
        "Part of the cleaning is done before the data is used at all. This covers things like replacing missing values and checking the data types and structures. Other steps are typical to data cleaning or preprocessing but these will be taken care of in the modeling step through the use of a pipeline.\n",
        "\n",
        "In PySpark there are two kinds of empty values that can cause an error. The first of these is a null value. These are the values for which there is no data. A check can be done to find these values by running a select() count() of only named columns when() the value isnull() according to the pyspark.sql.functions of the same names.\n",
        "\n"
      ],
      "metadata": {
        "id": "vGuAi5oSYDhd"
      }
    },
    {
      "cell_type": "code",
      "source": [
        "from pyspark.sql.functions import when, count, isnull\n",
        "from pyspark.sql.functions import col\n",
        "\n",
        "# alias all columns \n",
        "cols = df.columns\n",
        "\n",
        "df.show()\n",
        "\n",
        "# show count of when the column is null for each of those columns\n",
        "df.select([count(when(isnull(c), c)).alias(c) for c in cols]).show()\n"
      ],
      "metadata": {
        "colab": {
          "base_uri": "https://localhost:8080/"
        },
        "id": "SrRn5VuXX585",
        "outputId": "59197793-5b51-433d-8309-4911c7594eae"
      },
      "execution_count": null,
      "outputs": [
        {
          "output_type": "stream",
          "name": "stdout",
          "text": [
            "+----------+-----------+--------+-------+-------+------+\n",
            "|        id|englishName|isPlanet|density|gravity|escape|\n",
            "+----------+-----------+--------+-------+-------+------+\n",
            "|      lune|       Moon|   false|  3.344|   1.62|2380.0|\n",
            "|    phobos|     Phobos|   false|    1.9| 0.0057| 11.39|\n",
            "|    deimos|     Deimos|   false|   1.75|  0.003| 5.556|\n",
            "|        io|         Io|   false|   3.53|   1.79|   0.0|\n",
            "|    europe|     Europa|   false|   3.01|   1.31|   0.0|\n",
            "|  ganymede|   Ganymede|   false|   1.94|  1.428|   0.0|\n",
            "|  callisto|   Callisto|   false|   1.83|  1.235|   0.0|\n",
            "|  amalthee|   Amalthea|   false|    3.1|   0.02|   0.0|\n",
            "|   himalia|    Himalia|   false|    1.0|  0.062|   0.0|\n",
            "|     elara|      Elara|   false|    1.0|  0.031|   0.0|\n",
            "|  pasiphae|   Pasiphae|   false|    1.0|  0.022|   0.0|\n",
            "|    sinope|     Sinope|   false|    1.0|  0.014|   0.0|\n",
            "|  lysithea|   Lysithea|   false|    1.0|  0.013|   0.0|\n",
            "|     carme|      Carme|   false|    1.0|  0.017|   0.0|\n",
            "|    ananke|     Ananke|   false|    1.0|   0.01|   0.0|\n",
            "|      leda|       Leda|   false|    1.0| 0.0073|   0.0|\n",
            "|     thebe|      Thebe|   false|    1.0|   0.02|   0.0|\n",
            "|  adrastee|   Adrastea|   false|    1.0|  0.002|   0.0|\n",
            "|     metis|      Metis|   false|    1.0|  0.005|   0.0|\n",
            "|callirrhoe| Callirrhoe|   false|    1.0| 0.0031|   0.0|\n",
            "+----------+-----------+--------+-------+-------+------+\n",
            "only showing top 20 rows\n",
            "\n",
            "+---+-----------+--------+-------+-------+------+\n",
            "| id|englishName|isPlanet|density|gravity|escape|\n",
            "+---+-----------+--------+-------+-------+------+\n",
            "|  0|          0|       0|      0|      0|     0|\n",
            "+---+-----------+--------+-------+-------+------+\n",
            "\n"
          ]
        }
      ]
    },
    {
      "cell_type": "markdown",
      "source": [
        "The second kind of empty value comes from the reading in of numeric data. The data we have contains three numeric columns and empty values here could be read in as NaN (Not a Number) values. Usually these would be dealth with by imputing values in their place or via deletion. Common methods include row deletion and imputing with the average value for the column. The NaN values can be checked for using the isnan() function."
      ],
      "metadata": {
        "id": "kZwf8MEAYFx4"
      }
    },
    {
      "cell_type": "code",
      "source": [
        "from pyspark.sql.functions import isnan\n",
        "\n",
        "# check schema to find all numeric cols\n",
        "df.printSchema()  \n",
        "\n",
        "# list all numeric cols \n",
        "num_cols = ['density', 'gravity', 'escape']\n",
        "\n",
        "# select a count of all the numeric columns where they are NaN and show\n",
        "df.select([count(when(isnan(c), c)).alias(c) for c in num_cols]).show()"
      ],
      "metadata": {
        "colab": {
          "base_uri": "https://localhost:8080/"
        },
        "id": "BHI92apZYHAF",
        "outputId": "739f1f72-a889-4d2d-f6a5-db3aba2f14f3"
      },
      "execution_count": null,
      "outputs": [
        {
          "output_type": "stream",
          "name": "stdout",
          "text": [
            "root\n",
            " |-- id: string (nullable = true)\n",
            " |-- englishName: string (nullable = true)\n",
            " |-- isPlanet: boolean (nullable = true)\n",
            " |-- density: float (nullable = true)\n",
            " |-- gravity: float (nullable = true)\n",
            " |-- escape: float (nullable = true)\n",
            "\n",
            "+-------+-------+------+\n",
            "|density|gravity|escape|\n",
            "+-------+-------+------+\n",
            "|      0|      0|     0|\n",
            "+-------+-------+------+\n",
            "\n"
          ]
        }
      ]
    },
    {
      "cell_type": "markdown",
      "source": [
        "The final step in the cleaning of the data is detecting outliers. The problem with outliers in clustering models is their ability to skew even scaled data to form their own cluster of one. The dataset we are using contains a range of very small and very large bodies. The detection of outliers is done manually using visualisation which finds Jupiter to be a severe outlier. The escape velocity, density and gravity are all orders of magnitude larger than almost every other body. For this reason, Jupiter is removed from the dataset to avoid it biasing the algorithm toward building a Jupiter-only cluster."
      ],
      "metadata": {
        "id": "MFXSI8OGYIj7"
      }
    },
    {
      "cell_type": "code",
      "source": [
        "import pandas as pd\n",
        "import plotly.express as px\n",
        "\n",
        "# convert the data frame to pandas for visualisation\n",
        "outliers = df.toPandas()\n",
        "\n",
        "# plot a scatter plot of all the points to find obvious outliers\n",
        "scatter = px.scatter(outliers, 'gravity', 'escape', hover_name='englishName', template='ggplot2')\n",
        "scatter.show()\n",
        "\n",
        "# filter out Jupiter from PySpark DF as it was a clear outlier\n",
        "df=df.filter(df.id!='jupiter')\n",
        "\n",
        "# repeat above process to ensure the removal has worked properly\n",
        "outliers = df.toPandas()\n",
        "\n",
        "scatter = px.scatter(outliers, 'gravity', 'escape', hover_name='englishName', template='ggplot2')\n",
        "scatter.show()"
      ],
      "metadata": {
        "colab": {
          "base_uri": "https://localhost:8080/",
          "height": 1000
        },
        "id": "fAgJXunIYJzA",
        "outputId": "d24628a2-df87-43f4-8126-9205287d3b07"
      },
      "execution_count": null,
      "outputs": [
        {
          "output_type": "display_data",
          "data": {
            "text/html": [
              "<html>\n",
              "<head><meta charset=\"utf-8\" /></head>\n",
              "<body>\n",
              "    <div>            <script src=\"https://cdnjs.cloudflare.com/ajax/libs/mathjax/2.7.5/MathJax.js?config=TeX-AMS-MML_SVG\"></script><script type=\"text/javascript\">if (window.MathJax && window.MathJax.Hub && window.MathJax.Hub.Config) {window.MathJax.Hub.Config({SVG: {font: \"STIX-Web\"}});}</script>                <script type=\"text/javascript\">window.PlotlyConfig = {MathJaxConfig: 'local'};</script>\n",
              "        <script src=\"https://cdn.plot.ly/plotly-2.18.2.min.js\"></script>                <div id=\"9fbbbba0-0647-457e-9d27-a964ac378f4d\" class=\"plotly-graph-div\" style=\"height:525px; width:100%;\"></div>            <script type=\"text/javascript\">                                    window.PLOTLYENV=window.PLOTLYENV || {};                                    if (document.getElementById(\"9fbbbba0-0647-457e-9d27-a964ac378f4d\")) {                    Plotly.newPlot(                        \"9fbbbba0-0647-457e-9d27-a964ac378f4d\",                        [{\"hovertemplate\":\"<b>%{hovertext}</b><br><br>gravity=%{x}<br>escape=%{y}<extra></extra>\",\"hovertext\":[\"Moon\",\"Phobos\",\"Deimos\",\"Io\",\"Europa\",\"Ganymede\",\"Callisto\",\"Amalthea\",\"Himalia\",\"Elara\",\"Pasiphae\",\"Sinope\",\"Lysithea\",\"Carme\",\"Ananke\",\"Leda\",\"Thebe\",\"Adrastea\",\"Metis\",\"Callirrhoe\",\"Themisto\",\"Megaclite\",\"Taygete\",\"Chaldene\",\"Harpalyke\",\"Kalyke\",\"Iocaste\",\"Erinome\",\"Isonoe\",\"Praxidike\",\"Autonoe\",\"Thyone\",\"Hermippe\",\"Aitne\",\"Eurydome\",\"Euanthe\",\"Euporie\",\"Orthosie\",\"Sponde\",\"Kale\",\"Pasithee\",\"Hegemone\",\"Mneme\",\"Aoede\",\"Thelxinoe\",\"Arche\",\"Kallichore\",\"Helike\",\"Carpo\",\"Eukelade\",\"Cyllene\",\"Kore\",\"Herse\",\"S/2003 J 2\",\"Eupheme\",\"S/2003 J 4\",\"Eirene\",\"S/2003 J 9\",\"S/2003 J 10\",\"S/2003 J 12\",\"Philophrosyne\",\"S/2003 J 16\",\"S/2003 J 18\",\"S/2003 J 19\",\"S/2003 J 23\",\"Mimas\",\"Enceladus\",\"Tethys\",\"Dione\",\"Rhea\",\"Titan\",\"Hyperion\",\"Iapetus\",\"Phoebe\",\"Janus\",\"Epimetheus\",\"Helene\",\"Telesto\",\"Calypso\",\"Atlas\",\"Prometheus\",\"Pandora\",\"Pan\",\"Ymir\",\"Paaliaq\",\"Tarvos\",\"Ijiraq\",\"Suttungr\",\"Kiviuq\",\"Mundilfari\",\"Albiorix\",\"Skathi\",\"Erriapus\",\"Siarnaq\",\"Thrymr\",\"Narvi\",\"Methone\",\"Pallene\",\"Polydeuces\",\"Daphnis\",\"Aegir\",\"Bebhionn\",\"Bergelmir\",\"Bestla\",\"Farbauti\",\"Fenrir\",\"Fornjot\",\"Hati\",\"Hyrrokkin\",\"Kari\",\"Loge\",\"Skoll\",\"Surtur\",\"Anthe\",\"Jarnsaxa\",\"Greip\",\"Tarqeq\",\"Aegaeon\",\"S/2004 S 7\",\"S/2004 S 12\",\"S/2004 S 13\",\"S/2004 S 17\",\"S/2006 S 1\",\"S/2006 S 3\",\"S/2007 S 2\",\"S/2007 S 3\",\"S/2009 S 1\",\"Ariel\",\"Umbriel\",\"Titania\",\"Oberon\",\"Miranda\",\"Cordelia\",\"Ophelia\",\"Bianca\",\"Cressida\",\"Desdemona\",\"Juliet\",\"Portia\",\"Rosalind\",\"Belinda\",\"Puck\",\"Caliban\",\"Sycorax\",\"Prospero\",\"Setebos\",\"Stephano\",\"Trinculo\",\"Francisco\",\"Margaret\",\"Ferdinand\",\"Perdita\",\"Mab\",\"Cupid\",\"Triton\",\"Nereid\",\"Naiad\",\"Thalassa\",\"Despina\",\"Galatea\",\"Larissa\",\"Proteus\",\"Halimede\",\"Psamathe\",\"Sao\",\"Laomedeia\",\"Neso\",\"Charon\",\"Nix\",\"Hydra\",\"Namaka\",\"Hi\\u02bbiaka\",\"Dysnomia\",\"Dia\",\"S/2004 S 3\",\"S/2004 S 4\",\"S/2004 S 6\",\"S/2010 J 1\",\"S/2010 J 2\",\"1 Ceres\",\"6 Hebe\",\"47171 Lempo\",\"The Little Prince\",\"762 Pulcova\",\"4179 Toutatis\",\"50000 Quaoar\",\"2867 \\u0160teins\",\"136199 Eris\",\"5 Astraea\",\"5145 Pholus\",\"4769 Castalia\",\"Remus\",\"624 Hektor\",\"216 Kleopatra\",\"3753 Cruithne\",\"3 Juno\",\"10 Hygiea\",\"21 Lutetia\",\"253 Mathilde\",\"Uranus\",\"7 Iris\",\"433 Eros\",\"Vanth\",\"90377 Sedna\",\"10199 Chariklo\",\"87 Sylvia\",\"(243) Ida I Dactyl\",\"90482 Orcus\",\"Pluto\",\"5335 Damocles\",\"Romulus\",\"Alexhelios\",\"Cleoselene\",\"8 Flora\",\"2060 Chiron\",\"5261 Eureka\",\"588 Achilles\",\"Weywot\",\"28978 Ixion\",\"Neptune\",\"Shoemaker-Levy 9\",\"9 Metis\",\"136108 Haumea\",\"7066 Nessus\",\"25143 Itokawa\",\"10370 Hylonome\",\"45 Eugenia\",\"(308933) 2006 SQ372\",\"2 Pallas\",\"8405 Asbolus\",\"20000 Varuna\",\"4 Vesta\",\"243 Ida\",\"Comet Hyakutake\",\"951 Gaspra\",\"15760 Albion\",\"136472 Makemake\",\"Halley's Comet\",\"Jupiter\",\"Mars\",\"Mercury\",\"Saturn\",\"Sun\",\"Earth\",\"Venus\",\"Kerberos\",\"S/2011 J 1\",\"S/2011 J 2\",\"Styx\",\"Hippocamp\",\"S/2015 (136472) 1\",\"S/2017 J 1\",\"S/2016 J 1\",\"Valetudo\",\"S/2017 J 2\",\"S/2017 J 3\",\"Pandia\",\"S/2017 J 5\",\"S/2017 J 6\",\"S/2017 J 7\",\"S/2017 J 8\",\"S/2017 J 9\",\"Ersa\",\"Arrokoth\",\"101955 Bennu\",\"S/2004 S 22\",\"S/2004 S 21\",\"S/2004 S 20\",\"S/2004 S 23\",\"S/2004 S 24\",\"S/2004 S 25\",\"S/2004 S 26\",\"S/2004 S 27\",\"S/2004 S 28\",\"S/2004 S 29\",\"S/2004 S 30\",\"S/2004 S 31\",\"S/2004 S 32\",\"S/2004 S 33\",\"S/2004 S 34\",\"S/2004 S 35\",\"S/2004 S 36\",\"S/2004 S 37\",\"S/2004 S 38\",\"S/2004 S 39\",\"C/2020 F3 (NEOWISE)\",\"S/2003 J 24\"],\"legendgroup\":\"\",\"marker\":{\"color\":\"#F8766D\",\"symbol\":\"circle\"},\"mode\":\"markers\",\"name\":\"\",\"orientation\":\"v\",\"showlegend\":false,\"x\":[1.6200000047683716,0.00570000009611249,0.003000000026077032,1.7899999618530273,1.309999942779541,1.4279999732971191,1.2350000143051147,0.019999999552965164,0.06199999898672104,0.03099999949336052,0.02199999988079071,0.014000000432133675,0.013000000268220901,0.017000000923871994,0.009999999776482582,0.007300000172108412,0.019999999552965164,0.0020000000949949026,0.004999999888241291,0.003100000089034438,0.002899999963119626,0.0,0.0,0.0,0.0,0.0,0.0,0.0,0.0,0.0,0.001500000013038516,0.001500000013038516,0.001500000013038516,0.0012000000569969416,0.0012000000569969416,0.0012000000569969416,0.0,0.0008099999977275729,0.0008099999977275729,0.0008099999977275729,0.0008099999977275729,0.0,0.0,0.0,0.0,0.0012000000569969416,0.0,0.0,0.0,0.0,0.0,0.0,0.0,0.0,0.0,0.0,0.0,0.0,0.0,0.0,0.0,0.0,0.0,0.0,0.0008099999977275729,0.0,0.0,0.0,0.0,0.0,0.0,0.0,0.0,0.0,0.0,0.0,0.0,0.0,0.0,0.0,0.0,0.0,0.0,0.0,0.0,0.0,0.0,0.0,0.0,0.0,0.0,0.0,0.0,0.0,0.0,0.0,0.0,0.0,0.0,0.0,0.0,0.0,0.0,0.0,0.0,0.0,0.0,0.0,0.0,0.0,0.0,0.0,0.0,0.0,0.0,0.0,0.0,0.0,0.0,0.0,0.0,0.0,0.0,0.0,0.0,0.0,0.0,0.0,0.0,0.0,0.0,0.0,0.0,0.0,0.0,0.0,0.0,0.0,0.0,0.0,0.0,0.0,0.0,0.0,0.0,0.0,0.0,0.0,0.0,0.0,0.0,0.0,0.0,0.0,0.7799999713897705,0.07100000232458115,0.009999999776482582,0.013000000268220901,0.023000000044703484,0.029999999329447746,0.03400000184774399,0.07500000298023224,0.009999999776482582,0.0,0.009999999776482582,0.009999999776482582,0.0,0.0,0.0,0.0,0.0,0.0,0.0,0.0,0.0,0.0,0.0,0.0,0.0,0.2800000011920929,0.0,0.0,0.0,0.0,0.0,0.0,0.0,0.8199999928474426,0.0,0.0,0.0,0.0,0.0,0.0,0.0,0.0,0.0,0.0,0.0,8.869999885559082,0.0,0.0,0.0,0.0,0.0,0.0,0.0,0.0,0.6200000047683716,0.0,0.0,0.0,0.0,0.0,0.0,0.0,0.0,0.0,0.0,11.149999618530273,0.0,0.0,0.4009999930858612,0.0,0.0,0.0,0.0,0.0,0.0,0.0,0.0,0.0,0.0,0.0,0.0,0.0,0.5,0.0,24.790000915527344,3.7100000381469727,3.700000047683716,10.4399995803833,0.0,9.800000190734863,8.869999885559082,0.0,0.0,0.0,0.0,0.0,0.0,0.0,0.0,0.0,0.0,0.0,0.0,0.0,0.0,0.0,0.0,0.0,0.0,0.0,0.0,0.0,0.0,0.0,0.0,0.0,0.0,0.0,0.0,0.0,0.0,0.0,0.0,0.0,0.0,0.0,0.0,0.0,0.0,0.0,0.0,0.0,0.0],\"xaxis\":\"x\",\"y\":[2380.0,11.390000343322754,5.556000232696533,0.0,0.0,0.0,0.0,0.0,0.0,0.0,0.0,0.0,0.0,0.0,0.0,0.0,0.0,0.0,0.0,0.0,0.0,0.0,0.0,0.0,0.0,0.0,0.0,0.0,0.0,0.0,0.0,0.0,0.0,0.0,0.0,0.0,0.0,0.0,0.0,0.0,0.0,0.0,0.0,0.0,0.0,0.0,0.0,0.0,0.0,0.0,0.0,0.0,0.0,0.0,0.0,0.0,0.0,0.0,0.0,0.0,0.0,0.0,0.0,0.0,0.0,0.0,0.0,0.0,0.0,0.0,0.0,0.0,0.0,0.0,0.0,0.0,0.0,0.0,0.0,0.0,0.0,0.0,0.0,0.0,0.0,0.0,0.0,0.0,0.0,0.0,0.0,0.0,0.0,0.0,0.0,0.0,0.0,0.0,0.0,0.0,0.0,0.0,0.0,0.0,0.0,0.0,0.0,0.0,0.0,0.0,0.0,0.0,0.0,0.0,0.0,0.0,0.0,0.0,0.0,0.0,0.0,0.0,0.0,0.0,0.0,0.0,0.0,0.0,0.0,0.0,0.0,0.0,0.0,0.0,0.0,0.0,0.0,0.0,0.0,0.0,0.0,0.0,0.0,0.0,0.0,0.0,0.0,0.0,0.0,0.0,0.0,0.0,0.0,0.0,0.0,0.0,0.0,0.0,0.0,0.0,0.0,0.0,0.0,0.0,0.0,0.0,0.0,0.0,0.0,0.0,0.0,0.0,0.0,0.0,0.0,0.0,0.0,0.0,0.0,510.0,0.0,0.0,0.0,0.0,0.0,0.0,0.0,1380.0,0.0,0.0,0.0,0.0,0.0,0.0,0.0,0.0,0.0,0.0,0.0,21380.0,0.0,0.0,0.0,0.0,0.0,0.0,0.0,0.0,1210.0,0.0,0.0,0.0,0.0,0.0,0.0,0.0,0.0,0.0,0.0,23560.0,0.0,0.0,809.0,0.0,0.0,0.0,0.0,0.0,0.0,0.0,0.0,0.0,0.0,0.0,0.0,0.0,800.0,0.0,60200.0,5030.0,4250.0,36090.0,0.0,11190.0,10360.0,0.0,0.0,0.0,0.0,0.0,0.0,0.0,0.0,0.0,0.0,0.0,0.0,0.0,0.0,0.0,0.0,0.0,0.0,0.0,0.0,0.0,0.0,0.0,0.0,0.0,0.0,0.0,0.0,0.0,0.0,0.0,0.0,0.0,0.0,0.0,0.0,0.0,0.0,0.0,0.0,0.0,0.0],\"yaxis\":\"y\",\"type\":\"scatter\"}],                        {\"template\":{\"data\":{\"barpolar\":[{\"marker\":{\"line\":{\"color\":\"rgb(237,237,237)\",\"width\":0.5},\"pattern\":{\"fillmode\":\"overlay\",\"size\":10,\"solidity\":0.2}},\"type\":\"barpolar\"}],\"bar\":[{\"error_x\":{\"color\":\"rgb(51,51,51)\"},\"error_y\":{\"color\":\"rgb(51,51,51)\"},\"marker\":{\"line\":{\"color\":\"rgb(237,237,237)\",\"width\":0.5},\"pattern\":{\"fillmode\":\"overlay\",\"size\":10,\"solidity\":0.2}},\"type\":\"bar\"}],\"carpet\":[{\"aaxis\":{\"endlinecolor\":\"rgb(51,51,51)\",\"gridcolor\":\"white\",\"linecolor\":\"white\",\"minorgridcolor\":\"white\",\"startlinecolor\":\"rgb(51,51,51)\"},\"baxis\":{\"endlinecolor\":\"rgb(51,51,51)\",\"gridcolor\":\"white\",\"linecolor\":\"white\",\"minorgridcolor\":\"white\",\"startlinecolor\":\"rgb(51,51,51)\"},\"type\":\"carpet\"}],\"choropleth\":[{\"colorbar\":{\"outlinewidth\":0,\"tickcolor\":\"rgb(237,237,237)\",\"ticklen\":6,\"ticks\":\"inside\"},\"type\":\"choropleth\"}],\"contourcarpet\":[{\"colorbar\":{\"outlinewidth\":0,\"tickcolor\":\"rgb(237,237,237)\",\"ticklen\":6,\"ticks\":\"inside\"},\"type\":\"contourcarpet\"}],\"contour\":[{\"colorbar\":{\"outlinewidth\":0,\"tickcolor\":\"rgb(237,237,237)\",\"ticklen\":6,\"ticks\":\"inside\"},\"colorscale\":[[0,\"rgb(20,44,66)\"],[1,\"rgb(90,179,244)\"]],\"type\":\"contour\"}],\"heatmapgl\":[{\"colorbar\":{\"outlinewidth\":0,\"tickcolor\":\"rgb(237,237,237)\",\"ticklen\":6,\"ticks\":\"inside\"},\"colorscale\":[[0,\"rgb(20,44,66)\"],[1,\"rgb(90,179,244)\"]],\"type\":\"heatmapgl\"}],\"heatmap\":[{\"colorbar\":{\"outlinewidth\":0,\"tickcolor\":\"rgb(237,237,237)\",\"ticklen\":6,\"ticks\":\"inside\"},\"colorscale\":[[0,\"rgb(20,44,66)\"],[1,\"rgb(90,179,244)\"]],\"type\":\"heatmap\"}],\"histogram2dcontour\":[{\"colorbar\":{\"outlinewidth\":0,\"tickcolor\":\"rgb(237,237,237)\",\"ticklen\":6,\"ticks\":\"inside\"},\"colorscale\":[[0,\"rgb(20,44,66)\"],[1,\"rgb(90,179,244)\"]],\"type\":\"histogram2dcontour\"}],\"histogram2d\":[{\"colorbar\":{\"outlinewidth\":0,\"tickcolor\":\"rgb(237,237,237)\",\"ticklen\":6,\"ticks\":\"inside\"},\"colorscale\":[[0,\"rgb(20,44,66)\"],[1,\"rgb(90,179,244)\"]],\"type\":\"histogram2d\"}],\"histogram\":[{\"marker\":{\"pattern\":{\"fillmode\":\"overlay\",\"size\":10,\"solidity\":0.2}},\"type\":\"histogram\"}],\"mesh3d\":[{\"colorbar\":{\"outlinewidth\":0,\"tickcolor\":\"rgb(237,237,237)\",\"ticklen\":6,\"ticks\":\"inside\"},\"type\":\"mesh3d\"}],\"parcoords\":[{\"line\":{\"colorbar\":{\"outlinewidth\":0,\"tickcolor\":\"rgb(237,237,237)\",\"ticklen\":6,\"ticks\":\"inside\"}},\"type\":\"parcoords\"}],\"pie\":[{\"automargin\":true,\"type\":\"pie\"}],\"scatter3d\":[{\"line\":{\"colorbar\":{\"outlinewidth\":0,\"tickcolor\":\"rgb(237,237,237)\",\"ticklen\":6,\"ticks\":\"inside\"}},\"marker\":{\"colorbar\":{\"outlinewidth\":0,\"tickcolor\":\"rgb(237,237,237)\",\"ticklen\":6,\"ticks\":\"inside\"}},\"type\":\"scatter3d\"}],\"scattercarpet\":[{\"marker\":{\"colorbar\":{\"outlinewidth\":0,\"tickcolor\":\"rgb(237,237,237)\",\"ticklen\":6,\"ticks\":\"inside\"}},\"type\":\"scattercarpet\"}],\"scattergeo\":[{\"marker\":{\"colorbar\":{\"outlinewidth\":0,\"tickcolor\":\"rgb(237,237,237)\",\"ticklen\":6,\"ticks\":\"inside\"}},\"type\":\"scattergeo\"}],\"scattergl\":[{\"marker\":{\"colorbar\":{\"outlinewidth\":0,\"tickcolor\":\"rgb(237,237,237)\",\"ticklen\":6,\"ticks\":\"inside\"}},\"type\":\"scattergl\"}],\"scattermapbox\":[{\"marker\":{\"colorbar\":{\"outlinewidth\":0,\"tickcolor\":\"rgb(237,237,237)\",\"ticklen\":6,\"ticks\":\"inside\"}},\"type\":\"scattermapbox\"}],\"scatterpolargl\":[{\"marker\":{\"colorbar\":{\"outlinewidth\":0,\"tickcolor\":\"rgb(237,237,237)\",\"ticklen\":6,\"ticks\":\"inside\"}},\"type\":\"scatterpolargl\"}],\"scatterpolar\":[{\"marker\":{\"colorbar\":{\"outlinewidth\":0,\"tickcolor\":\"rgb(237,237,237)\",\"ticklen\":6,\"ticks\":\"inside\"}},\"type\":\"scatterpolar\"}],\"scatter\":[{\"fillpattern\":{\"fillmode\":\"overlay\",\"size\":10,\"solidity\":0.2},\"type\":\"scatter\"}],\"scatterternary\":[{\"marker\":{\"colorbar\":{\"outlinewidth\":0,\"tickcolor\":\"rgb(237,237,237)\",\"ticklen\":6,\"ticks\":\"inside\"}},\"type\":\"scatterternary\"}],\"surface\":[{\"colorbar\":{\"outlinewidth\":0,\"tickcolor\":\"rgb(237,237,237)\",\"ticklen\":6,\"ticks\":\"inside\"},\"colorscale\":[[0,\"rgb(20,44,66)\"],[1,\"rgb(90,179,244)\"]],\"type\":\"surface\"}],\"table\":[{\"cells\":{\"fill\":{\"color\":\"rgb(237,237,237)\"},\"line\":{\"color\":\"white\"}},\"header\":{\"fill\":{\"color\":\"rgb(217,217,217)\"},\"line\":{\"color\":\"white\"}},\"type\":\"table\"}]},\"layout\":{\"annotationdefaults\":{\"arrowhead\":0,\"arrowwidth\":1},\"autotypenumbers\":\"strict\",\"coloraxis\":{\"colorbar\":{\"outlinewidth\":0,\"tickcolor\":\"rgb(237,237,237)\",\"ticklen\":6,\"ticks\":\"inside\"}},\"colorscale\":{\"sequential\":[[0,\"rgb(20,44,66)\"],[1,\"rgb(90,179,244)\"]],\"sequentialminus\":[[0,\"rgb(20,44,66)\"],[1,\"rgb(90,179,244)\"]]},\"colorway\":[\"#F8766D\",\"#A3A500\",\"#00BF7D\",\"#00B0F6\",\"#E76BF3\"],\"font\":{\"color\":\"rgb(51,51,51)\"},\"geo\":{\"bgcolor\":\"white\",\"lakecolor\":\"white\",\"landcolor\":\"rgb(237,237,237)\",\"showlakes\":true,\"showland\":true,\"subunitcolor\":\"white\"},\"hoverlabel\":{\"align\":\"left\"},\"hovermode\":\"closest\",\"paper_bgcolor\":\"white\",\"plot_bgcolor\":\"rgb(237,237,237)\",\"polar\":{\"angularaxis\":{\"gridcolor\":\"white\",\"linecolor\":\"white\",\"showgrid\":true,\"tickcolor\":\"rgb(51,51,51)\",\"ticks\":\"outside\"},\"bgcolor\":\"rgb(237,237,237)\",\"radialaxis\":{\"gridcolor\":\"white\",\"linecolor\":\"white\",\"showgrid\":true,\"tickcolor\":\"rgb(51,51,51)\",\"ticks\":\"outside\"}},\"scene\":{\"xaxis\":{\"backgroundcolor\":\"rgb(237,237,237)\",\"gridcolor\":\"white\",\"gridwidth\":2,\"linecolor\":\"white\",\"showbackground\":true,\"showgrid\":true,\"tickcolor\":\"rgb(51,51,51)\",\"ticks\":\"outside\",\"zerolinecolor\":\"white\"},\"yaxis\":{\"backgroundcolor\":\"rgb(237,237,237)\",\"gridcolor\":\"white\",\"gridwidth\":2,\"linecolor\":\"white\",\"showbackground\":true,\"showgrid\":true,\"tickcolor\":\"rgb(51,51,51)\",\"ticks\":\"outside\",\"zerolinecolor\":\"white\"},\"zaxis\":{\"backgroundcolor\":\"rgb(237,237,237)\",\"gridcolor\":\"white\",\"gridwidth\":2,\"linecolor\":\"white\",\"showbackground\":true,\"showgrid\":true,\"tickcolor\":\"rgb(51,51,51)\",\"ticks\":\"outside\",\"zerolinecolor\":\"white\"}},\"shapedefaults\":{\"fillcolor\":\"black\",\"line\":{\"width\":0},\"opacity\":0.3},\"ternary\":{\"aaxis\":{\"gridcolor\":\"white\",\"linecolor\":\"white\",\"showgrid\":true,\"tickcolor\":\"rgb(51,51,51)\",\"ticks\":\"outside\"},\"baxis\":{\"gridcolor\":\"white\",\"linecolor\":\"white\",\"showgrid\":true,\"tickcolor\":\"rgb(51,51,51)\",\"ticks\":\"outside\"},\"bgcolor\":\"rgb(237,237,237)\",\"caxis\":{\"gridcolor\":\"white\",\"linecolor\":\"white\",\"showgrid\":true,\"tickcolor\":\"rgb(51,51,51)\",\"ticks\":\"outside\"}},\"xaxis\":{\"automargin\":true,\"gridcolor\":\"white\",\"linecolor\":\"white\",\"showgrid\":true,\"tickcolor\":\"rgb(51,51,51)\",\"ticks\":\"outside\",\"title\":{\"standoff\":15},\"zerolinecolor\":\"white\"},\"yaxis\":{\"automargin\":true,\"gridcolor\":\"white\",\"linecolor\":\"white\",\"showgrid\":true,\"tickcolor\":\"rgb(51,51,51)\",\"ticks\":\"outside\",\"title\":{\"standoff\":15},\"zerolinecolor\":\"white\"}}},\"xaxis\":{\"anchor\":\"y\",\"domain\":[0.0,1.0],\"title\":{\"text\":\"gravity\"}},\"yaxis\":{\"anchor\":\"x\",\"domain\":[0.0,1.0],\"title\":{\"text\":\"escape\"}},\"legend\":{\"tracegroupgap\":0},\"margin\":{\"t\":60}},                        {\"responsive\": true}                    ).then(function(){\n",
              "                            \n",
              "var gd = document.getElementById('9fbbbba0-0647-457e-9d27-a964ac378f4d');\n",
              "var x = new MutationObserver(function (mutations, observer) {{\n",
              "        var display = window.getComputedStyle(gd).display;\n",
              "        if (!display || display === 'none') {{\n",
              "            console.log([gd, 'removed!']);\n",
              "            Plotly.purge(gd);\n",
              "            observer.disconnect();\n",
              "        }}\n",
              "}});\n",
              "\n",
              "// Listen for the removal of the full notebook cells\n",
              "var notebookContainer = gd.closest('#notebook-container');\n",
              "if (notebookContainer) {{\n",
              "    x.observe(notebookContainer, {childList: true});\n",
              "}}\n",
              "\n",
              "// Listen for the clearing of the current output cell\n",
              "var outputEl = gd.closest('.output');\n",
              "if (outputEl) {{\n",
              "    x.observe(outputEl, {childList: true});\n",
              "}}\n",
              "\n",
              "                        })                };                            </script>        </div>\n",
              "</body>\n",
              "</html>"
            ]
          },
          "metadata": {}
        },
        {
          "output_type": "display_data",
          "data": {
            "text/html": [
              "<html>\n",
              "<head><meta charset=\"utf-8\" /></head>\n",
              "<body>\n",
              "    <div>            <script src=\"https://cdnjs.cloudflare.com/ajax/libs/mathjax/2.7.5/MathJax.js?config=TeX-AMS-MML_SVG\"></script><script type=\"text/javascript\">if (window.MathJax && window.MathJax.Hub && window.MathJax.Hub.Config) {window.MathJax.Hub.Config({SVG: {font: \"STIX-Web\"}});}</script>                <script type=\"text/javascript\">window.PlotlyConfig = {MathJaxConfig: 'local'};</script>\n",
              "        <script src=\"https://cdn.plot.ly/plotly-2.18.2.min.js\"></script>                <div id=\"1ea7b92e-8e9a-435c-9394-c7e75723b891\" class=\"plotly-graph-div\" style=\"height:525px; width:100%;\"></div>            <script type=\"text/javascript\">                                    window.PLOTLYENV=window.PLOTLYENV || {};                                    if (document.getElementById(\"1ea7b92e-8e9a-435c-9394-c7e75723b891\")) {                    Plotly.newPlot(                        \"1ea7b92e-8e9a-435c-9394-c7e75723b891\",                        [{\"hovertemplate\":\"<b>%{hovertext}</b><br><br>gravity=%{x}<br>escape=%{y}<extra></extra>\",\"hovertext\":[\"Moon\",\"Phobos\",\"Deimos\",\"Io\",\"Europa\",\"Ganymede\",\"Callisto\",\"Amalthea\",\"Himalia\",\"Elara\",\"Pasiphae\",\"Sinope\",\"Lysithea\",\"Carme\",\"Ananke\",\"Leda\",\"Thebe\",\"Adrastea\",\"Metis\",\"Callirrhoe\",\"Themisto\",\"Megaclite\",\"Taygete\",\"Chaldene\",\"Harpalyke\",\"Kalyke\",\"Iocaste\",\"Erinome\",\"Isonoe\",\"Praxidike\",\"Autonoe\",\"Thyone\",\"Hermippe\",\"Aitne\",\"Eurydome\",\"Euanthe\",\"Euporie\",\"Orthosie\",\"Sponde\",\"Kale\",\"Pasithee\",\"Hegemone\",\"Mneme\",\"Aoede\",\"Thelxinoe\",\"Arche\",\"Kallichore\",\"Helike\",\"Carpo\",\"Eukelade\",\"Cyllene\",\"Kore\",\"Herse\",\"S/2003 J 2\",\"Eupheme\",\"S/2003 J 4\",\"Eirene\",\"S/2003 J 9\",\"S/2003 J 10\",\"S/2003 J 12\",\"Philophrosyne\",\"S/2003 J 16\",\"S/2003 J 18\",\"S/2003 J 19\",\"S/2003 J 23\",\"Mimas\",\"Enceladus\",\"Tethys\",\"Dione\",\"Rhea\",\"Titan\",\"Hyperion\",\"Iapetus\",\"Phoebe\",\"Janus\",\"Epimetheus\",\"Helene\",\"Telesto\",\"Calypso\",\"Atlas\",\"Prometheus\",\"Pandora\",\"Pan\",\"Ymir\",\"Paaliaq\",\"Tarvos\",\"Ijiraq\",\"Suttungr\",\"Kiviuq\",\"Mundilfari\",\"Albiorix\",\"Skathi\",\"Erriapus\",\"Siarnaq\",\"Thrymr\",\"Narvi\",\"Methone\",\"Pallene\",\"Polydeuces\",\"Daphnis\",\"Aegir\",\"Bebhionn\",\"Bergelmir\",\"Bestla\",\"Farbauti\",\"Fenrir\",\"Fornjot\",\"Hati\",\"Hyrrokkin\",\"Kari\",\"Loge\",\"Skoll\",\"Surtur\",\"Anthe\",\"Jarnsaxa\",\"Greip\",\"Tarqeq\",\"Aegaeon\",\"S/2004 S 7\",\"S/2004 S 12\",\"S/2004 S 13\",\"S/2004 S 17\",\"S/2006 S 1\",\"S/2006 S 3\",\"S/2007 S 2\",\"S/2007 S 3\",\"S/2009 S 1\",\"Ariel\",\"Umbriel\",\"Titania\",\"Oberon\",\"Miranda\",\"Cordelia\",\"Ophelia\",\"Bianca\",\"Cressida\",\"Desdemona\",\"Juliet\",\"Portia\",\"Rosalind\",\"Belinda\",\"Puck\",\"Caliban\",\"Sycorax\",\"Prospero\",\"Setebos\",\"Stephano\",\"Trinculo\",\"Francisco\",\"Margaret\",\"Ferdinand\",\"Perdita\",\"Mab\",\"Cupid\",\"Triton\",\"Nereid\",\"Naiad\",\"Thalassa\",\"Despina\",\"Galatea\",\"Larissa\",\"Proteus\",\"Halimede\",\"Psamathe\",\"Sao\",\"Laomedeia\",\"Neso\",\"Charon\",\"Nix\",\"Hydra\",\"Namaka\",\"Hi\\u02bbiaka\",\"Dysnomia\",\"Dia\",\"S/2004 S 3\",\"S/2004 S 4\",\"S/2004 S 6\",\"S/2010 J 1\",\"S/2010 J 2\",\"1 Ceres\",\"6 Hebe\",\"47171 Lempo\",\"The Little Prince\",\"762 Pulcova\",\"4179 Toutatis\",\"50000 Quaoar\",\"2867 \\u0160teins\",\"136199 Eris\",\"5 Astraea\",\"5145 Pholus\",\"4769 Castalia\",\"Remus\",\"624 Hektor\",\"216 Kleopatra\",\"3753 Cruithne\",\"3 Juno\",\"10 Hygiea\",\"21 Lutetia\",\"253 Mathilde\",\"Uranus\",\"7 Iris\",\"433 Eros\",\"Vanth\",\"90377 Sedna\",\"10199 Chariklo\",\"87 Sylvia\",\"(243) Ida I Dactyl\",\"90482 Orcus\",\"Pluto\",\"5335 Damocles\",\"Romulus\",\"Alexhelios\",\"Cleoselene\",\"8 Flora\",\"2060 Chiron\",\"5261 Eureka\",\"588 Achilles\",\"Weywot\",\"28978 Ixion\",\"Neptune\",\"Shoemaker-Levy 9\",\"9 Metis\",\"136108 Haumea\",\"7066 Nessus\",\"25143 Itokawa\",\"10370 Hylonome\",\"45 Eugenia\",\"(308933) 2006 SQ372\",\"2 Pallas\",\"8405 Asbolus\",\"20000 Varuna\",\"4 Vesta\",\"243 Ida\",\"Comet Hyakutake\",\"951 Gaspra\",\"15760 Albion\",\"136472 Makemake\",\"Halley's Comet\",\"Mars\",\"Mercury\",\"Saturn\",\"Sun\",\"Earth\",\"Venus\",\"Kerberos\",\"S/2011 J 1\",\"S/2011 J 2\",\"Styx\",\"Hippocamp\",\"S/2015 (136472) 1\",\"S/2017 J 1\",\"S/2016 J 1\",\"Valetudo\",\"S/2017 J 2\",\"S/2017 J 3\",\"Pandia\",\"S/2017 J 5\",\"S/2017 J 6\",\"S/2017 J 7\",\"S/2017 J 8\",\"S/2017 J 9\",\"Ersa\",\"Arrokoth\",\"101955 Bennu\",\"S/2004 S 22\",\"S/2004 S 21\",\"S/2004 S 20\",\"S/2004 S 23\",\"S/2004 S 24\",\"S/2004 S 25\",\"S/2004 S 26\",\"S/2004 S 27\",\"S/2004 S 28\",\"S/2004 S 29\",\"S/2004 S 30\",\"S/2004 S 31\",\"S/2004 S 32\",\"S/2004 S 33\",\"S/2004 S 34\",\"S/2004 S 35\",\"S/2004 S 36\",\"S/2004 S 37\",\"S/2004 S 38\",\"S/2004 S 39\",\"C/2020 F3 (NEOWISE)\",\"S/2003 J 24\"],\"legendgroup\":\"\",\"marker\":{\"color\":\"#F8766D\",\"symbol\":\"circle\"},\"mode\":\"markers\",\"name\":\"\",\"orientation\":\"v\",\"showlegend\":false,\"x\":[1.6200000047683716,0.00570000009611249,0.003000000026077032,1.7899999618530273,1.309999942779541,1.4279999732971191,1.2350000143051147,0.019999999552965164,0.06199999898672104,0.03099999949336052,0.02199999988079071,0.014000000432133675,0.013000000268220901,0.017000000923871994,0.009999999776482582,0.007300000172108412,0.019999999552965164,0.0020000000949949026,0.004999999888241291,0.003100000089034438,0.002899999963119626,0.0,0.0,0.0,0.0,0.0,0.0,0.0,0.0,0.0,0.001500000013038516,0.001500000013038516,0.001500000013038516,0.0012000000569969416,0.0012000000569969416,0.0012000000569969416,0.0,0.0008099999977275729,0.0008099999977275729,0.0008099999977275729,0.0008099999977275729,0.0,0.0,0.0,0.0,0.0012000000569969416,0.0,0.0,0.0,0.0,0.0,0.0,0.0,0.0,0.0,0.0,0.0,0.0,0.0,0.0,0.0,0.0,0.0,0.0,0.0008099999977275729,0.0,0.0,0.0,0.0,0.0,0.0,0.0,0.0,0.0,0.0,0.0,0.0,0.0,0.0,0.0,0.0,0.0,0.0,0.0,0.0,0.0,0.0,0.0,0.0,0.0,0.0,0.0,0.0,0.0,0.0,0.0,0.0,0.0,0.0,0.0,0.0,0.0,0.0,0.0,0.0,0.0,0.0,0.0,0.0,0.0,0.0,0.0,0.0,0.0,0.0,0.0,0.0,0.0,0.0,0.0,0.0,0.0,0.0,0.0,0.0,0.0,0.0,0.0,0.0,0.0,0.0,0.0,0.0,0.0,0.0,0.0,0.0,0.0,0.0,0.0,0.0,0.0,0.0,0.0,0.0,0.0,0.0,0.0,0.0,0.0,0.0,0.0,0.0,0.0,0.7799999713897705,0.07100000232458115,0.009999999776482582,0.013000000268220901,0.023000000044703484,0.029999999329447746,0.03400000184774399,0.07500000298023224,0.009999999776482582,0.0,0.009999999776482582,0.009999999776482582,0.0,0.0,0.0,0.0,0.0,0.0,0.0,0.0,0.0,0.0,0.0,0.0,0.0,0.2800000011920929,0.0,0.0,0.0,0.0,0.0,0.0,0.0,0.8199999928474426,0.0,0.0,0.0,0.0,0.0,0.0,0.0,0.0,0.0,0.0,0.0,8.869999885559082,0.0,0.0,0.0,0.0,0.0,0.0,0.0,0.0,0.6200000047683716,0.0,0.0,0.0,0.0,0.0,0.0,0.0,0.0,0.0,0.0,11.149999618530273,0.0,0.0,0.4009999930858612,0.0,0.0,0.0,0.0,0.0,0.0,0.0,0.0,0.0,0.0,0.0,0.0,0.0,0.5,0.0,3.7100000381469727,3.700000047683716,10.4399995803833,0.0,9.800000190734863,8.869999885559082,0.0,0.0,0.0,0.0,0.0,0.0,0.0,0.0,0.0,0.0,0.0,0.0,0.0,0.0,0.0,0.0,0.0,0.0,0.0,0.0,0.0,0.0,0.0,0.0,0.0,0.0,0.0,0.0,0.0,0.0,0.0,0.0,0.0,0.0,0.0,0.0,0.0,0.0,0.0,0.0,0.0,0.0],\"xaxis\":\"x\",\"y\":[2380.0,11.390000343322754,5.556000232696533,0.0,0.0,0.0,0.0,0.0,0.0,0.0,0.0,0.0,0.0,0.0,0.0,0.0,0.0,0.0,0.0,0.0,0.0,0.0,0.0,0.0,0.0,0.0,0.0,0.0,0.0,0.0,0.0,0.0,0.0,0.0,0.0,0.0,0.0,0.0,0.0,0.0,0.0,0.0,0.0,0.0,0.0,0.0,0.0,0.0,0.0,0.0,0.0,0.0,0.0,0.0,0.0,0.0,0.0,0.0,0.0,0.0,0.0,0.0,0.0,0.0,0.0,0.0,0.0,0.0,0.0,0.0,0.0,0.0,0.0,0.0,0.0,0.0,0.0,0.0,0.0,0.0,0.0,0.0,0.0,0.0,0.0,0.0,0.0,0.0,0.0,0.0,0.0,0.0,0.0,0.0,0.0,0.0,0.0,0.0,0.0,0.0,0.0,0.0,0.0,0.0,0.0,0.0,0.0,0.0,0.0,0.0,0.0,0.0,0.0,0.0,0.0,0.0,0.0,0.0,0.0,0.0,0.0,0.0,0.0,0.0,0.0,0.0,0.0,0.0,0.0,0.0,0.0,0.0,0.0,0.0,0.0,0.0,0.0,0.0,0.0,0.0,0.0,0.0,0.0,0.0,0.0,0.0,0.0,0.0,0.0,0.0,0.0,0.0,0.0,0.0,0.0,0.0,0.0,0.0,0.0,0.0,0.0,0.0,0.0,0.0,0.0,0.0,0.0,0.0,0.0,0.0,0.0,0.0,0.0,0.0,0.0,0.0,0.0,0.0,0.0,510.0,0.0,0.0,0.0,0.0,0.0,0.0,0.0,1380.0,0.0,0.0,0.0,0.0,0.0,0.0,0.0,0.0,0.0,0.0,0.0,21380.0,0.0,0.0,0.0,0.0,0.0,0.0,0.0,0.0,1210.0,0.0,0.0,0.0,0.0,0.0,0.0,0.0,0.0,0.0,0.0,23560.0,0.0,0.0,809.0,0.0,0.0,0.0,0.0,0.0,0.0,0.0,0.0,0.0,0.0,0.0,0.0,0.0,800.0,0.0,5030.0,4250.0,36090.0,0.0,11190.0,10360.0,0.0,0.0,0.0,0.0,0.0,0.0,0.0,0.0,0.0,0.0,0.0,0.0,0.0,0.0,0.0,0.0,0.0,0.0,0.0,0.0,0.0,0.0,0.0,0.0,0.0,0.0,0.0,0.0,0.0,0.0,0.0,0.0,0.0,0.0,0.0,0.0,0.0,0.0,0.0,0.0,0.0,0.0],\"yaxis\":\"y\",\"type\":\"scatter\"}],                        {\"template\":{\"data\":{\"barpolar\":[{\"marker\":{\"line\":{\"color\":\"rgb(237,237,237)\",\"width\":0.5},\"pattern\":{\"fillmode\":\"overlay\",\"size\":10,\"solidity\":0.2}},\"type\":\"barpolar\"}],\"bar\":[{\"error_x\":{\"color\":\"rgb(51,51,51)\"},\"error_y\":{\"color\":\"rgb(51,51,51)\"},\"marker\":{\"line\":{\"color\":\"rgb(237,237,237)\",\"width\":0.5},\"pattern\":{\"fillmode\":\"overlay\",\"size\":10,\"solidity\":0.2}},\"type\":\"bar\"}],\"carpet\":[{\"aaxis\":{\"endlinecolor\":\"rgb(51,51,51)\",\"gridcolor\":\"white\",\"linecolor\":\"white\",\"minorgridcolor\":\"white\",\"startlinecolor\":\"rgb(51,51,51)\"},\"baxis\":{\"endlinecolor\":\"rgb(51,51,51)\",\"gridcolor\":\"white\",\"linecolor\":\"white\",\"minorgridcolor\":\"white\",\"startlinecolor\":\"rgb(51,51,51)\"},\"type\":\"carpet\"}],\"choropleth\":[{\"colorbar\":{\"outlinewidth\":0,\"tickcolor\":\"rgb(237,237,237)\",\"ticklen\":6,\"ticks\":\"inside\"},\"type\":\"choropleth\"}],\"contourcarpet\":[{\"colorbar\":{\"outlinewidth\":0,\"tickcolor\":\"rgb(237,237,237)\",\"ticklen\":6,\"ticks\":\"inside\"},\"type\":\"contourcarpet\"}],\"contour\":[{\"colorbar\":{\"outlinewidth\":0,\"tickcolor\":\"rgb(237,237,237)\",\"ticklen\":6,\"ticks\":\"inside\"},\"colorscale\":[[0,\"rgb(20,44,66)\"],[1,\"rgb(90,179,244)\"]],\"type\":\"contour\"}],\"heatmapgl\":[{\"colorbar\":{\"outlinewidth\":0,\"tickcolor\":\"rgb(237,237,237)\",\"ticklen\":6,\"ticks\":\"inside\"},\"colorscale\":[[0,\"rgb(20,44,66)\"],[1,\"rgb(90,179,244)\"]],\"type\":\"heatmapgl\"}],\"heatmap\":[{\"colorbar\":{\"outlinewidth\":0,\"tickcolor\":\"rgb(237,237,237)\",\"ticklen\":6,\"ticks\":\"inside\"},\"colorscale\":[[0,\"rgb(20,44,66)\"],[1,\"rgb(90,179,244)\"]],\"type\":\"heatmap\"}],\"histogram2dcontour\":[{\"colorbar\":{\"outlinewidth\":0,\"tickcolor\":\"rgb(237,237,237)\",\"ticklen\":6,\"ticks\":\"inside\"},\"colorscale\":[[0,\"rgb(20,44,66)\"],[1,\"rgb(90,179,244)\"]],\"type\":\"histogram2dcontour\"}],\"histogram2d\":[{\"colorbar\":{\"outlinewidth\":0,\"tickcolor\":\"rgb(237,237,237)\",\"ticklen\":6,\"ticks\":\"inside\"},\"colorscale\":[[0,\"rgb(20,44,66)\"],[1,\"rgb(90,179,244)\"]],\"type\":\"histogram2d\"}],\"histogram\":[{\"marker\":{\"pattern\":{\"fillmode\":\"overlay\",\"size\":10,\"solidity\":0.2}},\"type\":\"histogram\"}],\"mesh3d\":[{\"colorbar\":{\"outlinewidth\":0,\"tickcolor\":\"rgb(237,237,237)\",\"ticklen\":6,\"ticks\":\"inside\"},\"type\":\"mesh3d\"}],\"parcoords\":[{\"line\":{\"colorbar\":{\"outlinewidth\":0,\"tickcolor\":\"rgb(237,237,237)\",\"ticklen\":6,\"ticks\":\"inside\"}},\"type\":\"parcoords\"}],\"pie\":[{\"automargin\":true,\"type\":\"pie\"}],\"scatter3d\":[{\"line\":{\"colorbar\":{\"outlinewidth\":0,\"tickcolor\":\"rgb(237,237,237)\",\"ticklen\":6,\"ticks\":\"inside\"}},\"marker\":{\"colorbar\":{\"outlinewidth\":0,\"tickcolor\":\"rgb(237,237,237)\",\"ticklen\":6,\"ticks\":\"inside\"}},\"type\":\"scatter3d\"}],\"scattercarpet\":[{\"marker\":{\"colorbar\":{\"outlinewidth\":0,\"tickcolor\":\"rgb(237,237,237)\",\"ticklen\":6,\"ticks\":\"inside\"}},\"type\":\"scattercarpet\"}],\"scattergeo\":[{\"marker\":{\"colorbar\":{\"outlinewidth\":0,\"tickcolor\":\"rgb(237,237,237)\",\"ticklen\":6,\"ticks\":\"inside\"}},\"type\":\"scattergeo\"}],\"scattergl\":[{\"marker\":{\"colorbar\":{\"outlinewidth\":0,\"tickcolor\":\"rgb(237,237,237)\",\"ticklen\":6,\"ticks\":\"inside\"}},\"type\":\"scattergl\"}],\"scattermapbox\":[{\"marker\":{\"colorbar\":{\"outlinewidth\":0,\"tickcolor\":\"rgb(237,237,237)\",\"ticklen\":6,\"ticks\":\"inside\"}},\"type\":\"scattermapbox\"}],\"scatterpolargl\":[{\"marker\":{\"colorbar\":{\"outlinewidth\":0,\"tickcolor\":\"rgb(237,237,237)\",\"ticklen\":6,\"ticks\":\"inside\"}},\"type\":\"scatterpolargl\"}],\"scatterpolar\":[{\"marker\":{\"colorbar\":{\"outlinewidth\":0,\"tickcolor\":\"rgb(237,237,237)\",\"ticklen\":6,\"ticks\":\"inside\"}},\"type\":\"scatterpolar\"}],\"scatter\":[{\"fillpattern\":{\"fillmode\":\"overlay\",\"size\":10,\"solidity\":0.2},\"type\":\"scatter\"}],\"scatterternary\":[{\"marker\":{\"colorbar\":{\"outlinewidth\":0,\"tickcolor\":\"rgb(237,237,237)\",\"ticklen\":6,\"ticks\":\"inside\"}},\"type\":\"scatterternary\"}],\"surface\":[{\"colorbar\":{\"outlinewidth\":0,\"tickcolor\":\"rgb(237,237,237)\",\"ticklen\":6,\"ticks\":\"inside\"},\"colorscale\":[[0,\"rgb(20,44,66)\"],[1,\"rgb(90,179,244)\"]],\"type\":\"surface\"}],\"table\":[{\"cells\":{\"fill\":{\"color\":\"rgb(237,237,237)\"},\"line\":{\"color\":\"white\"}},\"header\":{\"fill\":{\"color\":\"rgb(217,217,217)\"},\"line\":{\"color\":\"white\"}},\"type\":\"table\"}]},\"layout\":{\"annotationdefaults\":{\"arrowhead\":0,\"arrowwidth\":1},\"autotypenumbers\":\"strict\",\"coloraxis\":{\"colorbar\":{\"outlinewidth\":0,\"tickcolor\":\"rgb(237,237,237)\",\"ticklen\":6,\"ticks\":\"inside\"}},\"colorscale\":{\"sequential\":[[0,\"rgb(20,44,66)\"],[1,\"rgb(90,179,244)\"]],\"sequentialminus\":[[0,\"rgb(20,44,66)\"],[1,\"rgb(90,179,244)\"]]},\"colorway\":[\"#F8766D\",\"#A3A500\",\"#00BF7D\",\"#00B0F6\",\"#E76BF3\"],\"font\":{\"color\":\"rgb(51,51,51)\"},\"geo\":{\"bgcolor\":\"white\",\"lakecolor\":\"white\",\"landcolor\":\"rgb(237,237,237)\",\"showlakes\":true,\"showland\":true,\"subunitcolor\":\"white\"},\"hoverlabel\":{\"align\":\"left\"},\"hovermode\":\"closest\",\"paper_bgcolor\":\"white\",\"plot_bgcolor\":\"rgb(237,237,237)\",\"polar\":{\"angularaxis\":{\"gridcolor\":\"white\",\"linecolor\":\"white\",\"showgrid\":true,\"tickcolor\":\"rgb(51,51,51)\",\"ticks\":\"outside\"},\"bgcolor\":\"rgb(237,237,237)\",\"radialaxis\":{\"gridcolor\":\"white\",\"linecolor\":\"white\",\"showgrid\":true,\"tickcolor\":\"rgb(51,51,51)\",\"ticks\":\"outside\"}},\"scene\":{\"xaxis\":{\"backgroundcolor\":\"rgb(237,237,237)\",\"gridcolor\":\"white\",\"gridwidth\":2,\"linecolor\":\"white\",\"showbackground\":true,\"showgrid\":true,\"tickcolor\":\"rgb(51,51,51)\",\"ticks\":\"outside\",\"zerolinecolor\":\"white\"},\"yaxis\":{\"backgroundcolor\":\"rgb(237,237,237)\",\"gridcolor\":\"white\",\"gridwidth\":2,\"linecolor\":\"white\",\"showbackground\":true,\"showgrid\":true,\"tickcolor\":\"rgb(51,51,51)\",\"ticks\":\"outside\",\"zerolinecolor\":\"white\"},\"zaxis\":{\"backgroundcolor\":\"rgb(237,237,237)\",\"gridcolor\":\"white\",\"gridwidth\":2,\"linecolor\":\"white\",\"showbackground\":true,\"showgrid\":true,\"tickcolor\":\"rgb(51,51,51)\",\"ticks\":\"outside\",\"zerolinecolor\":\"white\"}},\"shapedefaults\":{\"fillcolor\":\"black\",\"line\":{\"width\":0},\"opacity\":0.3},\"ternary\":{\"aaxis\":{\"gridcolor\":\"white\",\"linecolor\":\"white\",\"showgrid\":true,\"tickcolor\":\"rgb(51,51,51)\",\"ticks\":\"outside\"},\"baxis\":{\"gridcolor\":\"white\",\"linecolor\":\"white\",\"showgrid\":true,\"tickcolor\":\"rgb(51,51,51)\",\"ticks\":\"outside\"},\"bgcolor\":\"rgb(237,237,237)\",\"caxis\":{\"gridcolor\":\"white\",\"linecolor\":\"white\",\"showgrid\":true,\"tickcolor\":\"rgb(51,51,51)\",\"ticks\":\"outside\"}},\"xaxis\":{\"automargin\":true,\"gridcolor\":\"white\",\"linecolor\":\"white\",\"showgrid\":true,\"tickcolor\":\"rgb(51,51,51)\",\"ticks\":\"outside\",\"title\":{\"standoff\":15},\"zerolinecolor\":\"white\"},\"yaxis\":{\"automargin\":true,\"gridcolor\":\"white\",\"linecolor\":\"white\",\"showgrid\":true,\"tickcolor\":\"rgb(51,51,51)\",\"ticks\":\"outside\",\"title\":{\"standoff\":15},\"zerolinecolor\":\"white\"}}},\"xaxis\":{\"anchor\":\"y\",\"domain\":[0.0,1.0],\"title\":{\"text\":\"gravity\"}},\"yaxis\":{\"anchor\":\"x\",\"domain\":[0.0,1.0],\"title\":{\"text\":\"escape\"}},\"legend\":{\"tracegroupgap\":0},\"margin\":{\"t\":60}},                        {\"responsive\": true}                    ).then(function(){\n",
              "                            \n",
              "var gd = document.getElementById('1ea7b92e-8e9a-435c-9394-c7e75723b891');\n",
              "var x = new MutationObserver(function (mutations, observer) {{\n",
              "        var display = window.getComputedStyle(gd).display;\n",
              "        if (!display || display === 'none') {{\n",
              "            console.log([gd, 'removed!']);\n",
              "            Plotly.purge(gd);\n",
              "            observer.disconnect();\n",
              "        }}\n",
              "}});\n",
              "\n",
              "// Listen for the removal of the full notebook cells\n",
              "var notebookContainer = gd.closest('#notebook-container');\n",
              "if (notebookContainer) {{\n",
              "    x.observe(notebookContainer, {childList: true});\n",
              "}}\n",
              "\n",
              "// Listen for the clearing of the current output cell\n",
              "var outputEl = gd.closest('.output');\n",
              "if (outputEl) {{\n",
              "    x.observe(outputEl, {childList: true});\n",
              "}}\n",
              "\n",
              "                        })                };                            </script>        </div>\n",
              "</body>\n",
              "</html>"
            ]
          },
          "metadata": {}
        }
      ]
    },
    {
      "cell_type": "markdown",
      "source": [
        "The chart showing the outlier is given below with instructions to plot both the before and after in the above snippet:"
      ],
      "metadata": {
        "id": "2MVcxW6SYLbI"
      }
    },
    {
      "cell_type": "markdown",
      "source": [
        "### Model Building"
      ],
      "metadata": {
        "id": "y3UxrM0gbOfV"
      }
    },
    {
      "cell_type": "markdown",
      "source": [
        "The model building step involves generating a pipeline. A pipeline can be used in PySpark to solve the preprocessing and training steps in one code block and structure. The pipeline used here will first generate a feature vector (a vector which is the combination of our training features in this case velocity, density and gravity), using a VectorAssembler(). The vector is generated because all work done in PySpark machine learning requires our data to be vectorised. The second step is scaling the data a StandardScaler() this will force all our data into a similar feature space. In so doing all the bodies will be more comparable to one another as the data are all scaled around the mean values. Finally, the KMeans() model is declared and all three of these processes are combined in a Pipeline().\n",
        "\n"
      ],
      "metadata": {
        "id": "ni9nM8ZwbQ4m"
      }
    },
    {
      "cell_type": "code",
      "source": [
        "from pyspark.ml.feature import VectorAssembler, StandardScaler\n",
        "from pyspark.ml.clustering import KMeans\n",
        "from pyspark.ml import Pipeline\n",
        "\n",
        "# set up each processing step with the correct input columns and output\n",
        "assemble=VectorAssembler(inputCols=num_cols, outputCol='features')\n",
        "scale=StandardScaler(inputCol='features',outputCol='standardized')\n",
        "km = KMeans(featuresCol = 'standardized')\n",
        "\n",
        "# assemble the pipeline \n",
        "pipe = Pipeline(stages=[assemble, scale, km])"
      ],
      "metadata": {
        "id": "nppVhxG5bRtL"
      },
      "execution_count": null,
      "outputs": []
    },
    {
      "cell_type": "markdown",
      "source": [
        "The problem when using KMeans clustering is the unsupervised nature of the algorithm which gives us little control over the actual modelling process. The algorithm will cluster the data according to a set k value which is set beforehand. To find the best k value silhouette scoring can be performed. Silhouette scores are an indication of how dense and well-defined clusters are, the higher the silhouette score the better. The below code excerpt shows how the clusters are generated and an output box of the scores in this project."
      ],
      "metadata": {
        "id": "TmqdP23fbUEn"
      }
    },
    {
      "cell_type": "code",
      "source": [
        "from pyspark.ml.evaluation import ClusteringEvaluator\n",
        "\n",
        "# set up evaluator \n",
        "evaluator = ClusteringEvaluator()\n",
        "\n",
        "# test between k=2 and 10 \n",
        "for k in range(2,10):\n",
        "  # set the KMeans stage of the pipe to hold each value of K and the random seed = 1 and fit that pipe to data  \n",
        "  kmeans = pipe.getStages()[-1].setK(k).setSeed(1)  \n",
        "  model = pipe.fit(df)\n",
        "  \n",
        "  # build a preds dataset of each k value\n",
        "  preds = model.transform(df)\n",
        "\n",
        "  # silhouette score each prediction set and print formatted output \n",
        "  silhouette = evaluator.evaluate(preds)\n",
        "  print(f'Tested: {k} clusters: {silhouette}')"
      ],
      "metadata": {
        "colab": {
          "base_uri": "https://localhost:8080/"
        },
        "id": "wAtoF1-ubVJp",
        "outputId": "19eda464-31bb-4db2-f68a-76826ac72d40"
      },
      "execution_count": null,
      "outputs": [
        {
          "output_type": "stream",
          "name": "stdout",
          "text": [
            "Tested: 2 clusters: 0.985906445228239\n",
            "Tested: 3 clusters: 0.9853183536337629\n",
            "Tested: 4 clusters: 0.9288686572576516\n",
            "Tested: 5 clusters: 0.9063524257467865\n",
            "Tested: 6 clusters: 0.8596777095050427\n",
            "Tested: 7 clusters: 0.8360492437185751\n",
            "Tested: 8 clusters: -0.7386038523165039\n",
            "Tested: 9 clusters: 0.8514223592590151\n"
          ]
        }
      ]
    },
    {
      "cell_type": "markdown",
      "source": [
        "The optimal k value for dense and well-defined clusters here is 2. However, there must be a tradeoff as by clustering into only two clusters the insight drawn from the model is significantly limited. There is a slight reduction in silhouette score as k is increased to 3 however three clusters should give more insight into the underlying data structures. For this reason the value of k=3 is chosen."
      ],
      "metadata": {
        "id": "vasi4cc7bf7R"
      }
    },
    {
      "cell_type": "markdown",
      "source": [
        "### Evaluation"
      ],
      "metadata": {
        "id": "eU3vthcFbgqL"
      }
    },
    {
      "cell_type": "markdown",
      "source": [
        "The model built can now be evaluated and the way this is done is through visualisation and the interpretations that can be drawn. Using the three dimensions the model is based upon, the predicted clusters and the status of the body (whether or not it is a planet), the following code snippet can build a 3D chart.\n",
        "\n"
      ],
      "metadata": {
        "id": "3pC78PHebhiK"
      }
    },
    {
      "cell_type": "code",
      "source": [
        "# set the random seed for the algorithm and the value for k\n",
        "pipe.getStages()[-1].setK(3).setSeed(1)  \n",
        "\n",
        "# fit model and transform the data showing a cut of the data to check output\n",
        "model = pipe.fit(df)\n",
        "clusters = model.transform(df)\n",
        "clusters.show(5)\n",
        "\n",
        "vis_df = clusters.toPandas()\n",
        "\n",
        "# build figure with 3D numeric dimensions and categorical isPlanet and prediction dimensions\n",
        "fig = px.scatter_3d(vis_df, x='gravity', y='escape', z='density', color='prediction', symbol='isPlanet', template='ggplot2', hover_name='englishName')\n",
        "fig.show()"
      ],
      "metadata": {
        "colab": {
          "base_uri": "https://localhost:8080/",
          "height": 742
        },
        "id": "cAdmTsp1bkLL",
        "outputId": "c7d5a97f-6142-4e59-d4e2-1cdb9ef8c3fd"
      },
      "execution_count": null,
      "outputs": [
        {
          "output_type": "stream",
          "name": "stdout",
          "text": [
            "+------+-----------+--------+-------+-------+------+--------------------+--------------------+----------+\n",
            "|    id|englishName|isPlanet|density|gravity|escape|            features|        standardized|prediction|\n",
            "+------+-----------+--------+-------+-------+------+--------------------+--------------------+----------+\n",
            "|  lune|       Moon|   false|  3.344|   1.62|2380.0|[3.34400010108947...|[5.04482713061263...|         0|\n",
            "|phobos|     Phobos|   false|    1.9| 0.0057| 11.39|[1.89999997615814...|[2.86637892886519...|         0|\n",
            "|deimos|     Deimos|   false|   1.75|  0.003| 5.556|[1.75,0.003000000...|[2.64008588866244...|         0|\n",
            "|    io|         Io|   false|   3.53|   1.79|   0.0|[3.52999997138977...|[5.32543034939712...|         0|\n",
            "|europe|     Europa|   false|   3.01|   1.31|   0.0|[3.00999999046325...|[4.54094771411208...|         0|\n",
            "+------+-----------+--------+-------+-------+------+--------------------+--------------------+----------+\n",
            "only showing top 5 rows\n",
            "\n"
          ]
        },
        {
          "output_type": "display_data",
          "data": {
            "text/html": [
              "<html>\n",
              "<head><meta charset=\"utf-8\" /></head>\n",
              "<body>\n",
              "    <div>            <script src=\"https://cdnjs.cloudflare.com/ajax/libs/mathjax/2.7.5/MathJax.js?config=TeX-AMS-MML_SVG\"></script><script type=\"text/javascript\">if (window.MathJax && window.MathJax.Hub && window.MathJax.Hub.Config) {window.MathJax.Hub.Config({SVG: {font: \"STIX-Web\"}});}</script>                <script type=\"text/javascript\">window.PlotlyConfig = {MathJaxConfig: 'local'};</script>\n",
              "        <script src=\"https://cdn.plot.ly/plotly-2.18.2.min.js\"></script>                <div id=\"b8a336a5-3e89-4574-9394-24782204da6b\" class=\"plotly-graph-div\" style=\"height:525px; width:100%;\"></div>            <script type=\"text/javascript\">                                    window.PLOTLYENV=window.PLOTLYENV || {};                                    if (document.getElementById(\"b8a336a5-3e89-4574-9394-24782204da6b\")) {                    Plotly.newPlot(                        \"b8a336a5-3e89-4574-9394-24782204da6b\",                        [{\"hovertemplate\":\"<b>%{hovertext}</b><br><br>isPlanet=False<br>gravity=%{x}<br>escape=%{y}<br>density=%{z}<br>prediction=%{marker.color}<extra></extra>\",\"hovertext\":[\"Moon\",\"Phobos\",\"Deimos\",\"Io\",\"Europa\",\"Ganymede\",\"Callisto\",\"Amalthea\",\"Himalia\",\"Elara\",\"Pasiphae\",\"Sinope\",\"Lysithea\",\"Carme\",\"Ananke\",\"Leda\",\"Thebe\",\"Adrastea\",\"Metis\",\"Callirrhoe\",\"Themisto\",\"Megaclite\",\"Taygete\",\"Chaldene\",\"Harpalyke\",\"Kalyke\",\"Iocaste\",\"Erinome\",\"Isonoe\",\"Praxidike\",\"Autonoe\",\"Thyone\",\"Hermippe\",\"Aitne\",\"Eurydome\",\"Euanthe\",\"Euporie\",\"Orthosie\",\"Sponde\",\"Kale\",\"Pasithee\",\"Hegemone\",\"Mneme\",\"Aoede\",\"Thelxinoe\",\"Arche\",\"Kallichore\",\"Helike\",\"Carpo\",\"Eukelade\",\"Cyllene\",\"Kore\",\"Herse\",\"S/2003 J 2\",\"Eupheme\",\"S/2003 J 4\",\"Eirene\",\"S/2003 J 9\",\"S/2003 J 10\",\"S/2003 J 12\",\"Philophrosyne\",\"S/2003 J 16\",\"S/2003 J 18\",\"S/2003 J 19\",\"S/2003 J 23\",\"Mimas\",\"Enceladus\",\"Tethys\",\"Dione\",\"Rhea\",\"Titan\",\"Hyperion\",\"Iapetus\",\"Phoebe\",\"Janus\",\"Epimetheus\",\"Helene\",\"Telesto\",\"Calypso\",\"Atlas\",\"Prometheus\",\"Pandora\",\"Pan\",\"Ymir\",\"Paaliaq\",\"Tarvos\",\"Ijiraq\",\"Suttungr\",\"Kiviuq\",\"Mundilfari\",\"Albiorix\",\"Skathi\",\"Erriapus\",\"Siarnaq\",\"Thrymr\",\"Narvi\",\"Methone\",\"Pallene\",\"Polydeuces\",\"Daphnis\",\"Aegir\",\"Bebhionn\",\"Bergelmir\",\"Bestla\",\"Farbauti\",\"Fenrir\",\"Fornjot\",\"Hati\",\"Hyrrokkin\",\"Kari\",\"Loge\",\"Skoll\",\"Surtur\",\"Anthe\",\"Jarnsaxa\",\"Greip\",\"Tarqeq\",\"Aegaeon\",\"S/2004 S 7\",\"S/2004 S 12\",\"S/2004 S 13\",\"S/2004 S 17\",\"S/2006 S 1\",\"S/2006 S 3\",\"S/2007 S 2\",\"S/2007 S 3\",\"S/2009 S 1\",\"Ariel\",\"Umbriel\",\"Titania\",\"Oberon\",\"Miranda\",\"Cordelia\",\"Ophelia\",\"Bianca\",\"Cressida\",\"Desdemona\",\"Juliet\",\"Portia\",\"Rosalind\",\"Belinda\",\"Puck\",\"Caliban\",\"Sycorax\",\"Prospero\",\"Setebos\",\"Stephano\",\"Trinculo\",\"Francisco\",\"Margaret\",\"Ferdinand\",\"Perdita\",\"Mab\",\"Cupid\",\"Triton\",\"Nereid\",\"Naiad\",\"Thalassa\",\"Despina\",\"Galatea\",\"Larissa\",\"Proteus\",\"Halimede\",\"Psamathe\",\"Sao\",\"Laomedeia\",\"Neso\",\"Charon\",\"Nix\",\"Hydra\",\"Namaka\",\"Hi\\u02bbiaka\",\"Dysnomia\",\"Dia\",\"S/2004 S 3\",\"S/2004 S 4\",\"S/2004 S 6\",\"S/2010 J 1\",\"S/2010 J 2\",\"1 Ceres\",\"6 Hebe\",\"47171 Lempo\",\"The Little Prince\",\"762 Pulcova\",\"4179 Toutatis\",\"50000 Quaoar\",\"2867 \\u0160teins\",\"136199 Eris\",\"5 Astraea\",\"5145 Pholus\",\"4769 Castalia\",\"Remus\",\"624 Hektor\",\"216 Kleopatra\",\"3753 Cruithne\",\"3 Juno\",\"10 Hygiea\",\"21 Lutetia\",\"253 Mathilde\",\"7 Iris\",\"433 Eros\",\"Vanth\",\"90377 Sedna\",\"10199 Chariklo\",\"87 Sylvia\",\"(243) Ida I Dactyl\",\"90482 Orcus\",\"Pluto\",\"5335 Damocles\",\"Romulus\",\"Alexhelios\",\"Cleoselene\",\"8 Flora\",\"2060 Chiron\",\"5261 Eureka\",\"588 Achilles\",\"Weywot\",\"28978 Ixion\",\"Shoemaker-Levy 9\",\"9 Metis\",\"136108 Haumea\",\"7066 Nessus\",\"25143 Itokawa\",\"10370 Hylonome\",\"45 Eugenia\",\"(308933) 2006 SQ372\",\"2 Pallas\",\"8405 Asbolus\",\"20000 Varuna\",\"4 Vesta\",\"243 Ida\",\"Comet Hyakutake\",\"951 Gaspra\",\"15760 Albion\",\"136472 Makemake\",\"Halley's Comet\",\"Sun\",\"Kerberos\",\"S/2011 J 1\",\"S/2011 J 2\",\"Styx\",\"Hippocamp\",\"S/2015 (136472) 1\",\"S/2017 J 1\",\"S/2016 J 1\",\"Valetudo\",\"S/2017 J 2\",\"S/2017 J 3\",\"Pandia\",\"S/2017 J 5\",\"S/2017 J 6\",\"S/2017 J 7\",\"S/2017 J 8\",\"S/2017 J 9\",\"Ersa\",\"Arrokoth\",\"101955 Bennu\",\"S/2004 S 22\",\"S/2004 S 21\",\"S/2004 S 20\",\"S/2004 S 23\",\"S/2004 S 24\",\"S/2004 S 25\",\"S/2004 S 26\",\"S/2004 S 27\",\"S/2004 S 28\",\"S/2004 S 29\",\"S/2004 S 30\",\"S/2004 S 31\",\"S/2004 S 32\",\"S/2004 S 33\",\"S/2004 S 34\",\"S/2004 S 35\",\"S/2004 S 36\",\"S/2004 S 37\",\"S/2004 S 38\",\"S/2004 S 39\",\"C/2020 F3 (NEOWISE)\",\"S/2003 J 24\"],\"legendgroup\":\"False\",\"marker\":{\"color\":[0,0,0,0,0,0,0,0,0,0,0,0,0,0,0,0,0,0,0,0,0,0,0,0,0,0,0,0,0,0,0,0,0,0,0,0,0,0,0,0,0,0,0,0,0,0,0,0,0,0,0,0,0,0,0,0,0,0,0,0,0,0,0,0,0,0,0,0,0,0,0,0,0,0,0,0,0,0,0,0,0,0,0,0,0,0,0,0,0,0,0,0,0,0,0,0,0,0,0,0,0,0,0,0,0,0,0,0,0,0,0,0,0,0,0,0,0,0,0,0,0,0,0,0,0,0,0,0,0,0,0,0,0,0,0,0,0,0,0,0,0,0,0,0,0,0,0,0,0,0,0,0,0,0,0,0,0,0,0,0,0,0,0,0,0,0,0,0,0,0,0,0,0,0,0,0,0,0,0,0,0,0,0,0,0,0,0,0,0,0,0,0,0,0,0,0,0,0,0,0,0,0,0,0,0,0,0,0,0,0,0,0,0,0,0,0,0,0,0,0,0,0,0,0,0,0,0,0,0,0,0,0,0,0,0,0,0,0,0,0,0,0,0,0,0,0,0,0,0,0,0,0,0,0,0,0,0,0,0,0,0,0,0,0,0,0,0,0,0,0,0,0,0,0,0,0,0,0,0],\"coloraxis\":\"coloraxis\",\"symbol\":\"circle\"},\"mode\":\"markers\",\"name\":\"False\",\"scene\":\"scene\",\"showlegend\":true,\"x\":[1.6200000047683716,0.00570000009611249,0.003000000026077032,1.7899999618530273,1.309999942779541,1.4279999732971191,1.2350000143051147,0.019999999552965164,0.06199999898672104,0.03099999949336052,0.02199999988079071,0.014000000432133675,0.013000000268220901,0.017000000923871994,0.009999999776482582,0.007300000172108412,0.019999999552965164,0.0020000000949949026,0.004999999888241291,0.003100000089034438,0.002899999963119626,0.0,0.0,0.0,0.0,0.0,0.0,0.0,0.0,0.0,0.001500000013038516,0.001500000013038516,0.001500000013038516,0.0012000000569969416,0.0012000000569969416,0.0012000000569969416,0.0,0.0008099999977275729,0.0008099999977275729,0.0008099999977275729,0.0008099999977275729,0.0,0.0,0.0,0.0,0.0012000000569969416,0.0,0.0,0.0,0.0,0.0,0.0,0.0,0.0,0.0,0.0,0.0,0.0,0.0,0.0,0.0,0.0,0.0,0.0,0.0008099999977275729,0.0,0.0,0.0,0.0,0.0,0.0,0.0,0.0,0.0,0.0,0.0,0.0,0.0,0.0,0.0,0.0,0.0,0.0,0.0,0.0,0.0,0.0,0.0,0.0,0.0,0.0,0.0,0.0,0.0,0.0,0.0,0.0,0.0,0.0,0.0,0.0,0.0,0.0,0.0,0.0,0.0,0.0,0.0,0.0,0.0,0.0,0.0,0.0,0.0,0.0,0.0,0.0,0.0,0.0,0.0,0.0,0.0,0.0,0.0,0.0,0.0,0.0,0.0,0.0,0.0,0.0,0.0,0.0,0.0,0.0,0.0,0.0,0.0,0.0,0.0,0.0,0.0,0.0,0.0,0.0,0.0,0.0,0.0,0.0,0.0,0.0,0.0,0.0,0.0,0.7799999713897705,0.07100000232458115,0.009999999776482582,0.013000000268220901,0.023000000044703484,0.029999999329447746,0.03400000184774399,0.07500000298023224,0.009999999776482582,0.0,0.009999999776482582,0.009999999776482582,0.0,0.0,0.0,0.0,0.0,0.0,0.0,0.0,0.0,0.0,0.0,0.0,0.0,0.2800000011920929,0.0,0.0,0.0,0.0,0.0,0.0,0.0,0.8199999928474426,0.0,0.0,0.0,0.0,0.0,0.0,0.0,0.0,0.0,0.0,0.0,0.0,0.0,0.0,0.0,0.0,0.0,0.0,0.0,0.6200000047683716,0.0,0.0,0.0,0.0,0.0,0.0,0.0,0.0,0.0,0.0,0.0,0.0,0.4009999930858612,0.0,0.0,0.0,0.0,0.0,0.0,0.0,0.0,0.0,0.0,0.0,0.0,0.0,0.5,0.0,0.0,0.0,0.0,0.0,0.0,0.0,0.0,0.0,0.0,0.0,0.0,0.0,0.0,0.0,0.0,0.0,0.0,0.0,0.0,0.0,0.0,0.0,0.0,0.0,0.0,0.0,0.0,0.0,0.0,0.0,0.0,0.0,0.0,0.0,0.0,0.0,0.0,0.0,0.0,0.0,0.0,0.0,0.0],\"y\":[2380.0,11.390000343322754,5.556000232696533,0.0,0.0,0.0,0.0,0.0,0.0,0.0,0.0,0.0,0.0,0.0,0.0,0.0,0.0,0.0,0.0,0.0,0.0,0.0,0.0,0.0,0.0,0.0,0.0,0.0,0.0,0.0,0.0,0.0,0.0,0.0,0.0,0.0,0.0,0.0,0.0,0.0,0.0,0.0,0.0,0.0,0.0,0.0,0.0,0.0,0.0,0.0,0.0,0.0,0.0,0.0,0.0,0.0,0.0,0.0,0.0,0.0,0.0,0.0,0.0,0.0,0.0,0.0,0.0,0.0,0.0,0.0,0.0,0.0,0.0,0.0,0.0,0.0,0.0,0.0,0.0,0.0,0.0,0.0,0.0,0.0,0.0,0.0,0.0,0.0,0.0,0.0,0.0,0.0,0.0,0.0,0.0,0.0,0.0,0.0,0.0,0.0,0.0,0.0,0.0,0.0,0.0,0.0,0.0,0.0,0.0,0.0,0.0,0.0,0.0,0.0,0.0,0.0,0.0,0.0,0.0,0.0,0.0,0.0,0.0,0.0,0.0,0.0,0.0,0.0,0.0,0.0,0.0,0.0,0.0,0.0,0.0,0.0,0.0,0.0,0.0,0.0,0.0,0.0,0.0,0.0,0.0,0.0,0.0,0.0,0.0,0.0,0.0,0.0,0.0,0.0,0.0,0.0,0.0,0.0,0.0,0.0,0.0,0.0,0.0,0.0,0.0,0.0,0.0,0.0,0.0,0.0,0.0,0.0,0.0,0.0,0.0,0.0,0.0,0.0,0.0,510.0,0.0,0.0,0.0,0.0,0.0,0.0,0.0,1380.0,0.0,0.0,0.0,0.0,0.0,0.0,0.0,0.0,0.0,0.0,0.0,0.0,0.0,0.0,0.0,0.0,0.0,0.0,0.0,1210.0,0.0,0.0,0.0,0.0,0.0,0.0,0.0,0.0,0.0,0.0,0.0,0.0,809.0,0.0,0.0,0.0,0.0,0.0,0.0,0.0,0.0,0.0,0.0,0.0,0.0,0.0,800.0,0.0,0.0,0.0,0.0,0.0,0.0,0.0,0.0,0.0,0.0,0.0,0.0,0.0,0.0,0.0,0.0,0.0,0.0,0.0,0.0,0.0,0.0,0.0,0.0,0.0,0.0,0.0,0.0,0.0,0.0,0.0,0.0,0.0,0.0,0.0,0.0,0.0,0.0,0.0,0.0,0.0,0.0,0.0,0.0],\"z\":[3.3440001010894775,1.899999976158142,1.75,3.5299999713897705,3.009999990463257,1.940000057220459,1.8300000429153442,3.0999999046325684,1.0,1.0,1.0,1.0,1.0,1.0,1.0,1.0,1.0,1.0,1.0,1.0,1.0,1.0,1.0,1.0,1.0,1.0,1.0,1.0,1.0,1.0,1.0,1.0,1.0,1.0,1.0,1.0,1.0,1.0,1.0,1.0,1.0,1.0,1.0,1.0,1.0,1.0,1.0,1.0,1.0,1.0,1.0,1.0,1.0,1.0,1.0,1.0,1.0,1.0,1.0,1.0,1.0,1.0,1.0,1.0,1.0,1.149999976158142,1.6100000143051147,0.9850000143051147,1.4800000190734863,1.2400000095367432,1.8799999952316284,0.550000011920929,1.090000033378601,1.6399999856948853,0.6299999952316284,0.6399999856948853,1.2999999523162842,1.0,1.0,0.5,0.47999998927116394,0.49000000953674316,0.41999998688697815,1.0,1.0,1.0,1.0,1.0,1.0,1.0,1.0,1.0,1.0,1.0,1.0,1.0,1.0,1.0,1.0,0.3400000035762787,1.0,1.0,1.0,1.0,1.0,1.0,1.0,1.0,1.0,1.0,1.0,1.0,1.0,1.0,1.0,1.0,1.0,1.0,1.0,1.0,1.0,1.0,1.0,1.0,1.0,1.0,1.0,1.590000033378601,1.4600000381469727,1.659999966621399,1.559999942779541,1.2000000476837158,1.0,1.0,1.0,1.0,1.0,1.0,1.0,1.0,1.0,1.0,1.0,1.0,1.0,1.0,1.0,1.0,1.0,1.0,1.0,1.0,1.0,1.0,2.049999952316284,1.0,1.0,1.0,1.0,1.0,1.0,1.0,1.0,1.0,1.0,1.0,1.0,1.0,1.0,1.0,1.0,1.0,1.0,1.0,1.0,1.0,1.0,1.0,1.0,2.1610000133514404,1.0,1.0,1.0,1.0,1.0,1.0,1.0,2.5199999809265137,1.0,1.0,1.0,1.0,1.0,1.0,1.0,1.0,1.0,1.0,1.0,1.0,1.0,1.0,1.0,1.0,1.0,1.0,1.0,1.8899999856948853,1.0,1.0,1.0,1.0,1.0,1.0,1.0,1.0,1.0,1.0,1.0,1.0,2.5999999046325684,1.0,1.0,1.0,1.0,1.0,1.0,1.0,1.0,1.0,1.0,1.0,1.0,1.0,1.399999976158142,1.0,1.0,1.0,1.0,1.0,1.0,1.0,1.0,1.0,1.0,1.0,1.0,1.0,1.0,1.0,1.0,1.0,1.0,1.0,1.0,1.0,1.0,0.0,0.0,0.0,0.0,0.0,0.0,0.0,0.0,0.0,0.0,0.0,0.0,0.0,0.0,0.0,0.0,0.0,0.0,0.0,0.0,0.0,0.0],\"type\":\"scatter3d\"},{\"hovertemplate\":\"<b>%{hovertext}</b><br><br>isPlanet=True<br>gravity=%{x}<br>escape=%{y}<br>density=%{z}<br>prediction=%{marker.color}<extra></extra>\",\"hovertext\":[\"Uranus\",\"Neptune\",\"Mars\",\"Mercury\",\"Saturn\",\"Earth\",\"Venus\"],\"legendgroup\":\"True\",\"marker\":{\"color\":[1,1,2,2,1,2,2],\"coloraxis\":\"coloraxis\",\"symbol\":\"diamond\"},\"mode\":\"markers\",\"name\":\"True\",\"scene\":\"scene\",\"showlegend\":true,\"x\":[8.869999885559082,11.149999618530273,3.7100000381469727,3.700000047683716,10.4399995803833,9.800000190734863,8.869999885559082],\"y\":[21380.0,23560.0,5030.0,4250.0,36090.0,11190.0,10360.0],\"z\":[1.2699999809265137,1.6380000114440918,3.9340999126434326,5.429100036621094,0.6870999932289124,5.513599872589111,5.243000030517578],\"type\":\"scatter3d\"}],                        {\"template\":{\"data\":{\"barpolar\":[{\"marker\":{\"line\":{\"color\":\"rgb(237,237,237)\",\"width\":0.5},\"pattern\":{\"fillmode\":\"overlay\",\"size\":10,\"solidity\":0.2}},\"type\":\"barpolar\"}],\"bar\":[{\"error_x\":{\"color\":\"rgb(51,51,51)\"},\"error_y\":{\"color\":\"rgb(51,51,51)\"},\"marker\":{\"line\":{\"color\":\"rgb(237,237,237)\",\"width\":0.5},\"pattern\":{\"fillmode\":\"overlay\",\"size\":10,\"solidity\":0.2}},\"type\":\"bar\"}],\"carpet\":[{\"aaxis\":{\"endlinecolor\":\"rgb(51,51,51)\",\"gridcolor\":\"white\",\"linecolor\":\"white\",\"minorgridcolor\":\"white\",\"startlinecolor\":\"rgb(51,51,51)\"},\"baxis\":{\"endlinecolor\":\"rgb(51,51,51)\",\"gridcolor\":\"white\",\"linecolor\":\"white\",\"minorgridcolor\":\"white\",\"startlinecolor\":\"rgb(51,51,51)\"},\"type\":\"carpet\"}],\"choropleth\":[{\"colorbar\":{\"outlinewidth\":0,\"tickcolor\":\"rgb(237,237,237)\",\"ticklen\":6,\"ticks\":\"inside\"},\"type\":\"choropleth\"}],\"contourcarpet\":[{\"colorbar\":{\"outlinewidth\":0,\"tickcolor\":\"rgb(237,237,237)\",\"ticklen\":6,\"ticks\":\"inside\"},\"type\":\"contourcarpet\"}],\"contour\":[{\"colorbar\":{\"outlinewidth\":0,\"tickcolor\":\"rgb(237,237,237)\",\"ticklen\":6,\"ticks\":\"inside\"},\"colorscale\":[[0,\"rgb(20,44,66)\"],[1,\"rgb(90,179,244)\"]],\"type\":\"contour\"}],\"heatmapgl\":[{\"colorbar\":{\"outlinewidth\":0,\"tickcolor\":\"rgb(237,237,237)\",\"ticklen\":6,\"ticks\":\"inside\"},\"colorscale\":[[0,\"rgb(20,44,66)\"],[1,\"rgb(90,179,244)\"]],\"type\":\"heatmapgl\"}],\"heatmap\":[{\"colorbar\":{\"outlinewidth\":0,\"tickcolor\":\"rgb(237,237,237)\",\"ticklen\":6,\"ticks\":\"inside\"},\"colorscale\":[[0,\"rgb(20,44,66)\"],[1,\"rgb(90,179,244)\"]],\"type\":\"heatmap\"}],\"histogram2dcontour\":[{\"colorbar\":{\"outlinewidth\":0,\"tickcolor\":\"rgb(237,237,237)\",\"ticklen\":6,\"ticks\":\"inside\"},\"colorscale\":[[0,\"rgb(20,44,66)\"],[1,\"rgb(90,179,244)\"]],\"type\":\"histogram2dcontour\"}],\"histogram2d\":[{\"colorbar\":{\"outlinewidth\":0,\"tickcolor\":\"rgb(237,237,237)\",\"ticklen\":6,\"ticks\":\"inside\"},\"colorscale\":[[0,\"rgb(20,44,66)\"],[1,\"rgb(90,179,244)\"]],\"type\":\"histogram2d\"}],\"histogram\":[{\"marker\":{\"pattern\":{\"fillmode\":\"overlay\",\"size\":10,\"solidity\":0.2}},\"type\":\"histogram\"}],\"mesh3d\":[{\"colorbar\":{\"outlinewidth\":0,\"tickcolor\":\"rgb(237,237,237)\",\"ticklen\":6,\"ticks\":\"inside\"},\"type\":\"mesh3d\"}],\"parcoords\":[{\"line\":{\"colorbar\":{\"outlinewidth\":0,\"tickcolor\":\"rgb(237,237,237)\",\"ticklen\":6,\"ticks\":\"inside\"}},\"type\":\"parcoords\"}],\"pie\":[{\"automargin\":true,\"type\":\"pie\"}],\"scatter3d\":[{\"line\":{\"colorbar\":{\"outlinewidth\":0,\"tickcolor\":\"rgb(237,237,237)\",\"ticklen\":6,\"ticks\":\"inside\"}},\"marker\":{\"colorbar\":{\"outlinewidth\":0,\"tickcolor\":\"rgb(237,237,237)\",\"ticklen\":6,\"ticks\":\"inside\"}},\"type\":\"scatter3d\"}],\"scattercarpet\":[{\"marker\":{\"colorbar\":{\"outlinewidth\":0,\"tickcolor\":\"rgb(237,237,237)\",\"ticklen\":6,\"ticks\":\"inside\"}},\"type\":\"scattercarpet\"}],\"scattergeo\":[{\"marker\":{\"colorbar\":{\"outlinewidth\":0,\"tickcolor\":\"rgb(237,237,237)\",\"ticklen\":6,\"ticks\":\"inside\"}},\"type\":\"scattergeo\"}],\"scattergl\":[{\"marker\":{\"colorbar\":{\"outlinewidth\":0,\"tickcolor\":\"rgb(237,237,237)\",\"ticklen\":6,\"ticks\":\"inside\"}},\"type\":\"scattergl\"}],\"scattermapbox\":[{\"marker\":{\"colorbar\":{\"outlinewidth\":0,\"tickcolor\":\"rgb(237,237,237)\",\"ticklen\":6,\"ticks\":\"inside\"}},\"type\":\"scattermapbox\"}],\"scatterpolargl\":[{\"marker\":{\"colorbar\":{\"outlinewidth\":0,\"tickcolor\":\"rgb(237,237,237)\",\"ticklen\":6,\"ticks\":\"inside\"}},\"type\":\"scatterpolargl\"}],\"scatterpolar\":[{\"marker\":{\"colorbar\":{\"outlinewidth\":0,\"tickcolor\":\"rgb(237,237,237)\",\"ticklen\":6,\"ticks\":\"inside\"}},\"type\":\"scatterpolar\"}],\"scatter\":[{\"fillpattern\":{\"fillmode\":\"overlay\",\"size\":10,\"solidity\":0.2},\"type\":\"scatter\"}],\"scatterternary\":[{\"marker\":{\"colorbar\":{\"outlinewidth\":0,\"tickcolor\":\"rgb(237,237,237)\",\"ticklen\":6,\"ticks\":\"inside\"}},\"type\":\"scatterternary\"}],\"surface\":[{\"colorbar\":{\"outlinewidth\":0,\"tickcolor\":\"rgb(237,237,237)\",\"ticklen\":6,\"ticks\":\"inside\"},\"colorscale\":[[0,\"rgb(20,44,66)\"],[1,\"rgb(90,179,244)\"]],\"type\":\"surface\"}],\"table\":[{\"cells\":{\"fill\":{\"color\":\"rgb(237,237,237)\"},\"line\":{\"color\":\"white\"}},\"header\":{\"fill\":{\"color\":\"rgb(217,217,217)\"},\"line\":{\"color\":\"white\"}},\"type\":\"table\"}]},\"layout\":{\"annotationdefaults\":{\"arrowhead\":0,\"arrowwidth\":1},\"autotypenumbers\":\"strict\",\"coloraxis\":{\"colorbar\":{\"outlinewidth\":0,\"tickcolor\":\"rgb(237,237,237)\",\"ticklen\":6,\"ticks\":\"inside\"}},\"colorscale\":{\"sequential\":[[0,\"rgb(20,44,66)\"],[1,\"rgb(90,179,244)\"]],\"sequentialminus\":[[0,\"rgb(20,44,66)\"],[1,\"rgb(90,179,244)\"]]},\"colorway\":[\"#F8766D\",\"#A3A500\",\"#00BF7D\",\"#00B0F6\",\"#E76BF3\"],\"font\":{\"color\":\"rgb(51,51,51)\"},\"geo\":{\"bgcolor\":\"white\",\"lakecolor\":\"white\",\"landcolor\":\"rgb(237,237,237)\",\"showlakes\":true,\"showland\":true,\"subunitcolor\":\"white\"},\"hoverlabel\":{\"align\":\"left\"},\"hovermode\":\"closest\",\"paper_bgcolor\":\"white\",\"plot_bgcolor\":\"rgb(237,237,237)\",\"polar\":{\"angularaxis\":{\"gridcolor\":\"white\",\"linecolor\":\"white\",\"showgrid\":true,\"tickcolor\":\"rgb(51,51,51)\",\"ticks\":\"outside\"},\"bgcolor\":\"rgb(237,237,237)\",\"radialaxis\":{\"gridcolor\":\"white\",\"linecolor\":\"white\",\"showgrid\":true,\"tickcolor\":\"rgb(51,51,51)\",\"ticks\":\"outside\"}},\"scene\":{\"xaxis\":{\"backgroundcolor\":\"rgb(237,237,237)\",\"gridcolor\":\"white\",\"gridwidth\":2,\"linecolor\":\"white\",\"showbackground\":true,\"showgrid\":true,\"tickcolor\":\"rgb(51,51,51)\",\"ticks\":\"outside\",\"zerolinecolor\":\"white\"},\"yaxis\":{\"backgroundcolor\":\"rgb(237,237,237)\",\"gridcolor\":\"white\",\"gridwidth\":2,\"linecolor\":\"white\",\"showbackground\":true,\"showgrid\":true,\"tickcolor\":\"rgb(51,51,51)\",\"ticks\":\"outside\",\"zerolinecolor\":\"white\"},\"zaxis\":{\"backgroundcolor\":\"rgb(237,237,237)\",\"gridcolor\":\"white\",\"gridwidth\":2,\"linecolor\":\"white\",\"showbackground\":true,\"showgrid\":true,\"tickcolor\":\"rgb(51,51,51)\",\"ticks\":\"outside\",\"zerolinecolor\":\"white\"}},\"shapedefaults\":{\"fillcolor\":\"black\",\"line\":{\"width\":0},\"opacity\":0.3},\"ternary\":{\"aaxis\":{\"gridcolor\":\"white\",\"linecolor\":\"white\",\"showgrid\":true,\"tickcolor\":\"rgb(51,51,51)\",\"ticks\":\"outside\"},\"baxis\":{\"gridcolor\":\"white\",\"linecolor\":\"white\",\"showgrid\":true,\"tickcolor\":\"rgb(51,51,51)\",\"ticks\":\"outside\"},\"bgcolor\":\"rgb(237,237,237)\",\"caxis\":{\"gridcolor\":\"white\",\"linecolor\":\"white\",\"showgrid\":true,\"tickcolor\":\"rgb(51,51,51)\",\"ticks\":\"outside\"}},\"xaxis\":{\"automargin\":true,\"gridcolor\":\"white\",\"linecolor\":\"white\",\"showgrid\":true,\"tickcolor\":\"rgb(51,51,51)\",\"ticks\":\"outside\",\"title\":{\"standoff\":15},\"zerolinecolor\":\"white\"},\"yaxis\":{\"automargin\":true,\"gridcolor\":\"white\",\"linecolor\":\"white\",\"showgrid\":true,\"tickcolor\":\"rgb(51,51,51)\",\"ticks\":\"outside\",\"title\":{\"standoff\":15},\"zerolinecolor\":\"white\"}}},\"scene\":{\"domain\":{\"x\":[0.0,1.0],\"y\":[0.0,1.0]},\"xaxis\":{\"title\":{\"text\":\"gravity\"}},\"yaxis\":{\"title\":{\"text\":\"escape\"}},\"zaxis\":{\"title\":{\"text\":\"density\"}}},\"coloraxis\":{\"colorbar\":{\"title\":{\"text\":\"prediction\"}},\"colorscale\":[[0.0,\"rgb(20,44,66)\"],[1.0,\"rgb(90,179,244)\"]]},\"legend\":{\"title\":{\"text\":\"isPlanet\"},\"tracegroupgap\":0},\"margin\":{\"t\":60}},                        {\"responsive\": true}                    ).then(function(){\n",
              "                            \n",
              "var gd = document.getElementById('b8a336a5-3e89-4574-9394-24782204da6b');\n",
              "var x = new MutationObserver(function (mutations, observer) {{\n",
              "        var display = window.getComputedStyle(gd).display;\n",
              "        if (!display || display === 'none') {{\n",
              "            console.log([gd, 'removed!']);\n",
              "            Plotly.purge(gd);\n",
              "            observer.disconnect();\n",
              "        }}\n",
              "}});\n",
              "\n",
              "// Listen for the removal of the full notebook cells\n",
              "var notebookContainer = gd.closest('#notebook-container');\n",
              "if (notebookContainer) {{\n",
              "    x.observe(notebookContainer, {childList: true});\n",
              "}}\n",
              "\n",
              "// Listen for the clearing of the current output cell\n",
              "var outputEl = gd.closest('.output');\n",
              "if (outputEl) {{\n",
              "    x.observe(outputEl, {childList: true});\n",
              "}}\n",
              "\n",
              "                        })                };                            </script>        </div>\n",
              "</body>\n",
              "</html>"
            ]
          },
          "metadata": {}
        }
      ]
    },
    {
      "cell_type": "markdown",
      "source": [
        "The chart shows how well-defined the clusters are, with the bodies being split into large planetary bodies (Saturn and Neptune for example), smaller planetary bodies (including Earth and Mars) and the non-planets (like the Moon and Mars satellite Phobos). This model could now be used in practice to generate an unsupervised classification as to what kind of body something is once we know those measurable features like density, escape velocity and gravity. If other data has been used to cluster a different set of clusters could be produced perhaps to further classify those other bodies. This is an example of how future work could be done to refine the model built here.\n",
        "\n",
        "However this refining is something for another time. The third and final part of this tutorial will focus on bringing the model into production so that stakeholders can view and interact with the modelling process in a more hands-on fashion. Please do stick around for more!\n"
      ],
      "metadata": {
        "id": "fpp7luGfbyPd"
      }
    }
  ]
}